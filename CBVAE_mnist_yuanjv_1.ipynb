{
 "cells": [
  {
   "cell_type": "code",
   "execution_count": 1,
   "metadata": {},
   "outputs": [],
   "source": [
    "def mul(*v):\n",
    "    ret=1\n",
    "    for x in v:\n",
    "        ret*=x\n",
    "    return ret"
   ]
  },
  {
   "cell_type": "code",
   "execution_count": 2,
   "metadata": {},
   "outputs": [
    {
     "data": {
      "text/plain": [
       "device(type='cuda')"
      ]
     },
     "execution_count": 2,
     "metadata": {},
     "output_type": "execute_result"
    }
   ],
   "source": [
    "import torch\n",
    "import torch.nn as nn\n",
    "import torch.nn.functional as F\n",
    "import torchvision\n",
    "from torchvision import transforms\n",
    "#from torchvision.utils import save_image\n",
    "#from tqdm import tqdm\n",
    "\n",
    "#from torchsummary import summary\n",
    "from matplotlib import pyplot as plt\n",
    "import numpy as np\n",
    "#import cv2\n",
    "\n",
    "device = torch.device('cuda' if torch.cuda.is_available() else 'cpu')\n",
    "device"
   ]
  },
  {
   "cell_type": "code",
   "execution_count": 3,
   "metadata": {},
   "outputs": [],
   "source": [
    "SEED=42"
   ]
  },
  {
   "cell_type": "code",
   "execution_count": 4,
   "metadata": {},
   "outputs": [],
   "source": [
    "l = torchvision.datasets.MNIST(root='./mnist_data/', train = True, download = True, transform = transforms.ToTensor())\n",
    "t = torchvision.datasets.MNIST(root='./mnist_data/', train = False, download = True, transform = transforms.ToTensor())"
   ]
  },
  {
   "cell_type": "code",
   "execution_count": 5,
   "metadata": {},
   "outputs": [
    {
     "data": {
      "text/plain": [
       "(torch.Size([60000, 28, 28]), torch.Size([60000]))"
      ]
     },
     "execution_count": 5,
     "metadata": {},
     "output_type": "execute_result"
    }
   ],
   "source": [
    "l.data.shape,l.targets.shape"
   ]
  },
  {
   "cell_type": "code",
   "execution_count": 6,
   "metadata": {},
   "outputs": [
    {
     "data": {
      "text/plain": [
       "(torch.Size([28, 28]), tensor(5))"
      ]
     },
     "execution_count": 6,
     "metadata": {},
     "output_type": "execute_result"
    }
   ],
   "source": [
    "l.data[0].shape,l.targets[0]"
   ]
  },
  {
   "cell_type": "code",
   "execution_count": 7,
   "metadata": {},
   "outputs": [
    {
     "data": {
      "text/plain": [
       "((28, 28), 784)"
      ]
     },
     "execution_count": 7,
     "metadata": {},
     "output_type": "execute_result"
    }
   ],
   "source": [
    "img_shape=tuple(l.data[0].shape)\n",
    "img_dim=mul(*img_shape)\n",
    "img_shape,img_dim"
   ]
  },
  {
   "cell_type": "code",
   "execution_count": 8,
   "metadata": {},
   "outputs": [],
   "source": [
    "x_l=l.data.numpy()\n",
    "y_l=l.targets.numpy()\n",
    "x_t=t.data.numpy()\n",
    "y_t=t.targets.numpy()"
   ]
  },
  {
   "cell_type": "code",
   "execution_count": 9,
   "metadata": {},
   "outputs": [],
   "source": [
    "IMG_DTYPE=np.float32\n",
    "\n",
    "#training set\n",
    "yl=y_l #get selected imgs\n",
    "xl=x_l.astype(IMG_DTYPE)/255 #color 0~255\n",
    "\n",
    "#testing set\n",
    "T_SIZE=1000\n",
    "yt=y_t[:T_SIZE]\n",
    "xt=x_t[:T_SIZE].astype(IMG_DTYPE)/255"
   ]
  },
  {
   "cell_type": "code",
   "execution_count": 10,
   "metadata": {},
   "outputs": [
    {
     "data": {
      "text/plain": [
       "<matplotlib.image.AxesImage at 0x7f367b547c80>"
      ]
     },
     "execution_count": 10,
     "metadata": {},
     "output_type": "execute_result"
    },
    {
     "data": {
      "image/png": "[encoded data removed]",
      "text/plain": [
       "<Figure size 640x480 with 1 Axes>"
      ]
     },
     "metadata": {},
     "output_type": "display_data"
    }
   ],
   "source": [
    "plt.imshow(xl[0], cmap='gray') "
   ]
  },
  {
   "cell_type": "code",
   "execution_count": 11,
   "metadata": {},
   "outputs": [],
   "source": [
    "L_BATCH_SIZE=64\n",
    "T_BATCH_SIZE=100\n",
    "\n",
    "\n",
    "#create dataloaders\n",
    "ld=torch.utils.data.DataLoader(\n",
    "    list(zip(xl,yl)),shuffle=True,batch_size=L_BATCH_SIZE\n",
    ")\n",
    "td=torch.utils.data.DataLoader(\n",
    "    list(zip(xt,yt)),shuffle=True,batch_size=T_BATCH_SIZE\n",
    ")"
   ]
  },
  {
   "cell_type": "code",
   "execution_count": 12,
   "metadata": {},
   "outputs": [],
   "source": [
    "Z_DIM=16\n",
    "MID_DIM=256\n",
    "class VAE(nn.Module):\n",
    "    def __init__(self,z_dim=Z_DIM,mid_dim=MID_DIM):\n",
    "        super().__init__()\n",
    "        self.fc1 = nn.Linear(img_dim, mid_dim)\n",
    "        \n",
    "        self.fc21 = nn.Linear(mid_dim,z_dim) #mu (mean)\n",
    "        self.fc22 = nn.Linear(mid_dim, z_dim) #sigma (std)\n",
    "\n",
    "\n",
    "        self.fc3 = nn.Linear(z_dim, mid_dim)\n",
    "        self.fc4 = nn.Linear(mid_dim,img_dim)\n",
    "        \n",
    "    def encode(self,x):\n",
    "        x=torch.relu(self.fc1(x))\n",
    "        return self.fc21(x),self.fc22(x)\n",
    "\n",
    "    def decode(self,x):\n",
    "        return F.sigmoid(\n",
    "            self.fc4(\n",
    "                torch.relu(\n",
    "                    self.fc3(x)\n",
    "                )\n",
    "            )\n",
    "        )\n",
    "\n",
    "    def forward(self, x, mu_shift):\n",
    "        mu, log_std = self.encode(\n",
    "            x.view(-1, img_dim)\n",
    "        )\n",
    "        std = torch.exp(log_std*0.5)\n",
    "        e = torch.randn_like(std)\n",
    "        return self.decode(mu+mu_shift+std*e),mu,std,log_std"
   ]
  },
  {
   "cell_type": "code",
   "execution_count": 13,
   "metadata": {},
   "outputs": [],
   "source": [
    "def loss_fn(x, y, mu, std, log_std): \n",
    "    '''BCE + KLD'''\n",
    "    return F.binary_cross_entropy(y, x.view(-1, img_dim), reduction='sum') + \\\n",
    "        torch.sum(1 + log_std - mu**2 - std**2)* -0.5 *20"
   ]
  },
  {
   "cell_type": "code",
   "execution_count": 14,
   "metadata": {},
   "outputs": [],
   "source": [
    "torch.manual_seed(SEED)\n",
    "model=VAE().to(device)\n",
    "op=torch.optim.Adam(\n",
    "    model.parameters(),\n",
    "    lr=0.002\n",
    ")"
   ]
  },
  {
   "cell_type": "code",
   "execution_count": 15,
   "metadata": {},
   "outputs": [],
   "source": [
    "I=torch.eye(Z_DIM).to(device)*3"
   ]
  },
  {
   "cell_type": "code",
   "execution_count": 16,
   "metadata": {},
   "outputs": [],
   "source": [
    "def l_step(\n",
    "    model: torch.nn.Module,\n",
    "    dl: torch.utils.data.DataLoader,\n",
    "    loss_fn: torch.nn.Module,\n",
    "    op: torch.optim.Optimizer,\n",
    "    epochs:int=50\n",
    "):\n",
    "    # Put model in train mode\n",
    "    model.train()\n",
    "\n",
    "    for epoch in range(epochs):\n",
    "        epoch_loss = 0\n",
    "        for batch_idx,(x,tag) in enumerate(dl):\n",
    "            \n",
    "            x,tag=x.to(device),tag.to(device)\n",
    "\n",
    "            # 1. Forward pass\n",
    "            y,mu,std,log_std = model(x,I[tag])\n",
    "\n",
    "            # 2. Caculate the loss\n",
    "            loss=loss_fn(x,y,mu,std,log_std)\n",
    "\n",
    "            # 3. Optimizer zero grad\n",
    "            op.zero_grad()\n",
    "\n",
    "            # 4. Loss backward\n",
    "            loss.backward()\n",
    "\n",
    "            # 5. Optimizer step\n",
    "            op.step()\n",
    "\n",
    "            epoch_loss+=loss.item()\n",
    "        \n",
    "        if epoch%10==0:\n",
    "            print(epoch_loss)\n",
    "            \n",
    "    model.eval()\n"
   ]
  },
  {
   "cell_type": "code",
   "execution_count": 17,
   "metadata": {},
   "outputs": [
    {
     "name": "stdout",
     "output_type": "stream",
     "text": [
      "11188539.854003906\n",
      "10587073.0546875\n",
      "10525300.001464844\n",
      "10513092.996582031\n",
      "10501476.2421875\n"
     ]
    }
   ],
   "source": [
    "torch.manual_seed(SEED)\n",
    "l_step(\n",
    "    model,\n",
    "    ld,\n",
    "    loss_fn,\n",
    "    op,\n",
    "    50\n",
    ")"
   ]
  },
  {
   "cell_type": "code",
   "execution_count": 18,
   "metadata": {},
   "outputs": [
    {
     "data": {
      "image/png": "[encoded data removed]",
      "text/plain": [
       "<Figure size 800x800 with 16 Axes>"
      ]
     },
     "metadata": {},
     "output_type": "display_data"
    }
   ],
   "source": [
    "\"\"\"\n",
    "sample at mu (stuff after 9 should not carry any meaning)\n",
    "\"\"\"\n",
    "# Create a 3x3 grid of subplots\n",
    "fig, axes = plt.subplots(4, 4, figsize=(8, 8))\n",
    "\n",
    "# Loop through the axes and images\n",
    "for i,ax in enumerate(axes.ravel()):\n",
    "    ax.imshow(model.decode(I[i]).cpu().view(*img_shape).detach().numpy(), cmap='gray')  # Display each image\n",
    "    ax.axis('off')  # Hide axes for better visualization\n",
    "\n",
    "plt.tight_layout()\n",
    "plt.show()"
   ]
  },
  {
   "cell_type": "code",
   "execution_count": 19,
   "metadata": {},
   "outputs": [
    {
     "data": {
      "text/plain": [
       "<matplotlib.image.AxesImage at 0x7f365011a6f0>"
      ]
     },
     "execution_count": 19,
     "metadata": {},
     "output_type": "execute_result"
    },
    {
     "data": {
      "image/png": "[encoded data removed]",
      "text/plain": [
       "<Figure size 640x480 with 1 Axes>"
      ]
     },
     "metadata": {},
     "output_type": "display_data"
    }
   ],
   "source": [
    "#mid point between 0 and 3\n",
    "plt.imshow(model.decode((I[0]+I[3])*0.5).cpu().view(*img_shape).detach().numpy(), cmap='gray') "
   ]
  },
  {
   "cell_type": "code",
   "execution_count": 20,
   "metadata": {},
   "outputs": [
    {
     "data": {
      "text/plain": [
       "<matplotlib.image.AxesImage at 0x7f365013c770>"
      ]
     },
     "execution_count": 20,
     "metadata": {},
     "output_type": "execute_result"
    },
    {
     "data": {
      "image/png": "[encoded data removed]",
      "text/plain": [
       "<Figure size 640x480 with 1 Axes>"
      ]
     },
     "metadata": {},
     "output_type": "display_data"
    }
   ],
   "source": [
    "#sum 0 and 3\n",
    "plt.imshow(model.decode(I[0]+I[3]).cpu().view(*img_shape).detach().numpy(), cmap='gray') "
   ]
  },
  {
   "cell_type": "code",
   "execution_count": 21,
   "metadata": {},
   "outputs": [],
   "source": [
    "def sample(num,std=0.25):\n",
    "    return I[num]+torch.normal(0,std,size=(1,Z_DIM)).to(device)\n"
   ]
  },
  {
   "cell_type": "code",
   "execution_count": 22,
   "metadata": {},
   "outputs": [
    {
     "data": {
      "text/plain": [
       "<matplotlib.image.AxesImage at 0x7f364c68ebd0>"
      ]
     },
     "execution_count": 22,
     "metadata": {},
     "output_type": "execute_result"
    },
    {
     "data": {
      "image/png": "[encoded data removed]",
      "text/plain": [
       "<Figure size 640x480 with 1 Axes>"
      ]
     },
     "metadata": {},
     "output_type": "display_data"
    }
   ],
   "source": [
    "plt.imshow(model.decode(sample(0,0.2)).cpu().view(*img_shape).detach().numpy(), cmap='gray') "
   ]
  },
  {
   "cell_type": "markdown",
   "metadata": {},
   "source": [
    "NEXT GOAL:\n",
    "\n",
    "try to train on the shifted mu instead of shifting the mu on training (shifting the mu on training makes distant means unusable)\n",
    "\n",
    "MORE GOALS (working toward img gen model):\n",
    "\n",
    "text embeding instead of manually set mus\n",
    "\n",
    "design a loss function that trains std (std not just 1)"
   ]
  }
 ],
 "metadata": {
  "kernelspec": {
   "display_name": "3.12",
   "language": "python",
   "name": "python3"
  },
  "language_info": {
   "codemirror_mode": {
    "name": "ipython",
    "version": 3
   },
   "file_extension": ".py",
   "mimetype": "text/x-python",
   "name": "python",
   "nbconvert_exporter": "python",
   "pygments_lexer": "ipython3",
   "version": "3.12.8"
  }
 },
 "nbformat": 4,
 "nbformat_minor": 2
}
