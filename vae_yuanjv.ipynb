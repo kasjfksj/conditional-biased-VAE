{
 "cells": [
  {
   "cell_type": "code",
   "execution_count": 1,
   "metadata": {},
   "outputs": [
    {
     "name": "stdout",
     "output_type": "stream",
     "text": [
      "Sun Dec 29 16:56:01 2024       \n",
      "+---------------------------------------------------------------------------------------+\n",
      "| NVIDIA-SMI 535.183.01             Driver Version: 535.183.01   CUDA Version: 12.2     |\n",
      "|-----------------------------------------+----------------------+----------------------+\n",
      "| GPU  Name                 Persistence-M | Bus-Id        Disp.A | Volatile Uncorr. ECC |\n",
      "| Fan  Temp   Perf          Pwr:Usage/Cap |         Memory-Usage | GPU-Util  Compute M. |\n",
      "|                                         |                      |               MIG M. |\n",
      "|=========================================+======================+======================|\n",
      "|   0  NVIDIA GeForce RTX 4060 ...    On  | 00000000:01:00.0 Off |                  N/A |\n",
      "| N/A   42C    P8               2W / 140W |    421MiB /  8188MiB |      0%      Default |\n",
      "|                                         |                      |                  N/A |\n",
      "+-----------------------------------------+----------------------+----------------------+\n",
      "                                                                                         \n",
      "+---------------------------------------------------------------------------------------+\n",
      "| Processes:                                                                            |\n",
      "|  GPU   GI   CI        PID   Type   Process name                            GPU Memory |\n",
      "|        ID   ID                                                             Usage      |\n",
      "|=======================================================================================|\n",
      "|    0   N/A  N/A      1401      C   venv/bin/python                             154MiB |\n",
      "|    0   N/A  N/A    416724      C   .../co/miniconda3/envs/3.12/bin/python      158MiB |\n",
      "|    0   N/A  N/A    800505      G   /usr/bin/gnome-shell                          2MiB |\n",
      "|    0   N/A  N/A   3520085      C   .../co/miniconda3/envs/3.12/bin/python       94MiB |\n",
      "+---------------------------------------------------------------------------------------+\n"
     ]
    }
   ],
   "source": [
    "!nvidia-smi"
   ]
  },
  {
   "cell_type": "code",
   "execution_count": 2,
   "metadata": {},
   "outputs": [],
   "source": [
    "def mul(*v):\n",
    "    ret=1\n",
    "    for x in v:\n",
    "        ret*=x\n",
    "    return ret"
   ]
  },
  {
   "cell_type": "code",
   "execution_count": 3,
   "metadata": {},
   "outputs": [
    {
     "data": {
      "text/plain": [
       "device(type='cuda')"
      ]
     },
     "execution_count": 3,
     "metadata": {},
     "output_type": "execute_result"
    }
   ],
   "source": [
    "import torch\n",
    "import torch.nn as nn\n",
    "import torch.nn.functional as F\n",
    "import torchvision\n",
    "from torchvision import transforms\n",
    "from torchvision.utils import save_image\n",
    "from tqdm import tqdm\n",
    "\n",
    "from torchsummary import summary\n",
    "from matplotlib import pyplot as plt\n",
    "import numpy as np\n",
    "import cv2\n",
    "\n",
    "device = torch.device('cuda' if torch.cuda.is_available() else 'cpu')\n",
    "device"
   ]
  },
  {
   "cell_type": "code",
   "execution_count": 4,
   "metadata": {},
   "outputs": [],
   "source": [
    "l = torchvision.datasets.MNIST(root='./mnist_data/', train = True, download = True, transform = transforms.ToTensor())\n",
    "t = torchvision.datasets.MNIST(root='./mnist_data/', train = False, download = True, transform = transforms.ToTensor())"
   ]
  },
  {
   "cell_type": "code",
   "execution_count": 5,
   "metadata": {},
   "outputs": [
    {
     "data": {
      "text/plain": [
       "(torch.Size([60000, 28, 28]), torch.Size([60000]))"
      ]
     },
     "execution_count": 5,
     "metadata": {},
     "output_type": "execute_result"
    }
   ],
   "source": [
    "l.data.shape,l.targets.shape"
   ]
  },
  {
   "cell_type": "code",
   "execution_count": 6,
   "metadata": {},
   "outputs": [
    {
     "data": {
      "text/plain": [
       "(torch.Size([28, 28]), tensor(5))"
      ]
     },
     "execution_count": 6,
     "metadata": {},
     "output_type": "execute_result"
    }
   ],
   "source": [
    "l.data[0].shape,l.targets[0]"
   ]
  },
  {
   "cell_type": "code",
   "execution_count": 7,
   "metadata": {},
   "outputs": [
    {
     "data": {
      "text/plain": [
       "<matplotlib.image.AxesImage at 0x7f5969bb3e00>"
      ]
     },
     "execution_count": 7,
     "metadata": {},
     "output_type": "execute_result"
    },
    {
     "data": {
      "image/png": "[encoded data removed]",
      "text/plain": [
       "<Figure size 640x480 with 1 Axes>"
      ]
     },
     "metadata": {},
     "output_type": "display_data"
    }
   ],
   "source": [
    "plt.imshow(l.data[0].numpy(), cmap='gray') "
   ]
  },
  {
   "cell_type": "code",
   "execution_count": 8,
   "metadata": {},
   "outputs": [],
   "source": [
    "x_l=l.data.numpy()\n",
    "y_l=l.targets.numpy()\n",
    "x_t=t.data.numpy()\n",
    "y_t=t.targets.numpy()"
   ]
  },
  {
   "cell_type": "code",
   "execution_count": 9,
   "metadata": {},
   "outputs": [],
   "source": [
    "'''\n",
    "take first NUM_SIZE of imgs for each num\n",
    "'''\n",
    "L_NUM_SIZE=1000\n",
    "count=np.zeros(10)\n",
    "idx=[]\n",
    "for i,num in enumerate(y_l):\n",
    "    for j in range(10): #0~9 all imgs\n",
    "        if num==j:\n",
    "            count[j]+=1 #count each num in the training set\n",
    "            if count[j]<=L_NUM_SIZE:\n",
    "                idx.append(i)\n",
    "\n",
    "idx=np.array(idx)\n"
   ]
  },
  {
   "cell_type": "code",
   "execution_count": 10,
   "metadata": {},
   "outputs": [],
   "source": [
    "IMG_SIZE=(14,14)\n",
    "IMG_DTYPE=np.float32\n",
    "COLOR_THRESHOLD=128\n",
    "\n",
    "img_dim=mul(*IMG_SIZE)\n",
    "\n",
    "#training set\n",
    "yl=y_l[idx] #get selected imgs\n",
    "\n",
    "xl=np.zeros([L_NUM_SIZE*10,*IMG_SIZE]).astype(IMG_DTYPE) #get an array that fit the data and uses the correct dtype\n",
    "for i,img in enumerate(x_l[idx]):\n",
    "    xl[i]=np.where( #make img 0 and 1 only\n",
    "        cv2.resize( #resize img\n",
    "            img,IMG_SIZE\n",
    "        ) > COLOR_THRESHOLD,\n",
    "        1,0\n",
    "    )\n",
    "\n",
    "\n",
    "#testing set\n",
    "T_SIZE=1000\n",
    "yt=y_t[:T_SIZE]\n",
    "\n",
    "xt=np.zeros([T_SIZE,*IMG_SIZE]).astype(IMG_DTYPE)\n",
    "for i,img in enumerate(x_t[:T_SIZE]):\n",
    "    xt[i]=np.where(\n",
    "        cv2.resize(\n",
    "            img,IMG_SIZE\n",
    "        ) > COLOR_THRESHOLD,\n",
    "        1,0\n",
    "    )"
   ]
  },
  {
   "cell_type": "code",
   "execution_count": 11,
   "metadata": {},
   "outputs": [
    {
     "data": {
      "text/plain": [
       "<matplotlib.image.AxesImage at 0x7f5965708b00>"
      ]
     },
     "execution_count": 11,
     "metadata": {},
     "output_type": "execute_result"
    },
    {
     "data": {
      "image/png": "[encoded data removed]",
      "text/plain": [
       "<Figure size 640x480 with 1 Axes>"
      ]
     },
     "metadata": {},
     "output_type": "display_data"
    }
   ],
   "source": [
    "plt.imshow(xl[0], cmap='gray') "
   ]
  },
  {
   "cell_type": "code",
   "execution_count": 12,
   "metadata": {},
   "outputs": [],
   "source": [
    "L_BATCH_SIZE=32\n",
    "T_BATCH_SIZE=100\n",
    "\n",
    "\n",
    "#create dataloaders\n",
    "ld=torch.utils.data.DataLoader(\n",
    "    list(zip(xl,yl)),shuffle=True,batch_size=L_BATCH_SIZE\n",
    ")\n",
    "td=torch.utils.data.DataLoader(\n",
    "    list(zip(xt,yt)),shuffle=True,batch_size=T_BATCH_SIZE\n",
    ")"
   ]
  },
  {
   "cell_type": "code",
   "execution_count": 13,
   "metadata": {},
   "outputs": [],
   "source": [
    "Z_DIM=8\n",
    "MID_DIM=128\n",
    "\n",
    "#for this setup: 196 -> 128 -> 8 -> 128 -> 196\n",
    "#img = a point in h*w(*color) dim space\n",
    "\n",
    "class VAE(nn.Module):\n",
    "    def __init__(self):\n",
    "        super().__init__()\n",
    "\n",
    "        self.fc1 = nn.Linear(img_dim, MID_DIM) #Encoder\n",
    "        self.fc21 = nn.Linear(MID_DIM, Z_DIM) #mu\n",
    "        self.fc22 = nn.Linear(MID_DIM, Z_DIM) #sigma\n",
    "\n",
    "        self.fc3 = nn.Linear(Z_DIM, MID_DIM) #Decoder\n",
    "        self.fc4 = nn.Linear(MID_DIM, img_dim)\n",
    "        \n",
    "    def encoder(self, x):\n",
    "        h = torch.tanh(self.fc1(x))\n",
    "        return self.fc21(h), self.fc22(h) # mu, std\n",
    "    \n",
    "    def decoder(self, z):\n",
    "        h = torch.tanh(self.fc3(z))\n",
    "        return torch.sigmoid(self.fc4(h)) \n",
    "    \n",
    "    def forward(self, x):\n",
    "        mu, std = self.encoder(x.view(-1, img_dim)) #flatten\n",
    "\n",
    "        e1=torch.randn_like(std)\n",
    "        e2=torch.randn_like(std)\n",
    "        z = mu+std*(e1+e2)*0.5\n",
    "        \n",
    "        return self.decoder(z), mu, std"
   ]
  },
  {
   "cell_type": "code",
   "execution_count": 14,
   "metadata": {},
   "outputs": [],
   "source": [
    "def loss_fn(y, x, mu, std): \n",
    "    '''BCE + KLD'''\n",
    "    return F.binary_cross_entropy(y, x.view(-1, img_dim), reduction='sum') + \\\n",
    "        torch.sum(1 + torch.log(std**2) - mu**2 - std**2)* -0.5"
   ]
  },
  {
   "cell_type": "code",
   "execution_count": 15,
   "metadata": {},
   "outputs": [],
   "source": [
    "model=VAE().to(device)\n",
    "op=torch.optim.Adam(\n",
    "    model.parameters(),\n",
    "    lr=0.002\n",
    ")"
   ]
  },
  {
   "cell_type": "code",
   "execution_count": 16,
   "metadata": {},
   "outputs": [
    {
     "data": {
      "text/plain": [
       "VAE(\n",
       "  (fc1): Linear(in_features=196, out_features=128, bias=True)\n",
       "  (fc21): Linear(in_features=128, out_features=8, bias=True)\n",
       "  (fc22): Linear(in_features=128, out_features=8, bias=True)\n",
       "  (fc3): Linear(in_features=8, out_features=128, bias=True)\n",
       "  (fc4): Linear(in_features=128, out_features=196, bias=True)\n",
       ")"
      ]
     },
     "execution_count": 16,
     "metadata": {},
     "output_type": "execute_result"
    }
   ],
   "source": [
    "model"
   ]
  },
  {
   "cell_type": "code",
   "execution_count": 17,
   "metadata": {},
   "outputs": [],
   "source": [
    "def l_step(\n",
    "    model: torch.nn.Module,\n",
    "    dl: torch.utils.data.DataLoader,\n",
    "    loss_fn: torch.nn.Module,\n",
    "    op: torch.optim.Optimizer,\n",
    "    epochs:int=50\n",
    "):\n",
    "    # Put model in train mode\n",
    "    model.train()\n",
    "\n",
    "    for epoch in range(epochs):\n",
    "        epoch_loss = 0\n",
    "        for batch_idx,(x,_) in enumerate(dl):\n",
    "            x=x.to(device)\n",
    "\n",
    "            # 1. Forward pass\n",
    "            y,mu,std = model(x)\n",
    "\n",
    "            # 2. Caculate the loss\n",
    "            loss=loss_fn(y,x,mu,std)\n",
    "\n",
    "            # 3. Optimizer zero grad\n",
    "            op.zero_grad()\n",
    "\n",
    "            # 4. Loss backward\n",
    "            loss.backward()\n",
    "\n",
    "            # 5. Optimizer step\n",
    "            op.step()\n",
    "\n",
    "            epoch_loss+=loss.item()\n",
    "        \n",
    "        if epoch%4==0:\n",
    "            print(epoch_loss)\n",
    "            \n",
    "    model.eval()\n"
   ]
  },
  {
   "cell_type": "code",
   "execution_count": 18,
   "metadata": {},
   "outputs": [
    {
     "name": "stdout",
     "output_type": "stream",
     "text": [
      "520304.13775634766\n",
      "356741.2670288086\n",
      "340756.05194091797\n",
      "331709.6969909668\n",
      "326013.56481933594\n",
      "322678.8666381836\n",
      "318548.5367126465\n",
      "316674.9764404297\n",
      "314245.59478759766\n",
      "313166.77713012695\n",
      "311395.6617126465\n",
      "310125.26403808594\n",
      "308893.7844238281\n",
      "308883.22186279297\n",
      "308062.8678894043\n",
      "306764.83361816406\n",
      "306196.5369567871\n",
      "305945.34591674805\n",
      "304968.96908569336\n",
      "304471.4583129883\n",
      "303980.33752441406\n",
      "303729.53143310547\n",
      "303370.1037597656\n",
      "303047.17126464844\n",
      "302629.15731811523\n"
     ]
    }
   ],
   "source": [
    "l_step(\n",
    "    model,\n",
    "    ld,\n",
    "    loss_fn,\n",
    "    op,\n",
    "    100\n",
    ")"
   ]
  },
  {
   "cell_type": "code",
   "execution_count": 24,
   "metadata": {},
   "outputs": [
    {
     "data": {
      "text/plain": [
       "array([3.5840384e-13, 2.6748452e-13, 2.5158250e-13, 2.2021991e-13,\n",
       "       2.0146975e-13, 2.5219025e-13, 2.4222066e-13, 2.3619344e-13,\n",
       "       1.4937160e-13, 2.0869219e-13, 2.5406305e-13, 2.4395470e-13,\n",
       "       1.8620542e-13, 1.9917687e-13, 2.2983788e-13, 2.2874015e-13,\n",
       "       2.0605911e-13, 3.2556762e-13, 8.5589910e-11, 9.4099981e-09,\n",
       "       5.6656813e-07, 9.5181338e-07, 3.1150455e-07, 3.8812309e-06,\n",
       "       3.8372355e-07, 9.9742241e-09, 3.6600012e-13, 3.0711273e-13,\n",
       "       1.9879430e-13, 3.1603580e-13, 4.4761839e-09, 4.9880970e-07,\n",
       "       6.8795174e-08, 6.0981224e-06, 6.9407841e-05, 7.6168211e-04,\n",
       "       1.0016641e-03, 1.0199036e-03, 6.7711901e-04, 3.8423615e-03,\n",
       "       2.2835990e-05, 3.2615124e-13, 2.1414583e-13, 1.7470374e-13,\n",
       "       5.5007834e-09, 5.2004503e-07, 1.5877681e-04, 2.7280010e-03,\n",
       "       1.6260511e-01, 6.5685272e-01, 9.0128815e-01, 8.6894608e-01,\n",
       "       5.9706008e-01, 3.0111730e-01, 3.3681810e-02, 1.4019970e-06,\n",
       "       1.3804978e-09, 5.3904927e-08, 2.4308915e-07, 1.0021430e-04,\n",
       "       5.7497281e-03, 4.6764120e-01, 9.6968085e-01, 9.3012094e-01,\n",
       "       7.2366494e-01, 4.9862927e-01, 7.8593153e-01, 3.5174721e-01,\n",
       "       6.9419574e-03, 1.9588968e-13, 3.2561668e-13, 9.7230322e-06,\n",
       "       2.1437485e-05, 4.2726612e-04, 5.8905311e-02, 9.5158756e-01,\n",
       "       7.8725016e-01, 1.6680831e-02, 9.0334043e-03, 1.9080299e-01,\n",
       "       7.8243715e-01, 1.4069210e-01, 4.2487020e-03, 1.7273395e-13,\n",
       "       3.2880708e-13, 7.5110570e-08, 2.8091703e-05, 1.0012415e-03,\n",
       "       2.6857108e-01, 8.9409572e-01, 3.9500844e-01, 2.5396574e-02,\n",
       "       1.1494858e-01, 6.9819218e-01, 3.4462351e-01, 1.7796136e-03,\n",
       "       1.1459523e-04, 1.7355328e-13, 2.2631728e-13, 1.0090545e-12,\n",
       "       2.2320835e-05, 1.6169164e-03, 1.8630546e-01, 4.8645738e-01,\n",
       "       5.6587189e-01, 4.7683847e-01, 5.0356042e-01, 2.1917428e-01,\n",
       "       1.9503791e-02, 2.2765163e-04, 1.1410741e-06, 2.8029464e-13,\n",
       "       3.1351424e-13, 3.4944067e-06, 9.5807780e-05, 1.4221830e-02,\n",
       "       1.7864487e-01, 2.2265312e-01, 3.3041981e-01, 5.5837560e-01,\n",
       "       6.9519329e-01, 3.1722300e-02, 1.3268834e-04, 5.6366247e-05,\n",
       "       5.2907097e-07, 3.9055892e-13, 2.3564850e-13, 9.8486262e-06,\n",
       "       8.7821187e-04, 1.4166975e-01, 1.9477214e-01, 2.0963805e-02,\n",
       "       7.7260964e-02, 7.9252285e-01, 2.9727700e-01, 1.4190387e-03,\n",
       "       1.1236534e-05, 3.1254472e-06, 2.3526182e-07, 2.6824170e-13,\n",
       "       2.3394630e-13, 1.8869281e-05, 1.5938522e-03, 6.2535638e-01,\n",
       "       3.1386158e-01, 1.4304850e-01, 8.7926549e-01, 9.6094018e-01,\n",
       "       2.7170002e-02, 1.5216763e-05, 2.4050257e-07, 1.3248703e-08,\n",
       "       4.5830964e-07, 1.8606518e-13, 2.1377161e-13, 3.1462270e-07,\n",
       "       4.6607521e-03, 5.3149486e-01, 9.7320694e-01, 9.9052852e-01,\n",
       "       9.6002442e-01, 3.3418160e-02, 2.5172383e-04, 8.3461355e-06,\n",
       "       1.2402151e-06, 9.9980376e-08, 2.3328857e-13, 2.1285698e-13,\n",
       "       2.1906365e-13, 2.5349720e-13, 1.6247248e-05, 2.5464126e-03,\n",
       "       7.8024656e-02, 3.9168470e-02, 4.5403065e-03, 8.6498570e-05,\n",
       "       1.5515212e-06, 3.6417526e-07, 7.9393254e-07, 1.1655844e-06,\n",
       "       3.3223652e-13, 3.5238457e-13, 2.6365420e-13, 2.6852939e-13,\n",
       "       4.0149286e-13, 6.4410862e-08, 1.4097422e-07, 1.2576494e-07,\n",
       "       1.0049179e-07, 8.8180701e-07, 3.1922303e-07, 6.0549565e-10,\n",
       "       4.3169204e-10, 2.0500068e-13, 1.7455186e-13, 3.1182530e-13],\n",
       "      dtype=float32)"
      ]
     },
     "execution_count": 24,
     "metadata": {},
     "output_type": "execute_result"
    }
   ],
   "source": [
    "model.decoder(torch.randn(Z_DIM).to(device)).cpu().detach().numpy()"
   ]
  },
  {
   "cell_type": "code",
   "execution_count": 25,
   "metadata": {},
   "outputs": [
    {
     "data": {
      "text/plain": [
       "<matplotlib.image.AxesImage at 0x7f595c15aba0>"
      ]
     },
     "execution_count": 25,
     "metadata": {},
     "output_type": "execute_result"
    },
    {
     "data": {
      "image/png": "[encoded data removed]",
      "text/plain": [
       "<Figure size 640x480 with 1 Axes>"
      ]
     },
     "metadata": {},
     "output_type": "display_data"
    }
   ],
   "source": [
    "plt.imshow(model.decoder(torch.randn(Z_DIM).to(device)).cpu().view(*IMG_SIZE).detach().numpy(), cmap='gray') "
   ]
  }
 ],
 "metadata": {
  "kernelspec": {
   "display_name": "3.12",
   "language": "python",
   "name": "python3"
  },
  "language_info": {
   "codemirror_mode": {
    "name": "ipython",
    "version": 3
   },
   "file_extension": ".py",
   "mimetype": "text/x-python",
   "name": "python",
   "nbconvert_exporter": "python",
   "pygments_lexer": "ipython3",
   "version": "3.12.8"
  }
 },
 "nbformat": 4,
 "nbformat_minor": 2
}
