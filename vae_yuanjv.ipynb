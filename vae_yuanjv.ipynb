{
 "cells": [
  {
   "cell_type": "code",
   "execution_count": 1,
   "metadata": {},
   "outputs": [
    {
     "name": "stdout",
     "output_type": "stream",
     "text": [
      "Sun Dec 29 20:57:34 2024       \n",
      "+---------------------------------------------------------------------------------------+\n",
      "| NVIDIA-SMI 535.183.01             Driver Version: 535.183.01   CUDA Version: 12.2     |\n",
      "|-----------------------------------------+----------------------+----------------------+\n",
      "| GPU  Name                 Persistence-M | Bus-Id        Disp.A | Volatile Uncorr. ECC |\n",
      "| Fan  Temp   Perf          Pwr:Usage/Cap |         Memory-Usage | GPU-Util  Compute M. |\n",
      "|                                         |                      |               MIG M. |\n",
      "|=========================================+======================+======================|\n",
      "|   0  NVIDIA GeForce RTX 4060 ...    On  | 00000000:01:00.0 Off |                  N/A |\n",
      "| N/A   38C    P8               2W / 140W |    165MiB /  8188MiB |      0%      Default |\n",
      "|                                         |                      |                  N/A |\n",
      "+-----------------------------------------+----------------------+----------------------+\n",
      "                                                                                         \n",
      "+---------------------------------------------------------------------------------------+\n",
      "| Processes:                                                                            |\n",
      "|  GPU   GI   CI        PID   Type   Process name                            GPU Memory |\n",
      "|        ID   ID                                                             Usage      |\n",
      "|=======================================================================================|\n",
      "|    0   N/A  N/A      1401      C   venv/bin/python                             154MiB |\n",
      "|    0   N/A  N/A    800505      G   /usr/bin/gnome-shell                          2MiB |\n",
      "+---------------------------------------------------------------------------------------+\n"
     ]
    }
   ],
   "source": [
    "!nvidia-smi"
   ]
  },
  {
   "cell_type": "code",
   "execution_count": 2,
   "metadata": {},
   "outputs": [],
   "source": [
    "def mul(*v):\n",
    "    ret=1\n",
    "    for x in v:\n",
    "        ret*=x\n",
    "    return ret"
   ]
  },
  {
   "cell_type": "code",
   "execution_count": 3,
   "metadata": {},
   "outputs": [
    {
     "data": {
      "text/plain": [
       "device(type='cuda')"
      ]
     },
     "execution_count": 3,
     "metadata": {},
     "output_type": "execute_result"
    }
   ],
   "source": [
    "import torch\n",
    "import torch.nn as nn\n",
    "import torch.nn.functional as F\n",
    "import torchvision\n",
    "from torchvision import transforms\n",
    "from torchvision.utils import save_image\n",
    "from tqdm import tqdm\n",
    "\n",
    "from torchsummary import summary\n",
    "from matplotlib import pyplot as plt\n",
    "import numpy as np\n",
    "import cv2\n",
    "\n",
    "device = torch.device('cuda' if torch.cuda.is_available() else 'cpu')\n",
    "#device = torch.device(\"cpu\") #gpu driver error, switch to cpu for now\n",
    "device"
   ]
  },
  {
   "cell_type": "code",
   "execution_count": 4,
   "metadata": {},
   "outputs": [],
   "source": [
    "l = torchvision.datasets.MNIST(root='./mnist_data/', train = True, download = True, transform = transforms.ToTensor())\n",
    "t = torchvision.datasets.MNIST(root='./mnist_data/', train = False, download = True, transform = transforms.ToTensor())"
   ]
  },
  {
   "cell_type": "code",
   "execution_count": 5,
   "metadata": {},
   "outputs": [
    {
     "data": {
      "text/plain": [
       "(torch.Size([60000, 28, 28]), torch.Size([60000]))"
      ]
     },
     "execution_count": 5,
     "metadata": {},
     "output_type": "execute_result"
    }
   ],
   "source": [
    "l.data.shape,l.targets.shape"
   ]
  },
  {
   "cell_type": "code",
   "execution_count": 6,
   "metadata": {},
   "outputs": [
    {
     "data": {
      "text/plain": [
       "(torch.Size([28, 28]), tensor(5))"
      ]
     },
     "execution_count": 6,
     "metadata": {},
     "output_type": "execute_result"
    }
   ],
   "source": [
    "l.data[0].shape,l.targets[0]"
   ]
  },
  {
   "cell_type": "code",
   "execution_count": 7,
   "metadata": {},
   "outputs": [
    {
     "data": {
      "text/plain": [
       "((28, 28), 784)"
      ]
     },
     "execution_count": 7,
     "metadata": {},
     "output_type": "execute_result"
    }
   ],
   "source": [
    "img_shape=tuple(l.data[0].shape)\n",
    "img_dim=mul(*img_shape)\n",
    "img_shape,img_dim"
   ]
  },
  {
   "cell_type": "code",
   "execution_count": 8,
   "metadata": {},
   "outputs": [],
   "source": [
    "x_l=l.data.numpy()\n",
    "y_l=l.targets.numpy()\n",
    "x_t=t.data.numpy()\n",
    "y_t=t.targets.numpy()"
   ]
  },
  {
   "cell_type": "code",
   "execution_count": 9,
   "metadata": {},
   "outputs": [],
   "source": [
    "IMG_DTYPE=np.float32\n",
    "\n",
    "#training set\n",
    "yl=y_l #get selected imgs\n",
    "xl=x_l.astype(IMG_DTYPE)/255 #color 0~255\n",
    "\n",
    "#testing set\n",
    "T_SIZE=1000\n",
    "yt=y_t[:T_SIZE]\n",
    "xt=x_t[:T_SIZE].astype(IMG_DTYPE)/255"
   ]
  },
  {
   "cell_type": "code",
   "execution_count": 10,
   "metadata": {},
   "outputs": [
    {
     "data": {
      "text/plain": [
       "<matplotlib.image.AxesImage at 0x7f73545138c0>"
      ]
     },
     "execution_count": 10,
     "metadata": {},
     "output_type": "execute_result"
    },
    {
     "data": {
      "image/png": "[encoded data removed]",
      "text/plain": [
       "<Figure size 640x480 with 1 Axes>"
      ]
     },
     "metadata": {},
     "output_type": "display_data"
    }
   ],
   "source": [
    "plt.imshow(xl[0], cmap='gray') "
   ]
  },
  {
   "cell_type": "code",
   "execution_count": 11,
   "metadata": {},
   "outputs": [],
   "source": [
    "L_BATCH_SIZE=64\n",
    "T_BATCH_SIZE=100\n",
    "\n",
    "\n",
    "#create dataloaders\n",
    "ld=torch.utils.data.DataLoader(\n",
    "    list(zip(xl,yl)),shuffle=True,batch_size=L_BATCH_SIZE\n",
    ")\n",
    "td=torch.utils.data.DataLoader(\n",
    "    list(zip(xt,yt)),shuffle=True,batch_size=T_BATCH_SIZE\n",
    ")"
   ]
  },
  {
   "cell_type": "code",
   "execution_count": 12,
   "metadata": {},
   "outputs": [],
   "source": [
    "Z_DIM=16\n",
    "MID_DIM=256\n",
    "class VAE(nn.Module):\n",
    "    def __init__(self,z_dim=Z_DIM,mid_dim=MID_DIM):\n",
    "        super().__init__()\n",
    "        self.fc1 = nn.Linear(img_dim, mid_dim)\n",
    "        \n",
    "        self.fc21 = nn.Linear(mid_dim,z_dim) #mu (mean)\n",
    "        self.fc22 = nn.Linear(mid_dim, z_dim) #sigma (std)\n",
    "\n",
    "\n",
    "        self.fc3 = nn.Linear(z_dim, mid_dim)\n",
    "        self.fc4 = nn.Linear(mid_dim,img_dim)\n",
    "        \n",
    "    def encode(self,x):\n",
    "        x=torch.relu(self.fc1(x))\n",
    "        return self.fc21(x),self.fc22(x)\n",
    "\n",
    "    def decode(self,x):\n",
    "        return F.sigmoid(\n",
    "            self.fc4(\n",
    "                torch.relu(\n",
    "                    self.fc3(x)\n",
    "                )\n",
    "            )\n",
    "        )\n",
    "\n",
    "    def forward(self, x):\n",
    "        mu, log_std = self.encode(\n",
    "            x.view(-1, img_dim)\n",
    "        )\n",
    "        std = torch.exp(log_std*0.5)\n",
    "        e = torch.randn_like(std)\n",
    "        return self.decode(mu+std*e),mu,std,log_std"
   ]
  },
  {
   "cell_type": "code",
   "execution_count": 13,
   "metadata": {},
   "outputs": [],
   "source": [
    "def loss_fn(x, y, mu, std, log_std): \n",
    "    '''BCE + KLD'''\n",
    "    return F.binary_cross_entropy(y, x.view(-1, img_dim), reduction='sum') + \\\n",
    "        torch.sum(1 + log_std - mu**2 - std**2)* -0.5"
   ]
  },
  {
   "cell_type": "code",
   "execution_count": 14,
   "metadata": {},
   "outputs": [],
   "source": [
    "model=VAE().to(device)\n",
    "op=torch.optim.Adam(\n",
    "    model.parameters(),\n",
    "    lr=0.002\n",
    ")"
   ]
  },
  {
   "cell_type": "code",
   "execution_count": 15,
   "metadata": {},
   "outputs": [
    {
     "data": {
      "text/plain": [
       "VAE(\n",
       "  (fc1): Linear(in_features=784, out_features=256, bias=True)\n",
       "  (fc21): Linear(in_features=256, out_features=16, bias=True)\n",
       "  (fc22): Linear(in_features=256, out_features=16, bias=True)\n",
       "  (fc3): Linear(in_features=16, out_features=256, bias=True)\n",
       "  (fc4): Linear(in_features=256, out_features=784, bias=True)\n",
       ")"
      ]
     },
     "execution_count": 15,
     "metadata": {},
     "output_type": "execute_result"
    }
   ],
   "source": [
    "model"
   ]
  },
  {
   "cell_type": "code",
   "execution_count": 16,
   "metadata": {},
   "outputs": [],
   "source": [
    "def l_step(\n",
    "    model: torch.nn.Module,\n",
    "    dl: torch.utils.data.DataLoader,\n",
    "    loss_fn: torch.nn.Module,\n",
    "    op: torch.optim.Optimizer,\n",
    "    epochs:int=50\n",
    "):\n",
    "    # Put model in train mode\n",
    "    model.train()\n",
    "\n",
    "    for epoch in range(epochs):\n",
    "        epoch_loss = 0\n",
    "        for batch_idx,(x,_) in enumerate(dl):\n",
    "            x=x.to(device)\n",
    "\n",
    "            # 1. Forward pass\n",
    "            y,mu,std,log_std = model(x)\n",
    "\n",
    "            # 2. Caculate the loss\n",
    "            loss=loss_fn(x,y,mu,std,log_std)\n",
    "\n",
    "            # 3. Optimizer zero grad\n",
    "            op.zero_grad()\n",
    "\n",
    "            # 4. Loss backward\n",
    "            loss.backward()\n",
    "\n",
    "            # 5. Optimizer step\n",
    "            op.step()\n",
    "\n",
    "            epoch_loss+=loss.item()\n",
    "        \n",
    "        if epoch%4==0:\n",
    "            print(epoch_loss)\n",
    "            \n",
    "    model.eval()\n"
   ]
  },
  {
   "cell_type": "code",
   "execution_count": 17,
   "metadata": {},
   "outputs": [
    {
     "name": "stdout",
     "output_type": "stream",
     "text": [
      "8582150.307128906\n",
      "6595809.7216796875\n",
      "6467724.529296875\n",
      "6401558.733886719\n",
      "6356906.764160156\n",
      "6328177.611083984\n",
      "6305542.703857422\n",
      "6284775.326904297\n",
      "6272827.873779297\n",
      "6260484.467285156\n",
      "6251860.703613281\n",
      "6241970.783447266\n",
      "6234007.8681640625\n"
     ]
    }
   ],
   "source": [
    "l_step(\n",
    "    model,\n",
    "    ld,\n",
    "    loss_fn,\n",
    "    op,\n",
    "    50\n",
    ")"
   ]
  },
  {
   "cell_type": "code",
   "execution_count": 18,
   "metadata": {},
   "outputs": [
    {
     "data": {
      "text/plain": [
       "array([2.94819681e-19, 4.61020584e-19, 5.62177897e-19, 2.68297169e-19,\n",
       "       3.13085406e-19, 3.85022280e-19, 5.17377278e-19, 5.76375212e-19,\n",
       "       3.74606938e-19, 3.41509271e-19, 4.48012445e-19, 4.60270228e-19,\n",
       "       1.45619516e-09, 1.57392286e-08, 1.73716651e-12, 1.85849898e-13,\n",
       "       3.57513820e-19, 4.22765859e-19, 5.28467909e-19, 4.00642448e-19,\n",
       "       2.99574393e-19, 3.16976593e-19, 3.36771749e-19, 4.58972743e-19,\n",
       "       2.11474398e-19, 4.56928884e-19, 4.80394240e-19, 4.73227960e-19,\n",
       "       3.98814198e-19, 2.55745427e-19, 3.02869907e-19, 2.85728346e-19,\n",
       "       3.68128770e-19, 5.21862002e-23, 8.86925707e-29, 1.03226661e-12,\n",
       "       4.31174680e-20, 2.94496563e-15, 4.17002197e-15, 8.71291581e-11,\n",
       "       1.53057229e-08, 4.80860937e-04, 1.25648512e-03, 1.81959309e-02,\n",
       "       7.92025216e-03, 3.67643172e-03, 3.23650420e-01, 7.89215386e-01,\n",
       "       3.71538810e-02, 9.27554211e-04, 8.83684208e-07, 2.91253861e-11,\n",
       "       4.43871889e-19, 2.55526017e-19, 2.48499945e-19, 2.88382665e-19,\n",
       "       3.64206512e-19, 1.71155921e-19, 2.16024463e-23, 3.63149677e-10,\n",
       "       8.06836738e-07, 7.25098706e-20, 3.42559341e-13, 4.86870310e-13,\n",
       "       4.91051466e-08, 3.49411877e-08, 1.27941294e-14, 3.62322282e-07,\n",
       "       9.67582309e-05, 8.34871270e-03, 4.63091506e-04, 6.17244281e-03,\n",
       "       1.34177087e-02, 1.71755180e-02, 2.08541945e-01, 3.36757272e-01,\n",
       "       2.74870023e-02, 1.06157381e-02, 1.60839676e-03, 6.07338687e-03,\n",
       "       2.40205045e-04, 7.08789898e-08, 4.17386471e-19, 3.64505357e-19,\n",
       "       3.55482083e-19, 3.74374087e-19, 1.28973531e-14, 6.83646358e-04,\n",
       "       5.02699287e-08, 9.33317226e-13, 7.51377110e-14, 5.74293191e-09,\n",
       "       1.24723174e-05, 1.33068461e-05, 6.24538370e-06, 1.75111074e-06,\n",
       "       2.38877169e-06, 4.88147962e-05, 3.41439358e-04, 4.08928329e-03,\n",
       "       1.66811217e-02, 6.70294985e-02, 1.00910157e-01, 4.11715955e-02,\n",
       "       1.61347035e-02, 1.05426265e-02, 1.04487501e-02, 1.36478459e-02,\n",
       "       1.87938684e-03, 7.84655367e-06, 1.70726978e-14, 5.10671273e-19,\n",
       "       3.64787736e-19, 7.71978251e-28, 2.54611074e-14, 2.12137790e-11,\n",
       "       4.67376651e-07, 5.23860479e-07, 1.66018549e-06, 2.21164987e-06,\n",
       "       1.74988854e-05, 3.40317310e-05, 1.02579543e-05, 8.70860617e-07,\n",
       "       8.62978686e-06, 6.85757186e-05, 5.15047694e-04, 2.18904298e-03,\n",
       "       2.45631561e-02, 1.13819301e-01, 8.79251286e-02, 3.25534046e-02,\n",
       "       2.20725555e-02, 2.16513816e-02, 1.97354034e-02, 1.02708368e-02,\n",
       "       9.26452747e-04, 3.56051851e-06, 2.39820045e-13, 1.21617594e-18,\n",
       "       4.39915639e-19, 4.21855676e-19, 3.41023607e-12, 1.41860437e-06,\n",
       "       5.89139836e-06, 2.92511959e-06, 7.04157083e-06, 1.43260095e-05,\n",
       "       3.02702338e-05, 9.51936545e-06, 2.10800213e-08, 7.48235777e-07,\n",
       "       9.33011397e-05, 1.41999254e-03, 1.08433170e-02, 4.49357033e-02,\n",
       "       1.32014588e-01, 1.04960181e-01, 6.04474433e-02, 4.32847627e-02,\n",
       "       2.38189120e-02, 1.97638497e-02, 1.21385390e-02, 5.12087392e-03,\n",
       "       5.43827657e-03, 2.15495878e-04, 1.40408735e-12, 4.60401685e-20,\n",
       "       2.61084206e-19, 2.10373073e-17, 4.14372209e-07, 4.14260697e-08,\n",
       "       6.79601681e-06, 8.19876186e-06, 2.72156249e-05, 2.78721964e-05,\n",
       "       1.08548142e-04, 1.46697687e-06, 4.26681801e-08, 1.26669502e-05,\n",
       "       2.92390236e-04, 4.32391185e-03, 2.47878581e-02, 4.28689495e-02,\n",
       "       3.91031355e-02, 4.02885787e-02, 2.66614519e-02, 3.44621316e-02,\n",
       "       4.13941592e-02, 4.91647758e-02, 3.42934951e-02, 1.25705823e-02,\n",
       "       5.26110129e-03, 4.53635912e-05, 3.46861706e-10, 2.02899879e-30,\n",
       "       3.57830181e-35, 4.40867648e-10, 1.99856441e-14, 2.15205702e-07,\n",
       "       3.91946833e-06, 2.20635102e-05, 7.98074470e-05, 1.94072945e-05,\n",
       "       1.06653806e-05, 2.95289265e-10, 8.56186659e-07, 2.14300035e-05,\n",
       "       3.45120585e-04, 4.82060853e-03, 4.15426046e-02, 4.02911752e-02,\n",
       "       1.06087783e-02, 1.12580033e-02, 2.03502495e-02, 6.58314750e-02,\n",
       "       1.60469726e-01, 1.45746440e-01, 7.04777241e-02, 3.43591869e-02,\n",
       "       2.06293887e-03, 2.63476477e-06, 2.41682924e-10, 6.91956626e-22,\n",
       "       3.70342075e-16, 1.62633674e-11, 2.20053004e-11, 5.96615052e-07,\n",
       "       6.46888248e-06, 5.32332269e-05, 3.07596347e-05, 9.29934777e-06,\n",
       "       2.68981239e-06, 2.35603252e-08, 2.86335285e-06, 5.99611303e-05,\n",
       "       1.46610592e-03, 1.83044728e-02, 6.01972975e-02, 2.55962964e-02,\n",
       "       1.13039492e-02, 1.37565518e-02, 2.65485346e-02, 1.39777467e-01,\n",
       "       3.34570050e-01, 2.79928744e-01, 1.43168002e-01, 1.70073137e-02,\n",
       "       1.00056443e-03, 7.37020218e-06, 1.45010386e-08, 2.57331656e-20,\n",
       "       7.57371231e-33, 2.40765242e-12, 2.93845191e-11, 6.75390979e-08,\n",
       "       1.02035915e-06, 5.95971978e-05, 1.85622594e-05, 3.63051799e-06,\n",
       "       1.16880594e-08, 3.11013878e-07, 1.49832249e-05, 2.93931080e-04,\n",
       "       4.44739591e-03, 4.04853746e-02, 8.07702765e-02, 4.29945104e-02,\n",
       "       2.49393489e-02, 1.89835466e-02, 4.13468145e-02, 1.83964059e-01,\n",
       "       2.46625692e-01, 1.62093937e-01, 5.63159660e-02, 1.03735300e-02,\n",
       "       8.11086851e-04, 2.55473078e-05, 1.31747431e-08, 2.52066479e-22,\n",
       "       1.05227522e-34, 1.34373641e-11, 2.53010790e-09, 5.81003121e-07,\n",
       "       1.12578789e-06, 8.02225331e-05, 5.90888658e-06, 4.15029518e-07,\n",
       "       9.37519502e-08, 8.80850621e-06, 3.56660399e-04, 3.47429747e-03,\n",
       "       4.30749953e-02, 1.64439738e-01, 1.72938004e-01, 4.83506359e-02,\n",
       "       2.37490423e-02, 1.89828258e-02, 8.19115937e-02, 1.78232118e-01,\n",
       "       1.49499267e-01, 9.87311080e-02, 3.56767289e-02, 1.26718571e-02,\n",
       "       9.58400022e-04, 1.49185362e-05, 3.74053705e-11, 1.00876388e-27,\n",
       "       5.25270248e-34, 8.37218003e-11, 2.50440917e-06, 2.10316175e-05,\n",
       "       4.80391918e-07, 2.88569554e-05, 9.78985645e-06, 3.80327651e-06,\n",
       "       6.78931201e-06, 9.95922484e-04, 1.04510318e-02, 1.65023655e-01,\n",
       "       5.32270253e-01, 6.81345463e-01, 2.89063394e-01, 4.67710271e-02,\n",
       "       1.85214616e-02, 3.21134031e-02, 9.57127810e-02, 9.81049314e-02,\n",
       "       4.39943671e-02, 1.71461236e-02, 1.62082016e-02, 8.92670080e-03,\n",
       "       1.46547565e-03, 4.73587306e-06, 6.78856103e-12, 6.26028301e-21,\n",
       "       0.00000000e+00, 1.28270739e-13, 2.54250554e-05, 3.22722553e-05,\n",
       "       1.16205388e-06, 4.73605780e-07, 8.41154761e-05, 1.36181698e-04,\n",
       "       3.45335458e-03, 4.10259850e-02, 3.85728955e-01, 7.92823911e-01,\n",
       "       8.67276788e-01, 5.73756516e-01, 1.47630394e-01, 3.69286686e-02,\n",
       "       2.76910570e-02, 7.39652663e-02, 1.13450967e-01, 9.37133729e-02,\n",
       "       2.44814642e-02, 5.52514475e-03, 8.45410489e-03, 3.33777606e-03,\n",
       "       1.39423111e-03, 1.00369255e-06, 3.43464786e-13, 8.69719864e-17,\n",
       "       3.74312689e-34, 1.47785835e-16, 6.48488552e-08, 5.18533898e-06,\n",
       "       8.74211764e-06, 4.62933764e-04, 6.56237127e-03, 2.68357061e-02,\n",
       "       1.86419100e-01, 6.48739517e-01, 9.36697245e-01, 9.52131748e-01,\n",
       "       8.34375799e-01, 4.54273343e-01, 2.53770679e-01, 1.15824156e-01,\n",
       "       1.58248231e-01, 3.13875943e-01, 3.05943519e-01, 1.61598459e-01,\n",
       "       3.15220542e-02, 1.13993874e-02, 8.90976191e-03, 3.30164982e-03,\n",
       "       7.77408888e-04, 2.48295351e-06, 9.61215463e-09, 9.20591405e-20,\n",
       "       3.18041224e-34, 2.94731536e-22, 1.83088397e-12, 4.08527683e-07,\n",
       "       1.25001883e-04, 1.11311534e-02, 1.68993607e-01, 4.47119147e-01,\n",
       "       7.99065351e-01, 9.56912100e-01, 9.75601971e-01, 9.48158979e-01,\n",
       "       8.47081721e-01, 7.03816414e-01, 6.57004476e-01, 5.26428759e-01,\n",
       "       4.44704562e-01, 5.95426679e-01, 7.58097887e-01, 4.52145576e-01,\n",
       "       1.68631971e-01, 8.04772004e-02, 4.91258428e-02, 8.95696506e-03,\n",
       "       1.26069225e-03, 1.20868935e-06, 1.43179157e-08, 2.29823656e-22,\n",
       "       0.00000000e+00, 2.97496649e-30, 6.61170896e-10, 3.33420903e-05,\n",
       "       1.25745009e-03, 1.28140152e-01, 6.84093654e-01, 8.18759501e-01,\n",
       "       9.00768161e-01, 9.04079378e-01, 8.95227849e-01, 7.96626389e-01,\n",
       "       6.74300313e-01, 7.42849290e-01, 7.66343355e-01, 6.83024466e-01,\n",
       "       5.91380298e-01, 8.17249537e-01, 9.02281761e-01, 8.03180039e-01,\n",
       "       6.03055775e-01, 2.99966007e-01, 1.28900886e-01, 1.77512653e-02,\n",
       "       4.10719280e-04, 1.02631802e-05, 1.03352170e-06, 4.36665833e-17,\n",
       "       1.42042437e-38, 6.74267975e-10, 2.15395562e-06, 1.58172363e-04,\n",
       "       1.06976172e-02, 3.26383889e-01, 7.31007159e-01, 5.56687653e-01,\n",
       "       3.52786690e-01, 3.52370024e-01, 3.49444836e-01, 3.62205803e-01,\n",
       "       4.13950890e-01, 5.71492314e-01, 6.34349108e-01, 5.74402630e-01,\n",
       "       7.21289337e-01, 8.91253114e-01, 9.26535010e-01, 8.45083475e-01,\n",
       "       5.92015564e-01, 3.03067803e-01, 7.80843124e-02, 2.36330051e-02,\n",
       "       4.51998087e-03, 3.46149718e-05, 2.52204927e-07, 6.60652766e-14,\n",
       "       4.73249622e-19, 5.68356343e-13, 6.56338452e-05, 1.16754067e-03,\n",
       "       3.30251642e-02, 4.75396514e-01, 4.05503750e-01, 1.46934897e-01,\n",
       "       3.22701670e-02, 2.46580094e-02, 6.94674551e-02, 2.85039485e-01,\n",
       "       4.96854126e-01, 5.60606480e-01, 5.11294484e-01, 5.14464080e-01,\n",
       "       6.69973433e-01, 8.13667774e-01, 8.12717795e-01, 5.32250822e-01,\n",
       "       1.95779949e-01, 4.73732762e-02, 9.49914567e-03, 9.66337789e-03,\n",
       "       5.66390809e-03, 2.78429743e-05, 5.58218653e-06, 1.77643886e-17,\n",
       "       7.58770126e-20, 4.93542242e-17, 2.49202567e-04, 1.21013606e-02,\n",
       "       1.13954224e-01, 4.42028582e-01, 1.93835869e-01, 7.23273680e-02,\n",
       "       4.06870544e-02, 6.41701296e-02, 3.37411553e-01, 8.74682248e-01,\n",
       "       8.88946891e-01, 6.70882106e-01, 3.84441048e-01, 2.76654541e-01,\n",
       "       1.99415326e-01, 2.30296955e-01, 1.42037824e-01, 2.31223498e-02,\n",
       "       6.61115721e-03, 1.12784735e-03, 4.18542011e-04, 3.88823391e-04,\n",
       "       7.23717210e-04, 5.84250520e-05, 2.18592322e-06, 4.75808707e-21,\n",
       "       1.88775609e-27, 5.83285475e-10, 1.12579716e-03, 3.84376496e-02,\n",
       "       2.67543197e-01, 4.09840047e-01, 3.83181691e-01, 3.26908380e-01,\n",
       "       4.14359629e-01, 7.12741971e-01, 9.49038684e-01, 9.73734617e-01,\n",
       "       7.91570842e-01, 2.57563859e-01, 4.07873206e-02, 6.57628803e-03,\n",
       "       2.21175677e-03, 1.09567586e-03, 2.85509217e-04, 1.98811424e-04,\n",
       "       1.06300657e-04, 5.46202100e-05, 8.05438685e-05, 7.57200469e-05,\n",
       "       2.07544421e-04, 1.22935298e-05, 2.96256487e-12, 1.26346790e-22,\n",
       "       3.63659539e-19, 1.11810599e-13, 1.41014962e-03, 1.77630354e-02,\n",
       "       1.18435659e-01, 2.25561336e-01, 3.88119638e-01, 5.85066319e-01,\n",
       "       6.53045774e-01, 8.41433167e-01, 8.76827955e-01, 5.15820205e-01,\n",
       "       5.14665619e-02, 4.03015735e-03, 2.44602881e-04, 3.07789451e-05,\n",
       "       7.74468845e-06, 1.87539149e-06, 2.03692451e-07, 2.45316050e-06,\n",
       "       4.02361957e-06, 1.34007023e-05, 1.10343804e-04, 5.30076621e-04,\n",
       "       4.17282747e-04, 5.82721168e-06, 7.27285528e-13, 2.77583858e-25,\n",
       "       5.51455567e-35, 4.27304108e-19, 4.73536638e-04, 3.26070865e-03,\n",
       "       1.76914781e-02, 2.40392629e-02, 5.70624024e-02, 1.92702398e-01,\n",
       "       3.50227833e-01, 2.20393628e-01, 4.13002707e-02, 2.31359899e-03,\n",
       "       2.21242066e-04, 1.90543778e-05, 9.49107800e-07, 5.91745248e-08,\n",
       "       1.54207385e-08, 1.02065834e-09, 5.53514816e-08, 4.98270083e-07,\n",
       "       1.36316714e-07, 2.45085016e-06, 1.41638766e-05, 8.75393889e-05,\n",
       "       5.59273067e-05, 5.14696069e-07, 1.61909444e-11, 0.00000000e+00,\n",
       "       1.12732571e-34, 1.73157973e-30, 1.49728487e-06, 1.40262719e-05,\n",
       "       2.53927516e-04, 7.09057902e-04, 2.69484567e-03, 7.28017697e-03,\n",
       "       7.12552993e-03, 9.08130081e-04, 5.02378207e-05, 2.61782611e-06,\n",
       "       7.50503375e-07, 7.77454758e-08, 2.18103535e-09, 6.40800690e-10,\n",
       "       1.32422366e-08, 5.92206861e-09, 7.41932826e-09, 2.27443415e-08,\n",
       "       2.50518269e-07, 2.11346696e-06, 7.39855477e-06, 1.81574687e-05,\n",
       "       2.61393939e-06, 1.23995846e-06, 3.48367060e-12, 0.00000000e+00,\n",
       "       2.77274612e-19, 4.00075829e-19, 7.64823155e-13, 3.68582886e-10,\n",
       "       2.00760283e-07, 7.07866275e-06, 4.53047105e-05, 7.66546364e-05,\n",
       "       8.34321418e-06, 1.37113511e-06, 3.42609852e-08, 5.56937296e-09,\n",
       "       1.65085035e-09, 6.08165601e-11, 2.11121566e-13, 2.74723045e-15,\n",
       "       9.88655585e-15, 1.17083167e-16, 5.73078471e-17, 1.49673579e-10,\n",
       "       7.45516093e-09, 1.61721161e-07, 1.93735445e-06, 9.55578912e-07,\n",
       "       8.86752431e-08, 1.56546189e-08, 1.28419062e-17, 4.27450829e-19,\n",
       "       3.44368989e-19, 4.34349489e-19, 4.86994112e-27, 6.43963627e-16,\n",
       "       3.95070714e-07, 2.79927826e-06, 4.61083482e-06, 2.44456572e-07,\n",
       "       2.40171966e-10, 7.97517521e-12, 1.79808295e-12, 8.54859701e-15,\n",
       "       1.40853718e-16, 7.09389514e-18, 3.41147121e-20, 1.98072114e-21,\n",
       "       2.63388989e-19, 3.16644164e-27, 3.55535371e-13, 2.14364290e-11,\n",
       "       1.38760364e-10, 2.18524795e-10, 6.73733723e-07, 4.32309584e-08,\n",
       "       1.79203968e-16, 4.09988581e-19, 1.47515881e-33, 3.30474733e-19,\n",
       "       5.89413646e-19, 3.03553468e-19, 1.05419455e-36, 6.46506676e-22,\n",
       "       1.85635643e-12, 5.74528652e-13, 4.02253841e-10, 7.66415317e-12,\n",
       "       1.22185709e-13, 5.64641220e-18, 1.55890988e-19, 1.64817418e-15,\n",
       "       4.35265694e-16, 1.05511919e-15, 1.30008132e-18, 2.15291901e-19,\n",
       "       3.33308001e-20, 9.73995619e-39, 1.76121814e-15, 1.16824468e-15,\n",
       "       2.25717923e-18, 7.44033211e-16, 1.18237031e-10, 5.13759923e-10,\n",
       "       1.34508599e-10, 0.00000000e+00, 6.26845636e-36, 5.30625351e-19,\n",
       "       3.58620225e-19, 3.47784263e-19, 4.11015836e-19, 2.80970929e-15,\n",
       "       3.47794206e-15, 4.27365264e-15, 1.06846754e-18, 3.07002374e-22,\n",
       "       1.03558538e-20, 1.91372758e-20, 3.54577786e-17, 2.05278832e-17,\n",
       "       1.81051919e-28, 1.08294559e-16, 1.05409055e-20, 3.03937398e-24,\n",
       "       0.00000000e+00, 5.42103735e-25, 5.60253565e-18, 6.97246751e-18,\n",
       "       0.00000000e+00, 2.23956235e-18, 1.69917818e-13, 3.31429112e-12,\n",
       "       2.53635795e-22, 4.16803061e-24, 4.70228190e-19, 2.76946919e-19,\n",
       "       5.07225187e-19, 4.72412671e-19, 4.11241682e-19, 5.49083835e-19,\n",
       "       3.96671007e-23, 8.51026221e-24, 5.43189863e-20, 9.94950880e-23,\n",
       "       2.06260195e-23, 1.06457479e-24, 1.64765955e-29, 2.40851901e-32,\n",
       "       2.05545748e-35, 2.11906631e-32, 3.12997191e-33, 0.00000000e+00,\n",
       "       0.00000000e+00, 6.23115104e-19, 9.30949697e-19, 1.56674188e-21,\n",
       "       0.00000000e+00, 0.00000000e+00, 6.81542668e-39, 3.63938080e-36,\n",
       "       6.44795921e-19, 3.90012815e-19, 3.51450508e-19, 4.45813179e-19],\n",
       "      dtype=float32)"
      ]
     },
     "execution_count": 18,
     "metadata": {},
     "output_type": "execute_result"
    }
   ],
   "source": [
    "model.decode(torch.randn(Z_DIM).to(device)).cpu().detach().numpy()"
   ]
  },
  {
   "cell_type": "code",
   "execution_count": 75,
   "metadata": {},
   "outputs": [
    {
     "data": {
      "text/plain": [
       "<matplotlib.image.AxesImage at 0x7f72fd4964e0>"
      ]
     },
     "execution_count": 75,
     "metadata": {},
     "output_type": "execute_result"
    },
    {
     "data": {
      "image/png": "[encoded data removed]",
      "text/plain": [
       "<Figure size 640x480 with 1 Axes>"
      ]
     },
     "metadata": {},
     "output_type": "display_data"
    }
   ],
   "source": [
    "plt.imshow(model.decode(torch.randn(Z_DIM).to(device)).cpu().view(*img_shape).detach().numpy(), cmap='gray') "
   ]
  }
 ],
 "metadata": {
  "kernelspec": {
   "display_name": "3.12",
   "language": "python",
   "name": "python3"
  },
  "language_info": {
   "codemirror_mode": {
    "name": "ipython",
    "version": 3
   },
   "file_extension": ".py",
   "mimetype": "text/x-python",
   "name": "python",
   "nbconvert_exporter": "python",
   "pygments_lexer": "ipython3",
   "version": "3.12.8"
  }
 },
 "nbformat": 4,
 "nbformat_minor": 2
}
