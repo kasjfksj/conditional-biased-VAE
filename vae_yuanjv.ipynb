{
 "cells": [
  {
   "cell_type": "code",
   "execution_count": 1,
   "metadata": {},
   "outputs": [
    {
     "name": "stdout",
     "output_type": "stream",
     "text": [
      "Sun Dec 29 20:53:02 2024       \n",
      "+---------------------------------------------------------------------------------------+\n",
      "| NVIDIA-SMI 535.183.01             Driver Version: 535.183.01   CUDA Version: 12.2     |\n",
      "|-----------------------------------------+----------------------+----------------------+\n",
      "| GPU  Name                 Persistence-M | Bus-Id        Disp.A | Volatile Uncorr. ECC |\n",
      "| Fan  Temp   Perf          Pwr:Usage/Cap |         Memory-Usage | GPU-Util  Compute M. |\n",
      "|                                         |                      |               MIG M. |\n",
      "|=========================================+======================+======================|\n",
      "|   0  NVIDIA GeForce RTX 4060 ...    On  | 00000000:01:00.0 Off |                  N/A |\n",
      "| N/A   39C    P8               2W / 140W |    165MiB /  8188MiB |      0%      Default |\n",
      "|                                         |                      |                  N/A |\n",
      "+-----------------------------------------+----------------------+----------------------+\n",
      "                                                                                         \n",
      "+---------------------------------------------------------------------------------------+\n",
      "| Processes:                                                                            |\n",
      "|  GPU   GI   CI        PID   Type   Process name                            GPU Memory |\n",
      "|        ID   ID                                                             Usage      |\n",
      "|=======================================================================================|\n",
      "|    0   N/A  N/A      1401      C   venv/bin/python                             154MiB |\n",
      "|    0   N/A  N/A    800505      G   /usr/bin/gnome-shell                          2MiB |\n",
      "+---------------------------------------------------------------------------------------+\n"
     ]
    }
   ],
   "source": [
    "!nvidia-smi"
   ]
  },
  {
   "cell_type": "code",
   "execution_count": 2,
   "metadata": {},
   "outputs": [],
   "source": [
    "def mul(*v):\n",
    "    ret=1\n",
    "    for x in v:\n",
    "        ret*=x\n",
    "    return ret"
   ]
  },
  {
   "cell_type": "code",
   "execution_count": 3,
   "metadata": {},
   "outputs": [
    {
     "data": {
      "text/plain": [
       "device(type='cuda')"
      ]
     },
     "execution_count": 3,
     "metadata": {},
     "output_type": "execute_result"
    }
   ],
   "source": [
    "import torch\n",
    "import torch.nn as nn\n",
    "import torch.nn.functional as F\n",
    "import torchvision\n",
    "from torchvision import transforms\n",
    "from torchvision.utils import save_image\n",
    "from tqdm import tqdm\n",
    "\n",
    "from torchsummary import summary\n",
    "from matplotlib import pyplot as plt\n",
    "import numpy as np\n",
    "import cv2\n",
    "\n",
    "device = torch.device('cuda' if torch.cuda.is_available() else 'cpu')\n",
    "#device = torch.device(\"cpu\") #gpu driver error, switch to cpu for now\n",
    "device"
   ]
  },
  {
   "cell_type": "code",
   "execution_count": 4,
   "metadata": {},
   "outputs": [],
   "source": [
    "l = torchvision.datasets.MNIST(root='./mnist_data/', train = True, download = True, transform = transforms.ToTensor())\n",
    "t = torchvision.datasets.MNIST(root='./mnist_data/', train = False, download = True, transform = transforms.ToTensor())"
   ]
  },
  {
   "cell_type": "code",
   "execution_count": 5,
   "metadata": {},
   "outputs": [
    {
     "data": {
      "text/plain": [
       "(torch.Size([60000, 28, 28]), torch.Size([60000]))"
      ]
     },
     "execution_count": 5,
     "metadata": {},
     "output_type": "execute_result"
    }
   ],
   "source": [
    "l.data.shape,l.targets.shape"
   ]
  },
  {
   "cell_type": "code",
   "execution_count": 6,
   "metadata": {},
   "outputs": [
    {
     "data": {
      "text/plain": [
       "(torch.Size([28, 28]), tensor(5))"
      ]
     },
     "execution_count": 6,
     "metadata": {},
     "output_type": "execute_result"
    }
   ],
   "source": [
    "l.data[0].shape,l.targets[0]"
   ]
  },
  {
   "cell_type": "code",
   "execution_count": 7,
   "metadata": {},
   "outputs": [
    {
     "data": {
      "text/plain": [
       "((28, 28), 784)"
      ]
     },
     "execution_count": 7,
     "metadata": {},
     "output_type": "execute_result"
    }
   ],
   "source": [
    "img_shape=tuple(l.data[0].shape)\n",
    "img_dim=mul(*img_shape)\n",
    "img_shape,img_dim"
   ]
  },
  {
   "cell_type": "code",
   "execution_count": 8,
   "metadata": {},
   "outputs": [],
   "source": [
    "x_l=l.data.numpy()\n",
    "y_l=l.targets.numpy()\n",
    "x_t=t.data.numpy()\n",
    "y_t=t.targets.numpy()"
   ]
  },
  {
   "cell_type": "code",
   "execution_count": 9,
   "metadata": {},
   "outputs": [],
   "source": [
    "IMG_DTYPE=np.float32\n",
    "\n",
    "#training set\n",
    "yl=y_l #get selected imgs\n",
    "xl=x_l.astype(IMG_DTYPE)/255 #color 0~255\n",
    "\n",
    "#testing set\n",
    "T_SIZE=1000\n",
    "yt=y_t[:T_SIZE]\n",
    "xt=x_t[:T_SIZE].astype(IMG_DTYPE)/255"
   ]
  },
  {
   "cell_type": "code",
   "execution_count": 10,
   "metadata": {},
   "outputs": [
    {
     "data": {
      "text/plain": [
       "<matplotlib.image.AxesImage at 0x7faf0c337c80>"
      ]
     },
     "execution_count": 10,
     "metadata": {},
     "output_type": "execute_result"
    },
    {
     "data": {
      "image/png": "[encoded data removed]",
      "text/plain": [
       "<Figure size 640x480 with 1 Axes>"
      ]
     },
     "metadata": {},
     "output_type": "display_data"
    }
   ],
   "source": [
    "plt.imshow(xl[0], cmap='gray') "
   ]
  },
  {
   "cell_type": "code",
   "execution_count": 11,
   "metadata": {},
   "outputs": [],
   "source": [
    "L_BATCH_SIZE=64\n",
    "T_BATCH_SIZE=100\n",
    "\n",
    "\n",
    "#create dataloaders\n",
    "ld=torch.utils.data.DataLoader(\n",
    "    list(zip(xl,yl)),shuffle=True,batch_size=L_BATCH_SIZE\n",
    ")\n",
    "td=torch.utils.data.DataLoader(\n",
    "    list(zip(xt,yt)),shuffle=True,batch_size=T_BATCH_SIZE\n",
    ")"
   ]
  },
  {
   "cell_type": "code",
   "execution_count": 12,
   "metadata": {},
   "outputs": [],
   "source": [
    "Z_DIM=16\n",
    "MID_DIM=256\n",
    "class VAE(nn.Module):\n",
    "    def __init__(self,z_dim=Z_DIM,mid_dim=MID_DIM):\n",
    "        super().__init__()\n",
    "        self.fc1 = nn.Linear(img_dim, mid_dim)\n",
    "        \n",
    "        self.fc21 = nn.Linear(mid_dim,z_dim) #mu (mean)\n",
    "        self.fc22 = nn.Linear(mid_dim, z_dim) #sigma (std)\n",
    "\n",
    "\n",
    "        self.fc3 = nn.Linear(z_dim, mid_dim)\n",
    "        self.fc4 = nn.Linear(mid_dim,img_dim)\n",
    "        \n",
    "    def encode(self,x):\n",
    "        x=torch.relu(self.fc1(x))\n",
    "        return self.fc21(x),self.fc22(x)\n",
    "\n",
    "    def decode(self,x):\n",
    "        return F.sigmoid(\n",
    "            self.fc4(\n",
    "                torch.relu(\n",
    "                    self.fc3(x)\n",
    "                )\n",
    "            )\n",
    "        )\n",
    "\n",
    "    def forward(self, x):\n",
    "        mu, log_std = self.encode(\n",
    "            x.view(-1, img_dim)\n",
    "        )\n",
    "        std = torch.exp(log_std*0.5)\n",
    "        e = torch.randn_like(std)\n",
    "        return self.decode(mu+std*e),mu,std,log_std"
   ]
  },
  {
   "cell_type": "code",
   "execution_count": 13,
   "metadata": {},
   "outputs": [],
   "source": [
    "def loss_fn(x, y, mu, std, log_std): \n",
    "    '''BCE + KLD'''\n",
    "    return F.binary_cross_entropy(y, x.view(-1, img_dim), reduction='sum') *20 + \\\n",
    "        torch.sum(1 + log_std - mu**2 - std**2)* -0.5"
   ]
  },
  {
   "cell_type": "code",
   "execution_count": 14,
   "metadata": {},
   "outputs": [],
   "source": [
    "model=VAE().to(device)\n",
    "op=torch.optim.Adam(\n",
    "    model.parameters(),\n",
    "    lr=0.002\n",
    ")"
   ]
  },
  {
   "cell_type": "code",
   "execution_count": 15,
   "metadata": {},
   "outputs": [
    {
     "data": {
      "text/plain": [
       "VAE(\n",
       "  (fc1): Linear(in_features=784, out_features=256, bias=True)\n",
       "  (fc21): Linear(in_features=256, out_features=16, bias=True)\n",
       "  (fc22): Linear(in_features=256, out_features=16, bias=True)\n",
       "  (fc3): Linear(in_features=16, out_features=256, bias=True)\n",
       "  (fc4): Linear(in_features=256, out_features=784, bias=True)\n",
       ")"
      ]
     },
     "execution_count": 15,
     "metadata": {},
     "output_type": "execute_result"
    }
   ],
   "source": [
    "model"
   ]
  },
  {
   "cell_type": "code",
   "execution_count": 16,
   "metadata": {},
   "outputs": [],
   "source": [
    "def l_step(\n",
    "    model: torch.nn.Module,\n",
    "    dl: torch.utils.data.DataLoader,\n",
    "    loss_fn: torch.nn.Module,\n",
    "    op: torch.optim.Optimizer,\n",
    "    epochs:int=50\n",
    "):\n",
    "    # Put model in train mode\n",
    "    model.train()\n",
    "\n",
    "    for epoch in range(epochs):\n",
    "        epoch_loss = 0\n",
    "        for batch_idx,(x,_) in enumerate(dl):\n",
    "            x=x.to(device)\n",
    "\n",
    "            # 1. Forward pass\n",
    "            y,mu,std,log_std = model(x)\n",
    "\n",
    "            # 2. Caculate the loss\n",
    "            loss=loss_fn(x,y,mu,std,log_std)\n",
    "\n",
    "            # 3. Optimizer zero grad\n",
    "            op.zero_grad()\n",
    "\n",
    "            # 4. Loss backward\n",
    "            loss.backward()\n",
    "\n",
    "            # 5. Optimizer step\n",
    "            op.step()\n",
    "\n",
    "            epoch_loss+=loss.item()\n",
    "        \n",
    "        if epoch%4==0:\n",
    "            print(epoch_loss)\n",
    "            \n",
    "    model.eval()\n"
   ]
  },
  {
   "cell_type": "code",
   "execution_count": 17,
   "metadata": {},
   "outputs": [
    {
     "name": "stdout",
     "output_type": "stream",
     "text": [
      "135573525.6328125\n",
      "94184205.17578125\n",
      "91280006.12890625\n",
      "89904151.3515625\n",
      "89004903.5234375\n",
      "88398497.6953125\n",
      "87970659.84765625\n",
      "87625361.375\n",
      "87296518.9609375\n",
      "87085998.29296875\n",
      "86860472.34375\n",
      "86680859.5390625\n",
      "86549062.015625\n"
     ]
    }
   ],
   "source": [
    "l_step(\n",
    "    model,\n",
    "    ld,\n",
    "    loss_fn,\n",
    "    op,\n",
    "    50\n",
    ")"
   ]
  },
  {
   "cell_type": "code",
   "execution_count": 18,
   "metadata": {},
   "outputs": [
    {
     "data": {
      "text/plain": [
       "array([5.89385046e-17, 4.85425582e-17, 4.87018865e-17, 6.27653267e-17,\n",
       "       1.16366723e-16, 5.38733369e-17, 4.11811934e-17, 3.79619289e-17,\n",
       "       9.27384875e-17, 2.89706113e-17, 4.55870783e-17, 4.29689359e-17,\n",
       "       6.71209484e-31, 2.25202732e-33, 1.05923534e-25, 6.03849899e-25,\n",
       "       8.31099530e-17, 1.07669680e-16, 7.20748077e-17, 6.05028289e-17,\n",
       "       6.73841312e-17, 6.01521109e-17, 5.15645931e-17, 5.66559626e-17,\n",
       "       1.06190628e-16, 6.20939869e-17, 4.81795020e-17, 5.46814394e-17,\n",
       "       6.22450565e-17, 1.38043487e-16, 4.00951714e-17, 8.33677885e-17,\n",
       "       1.34336400e-31, 1.90003100e-27, 1.15034241e-24, 1.13691678e-20,\n",
       "       1.19334085e-32, 1.88811484e-36, 0.00000000e+00, 0.00000000e+00,\n",
       "       2.17176491e-36, 4.46216921e-32, 1.38794175e-26, 4.79210027e-19,\n",
       "       1.77231683e-13, 5.77609575e-13, 1.57685580e-15, 8.41164980e-19,\n",
       "       1.50399561e-18, 1.23816457e-16, 1.05308498e-14, 3.83815609e-18,\n",
       "       4.87887239e-17, 5.58565885e-17, 5.18300387e-17, 2.99240064e-17,\n",
       "       9.88134276e-17, 9.22114609e-17, 1.04979124e-23, 1.30159333e-20,\n",
       "       9.03612146e-13, 6.34071517e-13, 1.60520888e-10, 8.02483080e-11,\n",
       "       4.84438217e-15, 1.03115953e-18, 1.49258510e-36, 5.94211630e-32,\n",
       "       4.35525375e-21, 2.43948245e-20, 1.53607820e-17, 1.51265748e-15,\n",
       "       7.47528341e-12, 2.04720449e-10, 9.09101416e-08, 2.62033126e-07,\n",
       "       1.39036331e-07, 1.78981263e-05, 6.78674597e-03, 1.43448950e-03,\n",
       "       1.93668987e-11, 1.79220915e-25, 5.67701929e-17, 4.50769494e-17,\n",
       "       6.39139563e-17, 8.00755964e-17, 8.10489777e-37, 2.85365602e-19,\n",
       "       1.35710436e-11, 4.06567580e-08, 6.02222672e-09, 7.81616279e-07,\n",
       "       1.52035022e-06, 4.60249269e-11, 1.46180605e-08, 5.54278313e-06,\n",
       "       3.01660715e-13, 5.43141936e-21, 3.37863933e-13, 1.56634505e-09,\n",
       "       7.46882056e-10, 9.63050937e-08, 4.11198671e-05, 7.38111185e-03,\n",
       "       1.29440948e-01, 1.65307328e-01, 5.40698290e-01, 2.22974181e-01,\n",
       "       1.95578523e-02, 1.48056002e-04, 1.73586397e-24, 5.50815169e-17,\n",
       "       9.09118080e-17, 1.52741629e-35, 9.40201109e-25, 1.06522338e-08,\n",
       "       1.32887749e-06, 1.16802976e-05, 1.98413749e-04, 7.66476546e-07,\n",
       "       1.18121272e-06, 7.89502081e-08, 3.07503651e-05, 4.02972056e-09,\n",
       "       1.67367370e-10, 6.77509156e-13, 1.13496457e-09, 1.11878137e-07,\n",
       "       2.48225297e-06, 7.17167786e-05, 2.55411980e-03, 2.80913889e-01,\n",
       "       8.01945329e-01, 9.45825338e-01, 9.27781820e-01, 3.46974194e-01,\n",
       "       1.02480501e-02, 1.40367236e-04, 3.67045770e-14, 4.69311528e-23,\n",
       "       8.03552761e-17, 4.69663954e-17, 4.63104676e-16, 2.34594017e-06,\n",
       "       8.50290380e-05, 1.37962206e-05, 7.90848571e-05, 1.27495441e-05,\n",
       "       9.40664719e-08, 4.87941598e-08, 1.79278192e-08, 1.19594545e-09,\n",
       "       6.40522080e-10, 3.96230853e-08, 1.14576528e-06, 4.11169640e-05,\n",
       "       1.10994652e-03, 2.00029649e-02, 1.58774018e-01, 5.76748013e-01,\n",
       "       9.26272154e-01, 9.54417169e-01, 9.01159286e-01, 5.31872988e-01,\n",
       "       3.03193808e-01, 2.60781318e-01, 3.07946846e-09, 1.50603019e-15,\n",
       "       6.45138541e-17, 2.39033066e-33, 4.97396422e-06, 7.29765952e-06,\n",
       "       5.37908962e-03, 4.04057180e-04, 2.54123675e-04, 6.40407848e-07,\n",
       "       5.15706347e-07, 1.24886823e-09, 8.53170659e-11, 4.92668875e-08,\n",
       "       2.14888564e-06, 2.63897346e-05, 7.40042131e-04, 1.97431725e-02,\n",
       "       2.58047581e-01, 5.72395086e-01, 7.07876861e-01, 5.24846613e-01,\n",
       "       5.64525485e-01, 7.55690813e-01, 7.94292390e-01, 4.43032742e-01,\n",
       "       2.87803710e-01, 3.33280377e-02, 5.94797893e-05, 1.28332140e-05,\n",
       "       5.48804956e-28, 6.23428644e-20, 3.70978937e-13, 2.09441222e-03,\n",
       "       4.91301646e-04, 3.39151709e-04, 2.27150114e-04, 9.29265298e-05,\n",
       "       3.23775708e-07, 4.51688074e-08, 3.79043684e-07, 5.77128685e-06,\n",
       "       1.38499119e-04, 4.87845857e-03, 1.32483080e-01, 6.02347732e-01,\n",
       "       7.58319736e-01, 4.77813482e-01, 2.98289061e-01, 8.38816315e-02,\n",
       "       2.55411882e-02, 8.66044313e-02, 1.58325538e-01, 7.70463794e-02,\n",
       "       4.95280176e-02, 2.78101885e-03, 1.13935391e-06, 1.40078873e-06,\n",
       "       8.99046891e-19, 2.36247498e-17, 2.27319746e-04, 1.75077002e-05,\n",
       "       1.49498184e-04, 3.11824318e-04, 1.24203449e-04, 1.68885651e-06,\n",
       "       1.76064404e-07, 1.30996807e-06, 2.24895266e-05, 4.12076450e-04,\n",
       "       3.14802639e-02, 4.60498482e-01, 7.75764823e-01, 5.34902871e-01,\n",
       "       1.69178739e-01, 3.80244898e-03, 9.71512229e-04, 6.97984244e-04,\n",
       "       9.02720145e-04, 6.88732183e-03, 9.94051527e-03, 4.30526678e-03,\n",
       "       2.65753479e-03, 8.78386636e-05, 4.18299528e-09, 7.15468630e-19,\n",
       "       1.26268521e-18, 5.79181343e-14, 6.90642935e-07, 1.27696447e-04,\n",
       "       5.16147527e-04, 1.84272858e-03, 4.32652851e-05, 4.39111000e-06,\n",
       "       6.37305857e-06, 2.82810623e-04, 6.68881368e-03, 1.09872408e-01,\n",
       "       6.02706552e-01, 6.35765910e-01, 1.61673978e-01, 6.66753482e-03,\n",
       "       3.76368553e-04, 2.84655034e-05, 1.16785259e-05, 4.26873812e-05,\n",
       "       7.33197958e-04, 9.14079603e-03, 1.61082093e-02, 5.81460120e-03,\n",
       "       4.05511353e-04, 3.36191952e-05, 5.69296520e-11, 9.73573204e-22,\n",
       "       3.27899556e-17, 3.59388050e-14, 8.42719210e-12, 4.48269057e-05,\n",
       "       4.18645423e-03, 3.30367009e-03, 9.38000274e-04, 4.17130039e-04,\n",
       "       5.33582782e-03, 1.26961529e-01, 3.66788536e-01, 6.69766784e-01,\n",
       "       3.82515788e-01, 2.27152631e-02, 3.53233627e-04, 1.15922085e-05,\n",
       "       3.92383663e-06, 3.25600331e-06, 4.88630303e-06, 8.06087119e-05,\n",
       "       3.37078935e-03, 5.45074418e-02, 6.22072145e-02, 5.62524563e-03,\n",
       "       1.77274080e-04, 6.07524157e-07, 5.45699430e-10, 6.53604242e-28,\n",
       "       1.65980341e-14, 7.61990748e-10, 4.73937816e-12, 2.19038029e-05,\n",
       "       3.00648343e-03, 8.42121523e-03, 1.05103487e-02, 3.11320797e-02,\n",
       "       3.32562774e-01, 6.52502239e-01, 6.22529507e-01, 1.99611127e-01,\n",
       "       4.94542252e-03, 9.46001674e-05, 3.20132881e-06, 3.22519611e-07,\n",
       "       1.18280900e-06, 2.88695514e-06, 2.39776418e-05, 4.16184339e-04,\n",
       "       1.72627959e-02, 1.34949282e-01, 8.00227746e-02, 4.90710977e-03,\n",
       "       3.19229759e-04, 1.19617300e-06, 2.41651699e-09, 5.74191515e-27,\n",
       "       1.28187011e-18, 6.43129040e-12, 7.33392291e-10, 2.04530625e-05,\n",
       "       2.75119930e-03, 2.33251266e-02, 5.34804240e-02, 5.76823354e-01,\n",
       "       8.50286782e-01, 6.88470960e-01, 8.30919445e-02, 1.59098208e-03,\n",
       "       1.53063011e-05, 6.53281745e-07, 5.68246143e-08, 2.00133208e-08,\n",
       "       5.04650473e-07, 2.22138333e-05, 5.16388449e-04, 6.53126836e-03,\n",
       "       5.49310073e-02, 2.06094652e-01, 6.26929775e-02, 2.98365019e-03,\n",
       "       1.82533957e-04, 5.51197559e-07, 2.55927634e-14, 9.69055590e-24,\n",
       "       2.55305631e-28, 2.21668444e-08, 5.31393773e-09, 5.38672684e-05,\n",
       "       1.06643820e-02, 7.75798410e-02, 2.41490409e-01, 9.12230909e-01,\n",
       "       8.84094596e-01, 2.25018144e-01, 2.98356917e-03, 2.64739756e-05,\n",
       "       6.52818358e-07, 1.84335903e-07, 7.60857333e-08, 9.11987854e-08,\n",
       "       1.58578973e-06, 7.21612450e-05, 9.38349753e-04, 2.41711661e-02,\n",
       "       1.30950928e-01, 2.46868640e-01, 4.12894748e-02, 1.32372952e-03,\n",
       "       1.19000884e-04, 2.01584794e-06, 6.47871268e-09, 1.23321674e-21,\n",
       "       4.69950829e-24, 1.44130183e-12, 7.41633244e-08, 1.93119602e-04,\n",
       "       1.98019147e-02, 5.48901968e-02, 3.72475713e-01, 9.05730307e-01,\n",
       "       5.52443683e-01, 4.01067771e-02, 1.22495194e-03, 3.29663526e-05,\n",
       "       1.08109566e-06, 2.04676596e-07, 1.00098667e-07, 2.76753667e-07,\n",
       "       2.94483016e-06, 6.09363487e-05, 1.57616183e-03, 2.75102220e-02,\n",
       "       1.87175289e-01, 2.52775371e-01, 2.96307858e-02, 8.25963973e-04,\n",
       "       2.30568257e-04, 5.58446482e-05, 6.82647135e-13, 2.29377255e-27,\n",
       "       1.27816445e-17, 5.60507664e-19, 1.02190413e-07, 5.66525596e-05,\n",
       "       5.91484411e-03, 1.23676760e-02, 2.10088924e-01, 6.52657211e-01,\n",
       "       2.01579452e-01, 2.62820236e-02, 2.00550328e-03, 1.29428998e-04,\n",
       "       1.93663054e-05, 1.71469799e-06, 6.75858701e-07, 1.71770967e-06,\n",
       "       1.58547900e-05, 3.06909496e-04, 3.16153071e-03, 7.87190050e-02,\n",
       "       3.88209283e-01, 4.37591553e-01, 5.25668524e-02, 7.89863290e-04,\n",
       "       7.68828249e-05, 1.58234707e-06, 1.08955900e-12, 1.91387674e-24,\n",
       "       8.82607090e-18, 1.67587859e-24, 8.20415749e-11, 6.97357755e-05,\n",
       "       1.37654576e-03, 3.58278328e-03, 5.47104627e-02, 2.99661815e-01,\n",
       "       1.24285042e-01, 1.59247499e-02, 3.10324552e-03, 9.75443283e-04,\n",
       "       4.50469088e-04, 1.53866233e-04, 1.06295091e-04, 1.55963920e-04,\n",
       "       6.00694970e-04, 2.18225527e-03, 2.45588142e-02, 3.31142485e-01,\n",
       "       7.06296146e-01, 5.11087298e-01, 9.13901851e-02, 2.44867126e-03,\n",
       "       6.97042633e-05, 3.00248803e-06, 3.92088362e-09, 1.11038536e-20,\n",
       "       5.58084532e-17, 1.96051596e-20, 5.37963363e-09, 4.19282114e-05,\n",
       "       2.06733865e-04, 9.96297225e-04, 1.29254488e-02, 6.76132888e-02,\n",
       "       4.65567410e-02, 1.94540191e-02, 9.42772720e-03, 8.48996639e-03,\n",
       "       7.50991981e-03, 3.79681564e-03, 5.28343301e-03, 1.14595294e-02,\n",
       "       8.96455813e-03, 1.49510466e-02, 8.26432854e-02, 6.13765240e-01,\n",
       "       7.59146869e-01, 4.72397447e-01, 6.91332370e-02, 1.46961922e-03,\n",
       "       5.11440776e-05, 3.73146463e-07, 2.39495895e-10, 1.59033993e-14,\n",
       "       1.88298726e-35, 2.91088153e-20, 3.68224323e-06, 2.38958055e-05,\n",
       "       7.48270322e-05, 4.45914775e-04, 1.69516727e-03, 1.30200610e-02,\n",
       "       2.67600827e-02, 3.48669738e-02, 2.17576232e-02, 1.62944514e-02,\n",
       "       1.51552483e-02, 3.84638645e-02, 9.05881226e-02, 5.89646548e-02,\n",
       "       3.36681455e-02, 5.87952882e-02, 1.92294583e-01, 5.59888959e-01,\n",
       "       5.69890201e-01, 2.23949015e-01, 3.47721428e-02, 2.05299724e-03,\n",
       "       9.93353751e-05, 4.34886658e-07, 3.46469603e-10, 6.53302401e-21,\n",
       "       3.94351575e-33, 5.59916747e-23, 1.06364624e-07, 3.95061943e-06,\n",
       "       7.56478630e-06, 1.57917530e-04, 8.46209587e-04, 1.11106029e-02,\n",
       "       6.38895109e-02, 1.22227669e-01, 8.16436931e-02, 4.35330346e-02,\n",
       "       4.35874574e-02, 9.24988016e-02, 1.04351446e-01, 5.27330972e-02,\n",
       "       4.06459607e-02, 1.06644198e-01, 3.96998316e-01, 4.91536826e-01,\n",
       "       3.04038107e-01, 8.87404457e-02, 1.33181838e-02, 2.26332271e-03,\n",
       "       4.17978263e-05, 4.77251604e-07, 5.62318915e-21, 9.42906113e-24,\n",
       "       9.94991935e-17, 3.12372463e-16, 2.65110998e-06, 2.15783302e-06,\n",
       "       1.75780156e-06, 8.61731241e-05, 8.65413051e-04, 5.22041740e-03,\n",
       "       7.47033507e-02, 3.52006048e-01, 4.84764993e-01, 2.79568553e-01,\n",
       "       2.06057191e-01, 1.81062430e-01, 1.23663552e-01, 8.24849531e-02,\n",
       "       1.05628766e-01, 1.86402902e-01, 4.62446541e-01, 2.49668732e-01,\n",
       "       7.49382526e-02, 3.10642496e-02, 5.28241554e-03, 2.69090961e-04,\n",
       "       1.97501304e-05, 6.04363640e-06, 8.16157140e-17, 1.92483027e-24,\n",
       "       5.48421276e-23, 1.30930029e-23, 1.58998625e-09, 8.57988925e-05,\n",
       "       3.20619301e-06, 1.10408851e-04, 2.70107994e-03, 3.35141085e-03,\n",
       "       1.73200667e-02, 1.57999918e-01, 5.38924754e-01, 5.17865002e-01,\n",
       "       4.89621788e-01, 3.83857965e-01, 2.19072193e-01, 1.81292921e-01,\n",
       "       1.34001121e-01, 2.18183100e-01, 1.55045480e-01, 8.10052827e-02,\n",
       "       9.95293073e-03, 7.67114712e-03, 2.65484536e-03, 6.89097869e-05,\n",
       "       6.67742654e-07, 1.42777581e-10, 2.89474018e-14, 4.95267979e-32,\n",
       "       4.67570985e-23, 1.25129216e-33, 1.45180682e-18, 4.75026500e-05,\n",
       "       3.94648123e-06, 1.10932713e-04, 1.56958424e-03, 2.55601690e-03,\n",
       "       3.11071589e-03, 2.04611067e-02, 1.50087759e-01, 4.25465792e-01,\n",
       "       5.34155011e-01, 3.69674593e-01, 2.33745396e-01, 2.04609394e-01,\n",
       "       1.38539553e-01, 7.53509998e-02, 5.19176498e-02, 1.56513024e-02,\n",
       "       2.68050376e-03, 3.60861421e-03, 2.18218169e-03, 3.67363136e-05,\n",
       "       4.99976984e-08, 3.87478799e-10, 7.32951636e-14, 2.90935410e-32,\n",
       "       6.20769337e-17, 9.61374653e-17, 3.36702647e-25, 3.87591660e-11,\n",
       "       5.20529341e-07, 8.17081036e-06, 8.77224738e-05, 8.81566084e-05,\n",
       "       2.32110731e-04, 1.56134111e-03, 1.55658526e-02, 5.57794496e-02,\n",
       "       8.18457231e-02, 5.21558486e-02, 9.49985534e-02, 1.01240031e-01,\n",
       "       5.61282597e-02, 2.62545794e-02, 7.17748655e-03, 2.44786101e-03,\n",
       "       1.31206261e-03, 2.18424000e-04, 4.45602462e-04, 9.59500467e-05,\n",
       "       8.14639577e-07, 5.23780486e-08, 7.35794651e-15, 6.58470443e-17,\n",
       "       6.37364698e-17, 4.83155071e-17, 5.72131153e-22, 2.51914834e-20,\n",
       "       2.97960895e-07, 1.70755550e-06, 4.11411094e-07, 1.13575220e-06,\n",
       "       1.06099997e-05, 2.30838821e-04, 3.00274650e-03, 7.38939922e-03,\n",
       "       4.71999496e-03, 3.07806674e-03, 6.66508498e-03, 5.10792946e-03,\n",
       "       1.74510723e-03, 7.50056643e-04, 9.96273011e-04, 3.83304781e-04,\n",
       "       2.37585809e-05, 1.64602698e-05, 1.05195788e-04, 1.07599422e-04,\n",
       "       7.91975367e-07, 1.11873926e-21, 4.61400062e-29, 4.79892836e-17,\n",
       "       5.68978897e-17, 4.56354518e-17, 4.24943138e-22, 7.32354996e-25,\n",
       "       2.21635654e-10, 1.21499488e-05, 1.20207039e-06, 9.66120297e-07,\n",
       "       5.16901821e-07, 3.33856769e-06, 4.21233972e-06, 3.20721847e-05,\n",
       "       1.89912826e-05, 2.29390098e-05, 4.85316559e-05, 1.13501934e-04,\n",
       "       9.36368961e-05, 3.17878767e-05, 1.54608988e-05, 1.76547055e-05,\n",
       "       3.23038591e-07, 2.32499065e-06, 6.64739346e-05, 1.40730326e-05,\n",
       "       5.27158079e-07, 2.10727473e-38, 9.98630656e-25, 7.73919710e-17,\n",
       "       8.51993913e-17, 5.62107674e-17, 8.27695119e-17, 1.08317771e-22,\n",
       "       1.10318423e-17, 6.88804347e-14, 2.56692911e-16, 3.35295705e-15,\n",
       "       2.44636311e-10, 1.91955354e-10, 3.83250758e-11, 1.54648447e-10,\n",
       "       6.18901805e-12, 5.10459860e-12, 4.35250604e-13, 4.26617834e-14,\n",
       "       2.70401991e-15, 1.39005506e-12, 2.44729286e-13, 6.51094798e-16,\n",
       "       4.74346074e-14, 8.71048211e-09, 7.41846085e-10, 9.96640704e-13,\n",
       "       1.08043289e-23, 1.70494551e-26, 5.75920862e-17, 4.27542560e-17,\n",
       "       1.11851177e-16, 3.54142490e-17, 6.07456560e-17, 7.69345401e-17,\n",
       "       1.41794498e-23, 8.62880807e-21, 5.32906070e-24, 7.72629707e-27,\n",
       "       2.84321760e-24, 1.39620315e-28, 1.50474621e-27, 1.72430873e-23,\n",
       "       3.56239184e-21, 3.23432498e-23, 8.85299088e-23, 7.30247485e-21,\n",
       "       1.13291451e-16, 8.07939002e-17, 1.82519782e-15, 3.66498368e-12,\n",
       "       1.56354801e-13, 2.47562929e-14, 5.69676179e-24, 1.39205014e-20,\n",
       "       7.52005380e-17, 7.82367673e-17, 3.93402169e-17, 5.77101877e-17],\n",
       "      dtype=float32)"
      ]
     },
     "execution_count": 18,
     "metadata": {},
     "output_type": "execute_result"
    }
   ],
   "source": [
    "model.decode(torch.randn(Z_DIM).to(device)).cpu().detach().numpy()"
   ]
  },
  {
   "cell_type": "code",
   "execution_count": 62,
   "metadata": {},
   "outputs": [
    {
     "data": {
      "text/plain": [
       "<matplotlib.image.AxesImage at 0x7faec8d3cc80>"
      ]
     },
     "execution_count": 62,
     "metadata": {},
     "output_type": "execute_result"
    },
    {
     "data": {
      "image/png": "[encoded data removed]",
      "text/plain": [
       "<Figure size 640x480 with 1 Axes>"
      ]
     },
     "metadata": {},
     "output_type": "display_data"
    }
   ],
   "source": [
    "plt.imshow(model.decode((torch.randn(Z_DIM)/2).to(device)).cpu().view(*img_shape).detach().numpy(), cmap='gray') "
   ]
  }
 ],
 "metadata": {
  "kernelspec": {
   "display_name": "3.12",
   "language": "python",
   "name": "python3"
  },
  "language_info": {
   "codemirror_mode": {
    "name": "ipython",
    "version": 3
   },
   "file_extension": ".py",
   "mimetype": "text/x-python",
   "name": "python",
   "nbconvert_exporter": "python",
   "pygments_lexer": "ipython3",
   "version": "3.12.8"
  }
 },
 "nbformat": 4,
 "nbformat_minor": 2
}
