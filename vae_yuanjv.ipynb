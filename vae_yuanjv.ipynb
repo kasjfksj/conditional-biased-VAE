{
 "cells": [
  {
   "cell_type": "code",
   "execution_count": 90,
   "metadata": {},
   "outputs": [
    {
     "name": "stdout",
     "output_type": "stream",
     "text": [
      "Sun Dec 29 18:45:08 2024       \n",
      "+---------------------------------------------------------------------------------------+\n",
      "| NVIDIA-SMI 535.183.01             Driver Version: 535.183.01   CUDA Version: 12.2     |\n",
      "|-----------------------------------------+----------------------+----------------------+\n",
      "| GPU  Name                 Persistence-M | Bus-Id        Disp.A | Volatile Uncorr. ECC |\n",
      "| Fan  Temp   Perf          Pwr:Usage/Cap |         Memory-Usage | GPU-Util  Compute M. |\n",
      "|                                         |                      |               MIG M. |\n",
      "|=========================================+======================+======================|\n",
      "|   0  NVIDIA GeForce RTX 4060 ...    On  | 00000000:01:00.0 Off |                  N/A |\n",
      "| N/A   38C    P8               1W / 140W |    327MiB /  8188MiB |      0%      Default |\n",
      "|                                         |                      |                  N/A |\n",
      "+-----------------------------------------+----------------------+----------------------+\n",
      "                                                                                         \n",
      "+---------------------------------------------------------------------------------------+\n",
      "| Processes:                                                                            |\n",
      "|  GPU   GI   CI        PID   Type   Process name                            GPU Memory |\n",
      "|        ID   ID                                                             Usage      |\n",
      "|=======================================================================================|\n",
      "|    0   N/A  N/A      1401      C   venv/bin/python                             154MiB |\n",
      "|    0   N/A  N/A    712874      C   .../co/miniconda3/envs/3.12/bin/python      160MiB |\n",
      "|    0   N/A  N/A    800505      G   /usr/bin/gnome-shell                          2MiB |\n",
      "+---------------------------------------------------------------------------------------+\n"
     ]
    }
   ],
   "source": [
    "!nvidia-smi"
   ]
  },
  {
   "cell_type": "code",
   "execution_count": 91,
   "metadata": {},
   "outputs": [],
   "source": [
    "def mul(*v):\n",
    "    ret=1\n",
    "    for x in v:\n",
    "        ret*=x\n",
    "    return ret"
   ]
  },
  {
   "cell_type": "code",
   "execution_count": 92,
   "metadata": {},
   "outputs": [
    {
     "data": {
      "text/plain": [
       "device(type='cuda')"
      ]
     },
     "execution_count": 92,
     "metadata": {},
     "output_type": "execute_result"
    }
   ],
   "source": [
    "import torch\n",
    "import torch.nn as nn\n",
    "import torch.nn.functional as F\n",
    "import torchvision\n",
    "from torchvision import transforms\n",
    "from torchvision.utils import save_image\n",
    "from tqdm import tqdm\n",
    "\n",
    "from torchsummary import summary\n",
    "from matplotlib import pyplot as plt\n",
    "import numpy as np\n",
    "import cv2\n",
    "\n",
    "device = torch.device('cuda' if torch.cuda.is_available() else 'cpu')\n",
    "#device = torch.device(\"cpu\") #gpu driver error, switch to cpu for now\n",
    "device"
   ]
  },
  {
   "cell_type": "code",
   "execution_count": 93,
   "metadata": {},
   "outputs": [],
   "source": [
    "l = torchvision.datasets.MNIST(root='./mnist_data/', train = True, download = True, transform = transforms.ToTensor())\n",
    "t = torchvision.datasets.MNIST(root='./mnist_data/', train = False, download = True, transform = transforms.ToTensor())"
   ]
  },
  {
   "cell_type": "code",
   "execution_count": 94,
   "metadata": {},
   "outputs": [
    {
     "data": {
      "text/plain": [
       "(torch.Size([60000, 28, 28]), torch.Size([60000]))"
      ]
     },
     "execution_count": 94,
     "metadata": {},
     "output_type": "execute_result"
    }
   ],
   "source": [
    "l.data.shape,l.targets.shape"
   ]
  },
  {
   "cell_type": "code",
   "execution_count": 95,
   "metadata": {},
   "outputs": [
    {
     "data": {
      "text/plain": [
       "(torch.Size([28, 28]), tensor(5))"
      ]
     },
     "execution_count": 95,
     "metadata": {},
     "output_type": "execute_result"
    }
   ],
   "source": [
    "l.data[0].shape,l.targets[0]"
   ]
  },
  {
   "cell_type": "code",
   "execution_count": 96,
   "metadata": {},
   "outputs": [
    {
     "data": {
      "text/plain": [
       "<matplotlib.image.AxesImage at 0x7f5de0957770>"
      ]
     },
     "execution_count": 96,
     "metadata": {},
     "output_type": "execute_result"
    },
    {
     "data": {
      "image/png": "[encoded data removed]",
      "text/plain": [
       "<Figure size 640x480 with 1 Axes>"
      ]
     },
     "metadata": {},
     "output_type": "display_data"
    }
   ],
   "source": [
    "plt.imshow(l.data[0].numpy(), cmap='gray') "
   ]
  },
  {
   "cell_type": "code",
   "execution_count": 97,
   "metadata": {},
   "outputs": [],
   "source": [
    "x_l=l.data.numpy()\n",
    "y_l=l.targets.numpy()\n",
    "x_t=t.data.numpy()\n",
    "y_t=t.targets.numpy()"
   ]
  },
  {
   "cell_type": "code",
   "execution_count": 98,
   "metadata": {},
   "outputs": [],
   "source": [
    "'''\n",
    "take first NUM_SIZE of imgs for each num\n",
    "'''\n",
    "L_NUM_SIZE=1000\n",
    "count=np.zeros(10)\n",
    "idx=[]\n",
    "for i,num in enumerate(y_l):\n",
    "    for j in range(10): #0~9 all imgs\n",
    "        if num==j:\n",
    "            count[j]+=1 #count each num in the training set\n",
    "            if count[j]<=L_NUM_SIZE:\n",
    "                idx.append(i)\n",
    "\n",
    "idx=np.array(idx)\n"
   ]
  },
  {
   "cell_type": "code",
   "execution_count": 99,
   "metadata": {},
   "outputs": [],
   "source": [
    "IMG_SIZE=(28,28)\n",
    "IMG_DTYPE=np.float32\n",
    "#COLOR_THRESHOLD=128\n",
    "\n",
    "img_dim=mul(*IMG_SIZE)\n",
    "\n",
    "#training set\n",
    "yl=y_l[idx] #get selected imgs\n",
    "xl=x_l[idx].astype(IMG_DTYPE)/255\n",
    "\n",
    "#testing set\n",
    "T_SIZE=1000\n",
    "yt=y_t[:T_SIZE]\n",
    "xt=x_t[:T_SIZE].astype(IMG_DTYPE)/255"
   ]
  },
  {
   "cell_type": "code",
   "execution_count": 100,
   "metadata": {},
   "outputs": [
    {
     "data": {
      "text/plain": [
       "<matplotlib.image.AxesImage at 0x7f5ddd65d280>"
      ]
     },
     "execution_count": 100,
     "metadata": {},
     "output_type": "execute_result"
    },
    {
     "data": {
      "image/png": "[encoded data removed]",
      "text/plain": [
       "<Figure size 640x480 with 1 Axes>"
      ]
     },
     "metadata": {},
     "output_type": "display_data"
    }
   ],
   "source": [
    "plt.imshow(xl[0], cmap='gray') "
   ]
  },
  {
   "cell_type": "code",
   "execution_count": 101,
   "metadata": {},
   "outputs": [],
   "source": [
    "L_BATCH_SIZE=64\n",
    "T_BATCH_SIZE=100\n",
    "\n",
    "\n",
    "#create dataloaders\n",
    "ld=torch.utils.data.DataLoader(\n",
    "    list(zip(xl,yl)),shuffle=True,batch_size=L_BATCH_SIZE\n",
    ")\n",
    "td=torch.utils.data.DataLoader(\n",
    "    list(zip(xt,yt)),shuffle=True,batch_size=T_BATCH_SIZE\n",
    ")"
   ]
  },
  {
   "cell_type": "code",
   "execution_count": 102,
   "metadata": {},
   "outputs": [],
   "source": [
    "Z_DIM=16\n",
    "MID_DIM=256\n",
    "\n",
    "#for this setup: 196 -> 128 -> 8 -> 128 -> 196\n",
    "#img = a point in h*w(*color) dim space\n",
    "\n",
    "class VAE(nn.Module):\n",
    "    def __init__(self):\n",
    "        super().__init__()\n",
    "\n",
    "        self.fc1 = nn.Linear(img_dim, MID_DIM) #Encoder\n",
    "        self.fc21 = nn.Linear(MID_DIM, Z_DIM) #mu\n",
    "        self.fc22 = nn.Linear(MID_DIM, Z_DIM) #sigma\n",
    "\n",
    "        self.fc3 = nn.Linear(Z_DIM, MID_DIM) #Decoder\n",
    "        self.fc4 = nn.Linear(MID_DIM, img_dim)\n",
    "        \n",
    "    def encode(self, x):\n",
    "        h = torch.ReLU(self.fc1(x))\n",
    "        return self.fc21(h), self.fc22(h) # mu, std\n",
    "    \n",
    "    def decode(self, z):\n",
    "        h = torch.(self.fc3(z))\n",
    "        return torch.sigmoid(self.fc4(h)) \n",
    "    \n",
    "    def forward(self, x):\n",
    "        mu, std = self.encode(x.view(-1, img_dim)) #flatten\n",
    "\n",
    "        e1=torch.randn_like(std)\n",
    "        e2=torch.randn_like(std)\n",
    "        z = mu+std*(e1+e2)*0.5\n",
    "        \n",
    "        return self.decode(z), mu, std"
   ]
  },
  {
   "cell_type": "code",
   "execution_count": 103,
   "metadata": {},
   "outputs": [],
   "source": [
    "def loss_fn(y, x, mu, std): \n",
    "    '''BCE + KLD'''\n",
    "    return F.binary_cross_entropy(y, x.view(-1, img_dim), reduction='sum') *20 + \\\n",
    "        torch.sum(1 + torch.log(std**2) - mu**2 - std**2)* -0.5"
   ]
  },
  {
   "cell_type": "code",
   "execution_count": 104,
   "metadata": {},
   "outputs": [],
   "source": [
    "model=VAE().to(device)\n",
    "op=torch.optim.Adam(\n",
    "    model.parameters(),\n",
    "    lr=0.002\n",
    ")"
   ]
  },
  {
   "cell_type": "code",
   "execution_count": 105,
   "metadata": {},
   "outputs": [
    {
     "data": {
      "text/plain": [
       "VAE(\n",
       "  (fc1): Linear(in_features=784, out_features=256, bias=True)\n",
       "  (fc21): Linear(in_features=256, out_features=16, bias=True)\n",
       "  (fc22): Linear(in_features=256, out_features=16, bias=True)\n",
       "  (fc3): Linear(in_features=16, out_features=256, bias=True)\n",
       "  (fc4): Linear(in_features=256, out_features=784, bias=True)\n",
       ")"
      ]
     },
     "execution_count": 105,
     "metadata": {},
     "output_type": "execute_result"
    }
   ],
   "source": [
    "model"
   ]
  },
  {
   "cell_type": "code",
   "execution_count": 106,
   "metadata": {},
   "outputs": [],
   "source": [
    "def l_step(\n",
    "    model: torch.nn.Module,\n",
    "    dl: torch.utils.data.DataLoader,\n",
    "    loss_fn: torch.nn.Module,\n",
    "    op: torch.optim.Optimizer,\n",
    "    epochs:int=50\n",
    "):\n",
    "    # Put model in train mode\n",
    "    model.train()\n",
    "\n",
    "    for epoch in range(epochs):\n",
    "        epoch_loss = 0\n",
    "        for batch_idx,(x,_) in enumerate(dl):\n",
    "            x=x.to(device)\n",
    "\n",
    "            # 1. Forward pass\n",
    "            y,mu,std = model(x)\n",
    "\n",
    "            # 2. Caculate the loss\n",
    "            loss=loss_fn(y,x,mu,std)\n",
    "\n",
    "            # 3. Optimizer zero grad\n",
    "            op.zero_grad()\n",
    "\n",
    "            # 4. Loss backward\n",
    "            loss.backward()\n",
    "\n",
    "            # 5. Optimizer step\n",
    "            op.step()\n",
    "\n",
    "            epoch_loss+=loss.item()\n",
    "        \n",
    "        if epoch%4==0:\n",
    "            print(epoch_loss)\n",
    "            \n",
    "    model.eval()\n"
   ]
  },
  {
   "cell_type": "code",
   "execution_count": 107,
   "metadata": {},
   "outputs": [
    {
     "name": "stdout",
     "output_type": "stream",
     "text": [
      "37903196.99609375\n",
      "23116951.08203125\n",
      "21822223.1953125\n",
      "20750015.71484375\n",
      "21477226.984375\n",
      "20521426.9375\n",
      "20461852.703125\n",
      "20381832.314453125\n",
      "19655587.85546875\n",
      "19977294.93359375\n",
      "22405915.45703125\n",
      "20097853.94140625\n",
      "20550474.314453125\n",
      "19611712.17578125\n",
      "18661417.25\n",
      "20851667.62109375\n",
      "18379575.9765625\n",
      "20422328.078125\n",
      "20288610.51171875\n",
      "21952062.140625\n",
      "19991626.8359375\n",
      "19081862.80078125\n",
      "20271088.470703125\n",
      "19454265.42578125\n",
      "18838641.296875\n"
     ]
    }
   ],
   "source": [
    "l_step(\n",
    "    model,\n",
    "    ld,\n",
    "    loss_fn,\n",
    "    op,\n",
    "    100\n",
    ")"
   ]
  },
  {
   "cell_type": "code",
   "execution_count": 108,
   "metadata": {},
   "outputs": [
    {
     "data": {
      "text/plain": [
       "array([2.50214931e-12, 1.36778674e-12, 1.50709577e-12, 1.82642638e-12,\n",
       "       1.52456422e-12, 1.27849456e-12, 1.91221756e-12, 1.33394511e-12,\n",
       "       1.10337217e-12, 9.75557309e-13, 1.05919787e-12, 1.06601175e-12,\n",
       "       2.43922721e-12, 9.32416796e-13, 1.53039690e-12, 1.05655263e-12,\n",
       "       2.28719300e-12, 1.81361686e-12, 1.06293793e-12, 1.96485124e-12,\n",
       "       1.13959406e-12, 1.50531464e-12, 9.84051165e-13, 1.65798245e-12,\n",
       "       1.57862178e-12, 1.59103329e-12, 1.18943082e-12, 1.92377754e-12,\n",
       "       2.02427029e-12, 7.54040710e-13, 1.82443470e-12, 1.46578442e-12,\n",
       "       1.20678901e-12, 2.22907717e-12, 1.29283238e-12, 4.35510170e-11,\n",
       "       5.60426271e-12, 5.18594369e-12, 1.15122196e-10, 6.40022924e-09,\n",
       "       2.81033010e-08, 1.57942601e-08, 3.08531822e-09, 2.69572844e-08,\n",
       "       1.37624987e-08, 9.68732117e-09, 4.99960240e-10, 1.25602773e-09,\n",
       "       3.86109304e-11, 5.05867392e-09, 8.49009307e-09, 1.63234801e-10,\n",
       "       1.93438169e-12, 2.28820131e-12, 1.11269446e-12, 3.84998717e-12,\n",
       "       1.94152311e-12, 1.13975485e-12, 1.30568646e-12, 1.39726414e-12,\n",
       "       1.41293810e-10, 1.85930660e-10, 4.11763505e-12, 6.09883602e-11,\n",
       "       1.04790221e-09, 2.98167549e-07, 3.94241539e-07, 9.06695902e-07,\n",
       "       8.41505243e-06, 4.04082166e-05, 6.21506988e-05, 5.37238338e-05,\n",
       "       5.87716786e-05, 3.98045049e-05, 1.02681792e-04, 8.35310784e-05,\n",
       "       4.45544146e-07, 6.21460430e-08, 1.63434879e-06, 1.56445958e-06,\n",
       "       2.42735556e-08, 2.49924452e-12, 2.05832964e-12, 2.04107326e-12,\n",
       "       1.98000492e-12, 2.15468485e-12, 1.33124588e-12, 1.55692462e-12,\n",
       "       1.26766011e-08, 4.58614799e-08, 7.72411681e-08, 1.89253324e-08,\n",
       "       1.09761684e-08, 1.37877964e-06, 4.11048995e-06, 4.17384763e-05,\n",
       "       4.29560459e-04, 8.53861740e-04, 1.83890585e-03, 5.35762683e-03,\n",
       "       7.35858735e-03, 7.49680260e-03, 3.79747385e-03, 8.38842592e-04,\n",
       "       3.79687153e-05, 1.01425189e-06, 7.08194477e-07, 8.17488157e-08,\n",
       "       3.76728551e-08, 1.18276602e-12, 1.52438988e-12, 1.56046237e-12,\n",
       "       1.53928487e-12, 9.97102683e-13, 1.39697108e-12, 3.35120764e-10,\n",
       "       5.68673329e-07, 2.70411283e-06, 1.10131180e-06, 2.29880015e-06,\n",
       "       1.15746225e-05, 6.50650181e-05, 6.70459704e-04, 4.73886030e-03,\n",
       "       1.00056706e-02, 1.08082369e-02, 4.36378568e-02, 9.10259411e-02,\n",
       "       1.30154371e-01, 1.08010113e-01, 5.18166237e-02, 8.30718316e-03,\n",
       "       9.83678969e-04, 3.94584640e-05, 1.02568192e-05, 4.96768735e-06,\n",
       "       6.48743571e-06, 1.29037494e-06, 1.55150615e-11, 1.35999025e-12,\n",
       "       1.72927850e-12, 1.46491510e-12, 8.80730072e-11, 1.13145106e-07,\n",
       "       9.52759152e-08, 1.93618894e-06, 8.51190634e-06, 2.79310007e-05,\n",
       "       1.42793171e-04, 4.72197949e-04, 1.33446755e-03, 8.04561097e-03,\n",
       "       1.78652462e-02, 4.89384979e-02, 1.12482868e-01, 1.39224425e-01,\n",
       "       1.13225386e-01, 7.89062530e-02, 6.91161305e-02, 2.13677716e-02,\n",
       "       2.25045695e-03, 2.92924262e-04, 1.18884753e-04, 6.41904990e-05,\n",
       "       2.48920333e-05, 9.73169699e-06, 2.72695132e-07, 9.81280127e-11,\n",
       "       1.11160614e-12, 1.20509830e-12, 1.37588252e-08, 1.14607943e-07,\n",
       "       5.57712156e-06, 7.41171789e-06, 1.18890830e-05, 3.11233962e-05,\n",
       "       3.55206575e-04, 5.61665045e-04, 2.79529230e-03, 2.13464424e-02,\n",
       "       1.19576760e-01, 2.71043062e-01, 2.86732823e-01, 2.00496763e-01,\n",
       "       1.76077753e-01, 1.78793237e-01, 1.53393805e-01, 8.38411301e-02,\n",
       "       2.69525349e-02, 5.12204459e-03, 1.10170455e-03, 4.09544824e-04,\n",
       "       1.03065453e-04, 4.22163248e-05, 8.27550957e-06, 7.47288709e-07,\n",
       "       3.95798064e-12, 5.57053847e-10, 5.48500134e-10, 7.01330293e-07,\n",
       "       5.93732193e-06, 3.38358632e-06, 7.85109023e-06, 3.88695698e-05,\n",
       "       4.01337777e-04, 1.48225797e-03, 8.39865394e-03, 9.52007771e-02,\n",
       "       4.19238806e-01, 5.09231329e-01, 3.87433797e-01, 2.83396840e-01,\n",
       "       2.83337384e-01, 3.54368389e-01, 3.50389749e-01, 2.15233326e-01,\n",
       "       1.34369940e-01, 3.96782458e-02, 1.44926514e-02, 2.40598805e-03,\n",
       "       2.75740371e-04, 3.98690929e-04, 1.03323466e-04, 2.71896369e-07,\n",
       "       4.22242796e-12, 1.73155101e-10, 5.06951423e-08, 1.32569016e-06,\n",
       "       4.56927182e-06, 7.15955593e-06, 4.15850009e-05, 5.02725670e-05,\n",
       "       5.75913698e-04, 3.34304338e-03, 2.36434657e-02, 2.73251027e-01,\n",
       "       5.80180407e-01, 5.21899641e-01, 3.10097396e-01, 1.94063753e-01,\n",
       "       2.01381087e-01, 2.61173069e-01, 4.42149818e-01, 4.11891669e-01,\n",
       "       2.08712548e-01, 5.87766878e-02, 1.61611810e-02, 3.43088526e-03,\n",
       "       1.04308338e-03, 1.47796341e-03, 2.16299319e-04, 6.11225781e-09,\n",
       "       7.90622776e-13, 6.82601620e-09, 1.91700963e-07, 9.22651822e-08,\n",
       "       2.64341770e-06, 8.72070905e-06, 1.17590134e-05, 6.71083690e-05,\n",
       "       1.27901742e-03, 1.44893760e-02, 1.03064887e-01, 5.39273977e-01,\n",
       "       6.65216088e-01, 3.99805665e-01, 1.93240568e-01, 8.93013179e-02,\n",
       "       6.94592372e-02, 1.08755447e-01, 2.02294007e-01, 2.73244828e-01,\n",
       "       1.60023987e-01, 2.50654165e-02, 6.49410626e-03, 1.67919509e-03,\n",
       "       5.17006498e-04, 7.46806443e-04, 6.42293253e-06, 9.47449550e-08,\n",
       "       2.17717077e-12, 4.33713421e-09, 2.50674589e-07, 2.56239616e-07,\n",
       "       4.76017021e-06, 4.95287168e-06, 6.88305408e-06, 1.64267505e-04,\n",
       "       2.22752662e-03, 3.86623815e-02, 2.53856003e-01, 7.24097013e-01,\n",
       "       6.52512848e-01, 2.64661074e-01, 1.55616179e-01, 1.07986324e-01,\n",
       "       6.94049746e-02, 9.65422392e-02, 1.37981549e-01, 1.67452529e-01,\n",
       "       5.38518280e-02, 5.31098060e-03, 1.87336945e-03, 8.66249204e-04,\n",
       "       6.08160590e-05, 8.35065512e-05, 1.55408003e-07, 2.67334244e-08,\n",
       "       1.08085947e-12, 2.53466736e-09, 1.07812980e-07, 3.68222146e-07,\n",
       "       5.95671281e-07, 2.22767221e-06, 1.87239784e-05, 6.10229035e-04,\n",
       "       1.34382322e-02, 1.33819804e-01, 5.43684721e-01, 7.45174348e-01,\n",
       "       4.52130258e-01, 1.79550469e-01, 2.15348899e-01, 1.47168890e-01,\n",
       "       9.04463008e-02, 1.19511098e-01, 1.02508396e-01, 4.93070148e-02,\n",
       "       1.60912368e-02, 2.20535439e-03, 1.02236681e-03, 7.77732756e-04,\n",
       "       6.56709162e-05, 3.89066918e-05, 8.64979128e-08, 7.67868616e-11,\n",
       "       1.73071388e-12, 1.80006374e-11, 5.32448885e-09, 6.99050702e-08,\n",
       "       5.25146959e-07, 1.15254124e-06, 2.55988634e-05, 1.07040524e-03,\n",
       "       4.23983783e-02, 3.46678168e-01, 6.89462900e-01, 5.39000809e-01,\n",
       "       3.06250602e-01, 2.55967885e-01, 2.67405450e-01, 1.86502531e-01,\n",
       "       1.29315823e-01, 1.12275124e-01, 6.58795238e-02, 3.31820808e-02,\n",
       "       9.82407480e-03, 2.04718392e-03, 1.22261059e-03, 4.36933798e-04,\n",
       "       7.23579724e-05, 3.49772381e-06, 2.19242278e-08, 1.71974143e-10,\n",
       "       1.21253170e-12, 7.20082535e-11, 2.09294515e-09, 5.45181820e-08,\n",
       "       8.37159860e-07, 3.92896300e-06, 4.46100166e-05, 1.86576764e-03,\n",
       "       8.27346072e-02, 5.43023944e-01, 7.25691378e-01, 5.28810024e-01,\n",
       "       2.64618516e-01, 2.66884387e-01, 3.49795669e-01, 2.88859963e-01,\n",
       "       2.24592090e-01, 1.67702988e-01, 6.43153712e-02, 1.52751505e-02,\n",
       "       9.88688320e-03, 1.90137781e-03, 2.54759029e-03, 3.07790906e-04,\n",
       "       8.78849969e-05, 1.17878199e-06, 1.23091766e-07, 1.40293896e-12,\n",
       "       1.05796827e-12, 1.58093746e-10, 1.10215344e-10, 4.65949803e-08,\n",
       "       6.72917565e-07, 7.25775135e-06, 9.08496804e-05, 2.03109812e-03,\n",
       "       7.72946626e-02, 5.70042551e-01, 5.72670639e-01, 3.72773975e-01,\n",
       "       1.93135664e-01, 2.34540880e-01, 3.24323118e-01, 3.36855948e-01,\n",
       "       2.66487509e-01, 2.16859907e-01, 7.42625743e-02, 1.80038214e-02,\n",
       "       7.38110859e-03, 2.44064676e-03, 1.94802403e-03, 4.19674703e-04,\n",
       "       5.31169499e-05, 6.04336705e-08, 5.70339651e-08, 9.99583879e-13,\n",
       "       1.19698663e-12, 9.01450529e-12, 7.33630046e-10, 1.73641183e-07,\n",
       "       7.42343559e-07, 1.75605055e-05, 1.23857157e-04, 3.17024672e-03,\n",
       "       7.35026896e-02, 3.68363827e-01, 3.06492567e-01, 1.88181266e-01,\n",
       "       1.85914829e-01, 2.21322179e-01, 3.09417188e-01, 2.29044691e-01,\n",
       "       1.70221820e-01, 1.42093807e-01, 6.25026971e-02, 3.55663896e-02,\n",
       "       1.49896564e-02, 5.69882104e-03, 1.59562496e-03, 2.54294806e-04,\n",
       "       2.46386662e-05, 2.84005438e-07, 5.08781682e-07, 1.08499451e-12,\n",
       "       1.65247015e-12, 2.07346279e-10, 1.27743249e-07, 6.71873113e-06,\n",
       "       7.41351414e-06, 9.62069462e-05, 4.19934804e-04, 5.40775387e-03,\n",
       "       6.57866225e-02, 1.85091868e-01, 1.83182046e-01, 1.25624701e-01,\n",
       "       1.88785061e-01, 2.81847209e-01, 2.32206926e-01, 1.43413663e-01,\n",
       "       7.11816028e-02, 5.79114109e-02, 5.93614578e-02, 5.65349460e-02,\n",
       "       4.23721075e-02, 1.29972743e-02, 1.18139223e-03, 1.46693463e-04,\n",
       "       3.97665208e-05, 2.08491565e-06, 2.23198331e-08, 1.32520384e-12,\n",
       "       9.54464806e-13, 1.96478700e-09, 1.88223601e-06, 3.40441170e-06,\n",
       "       1.56533370e-05, 1.98832291e-04, 1.56002224e-03, 9.75751877e-03,\n",
       "       6.95867687e-02, 1.71710908e-01, 1.98032618e-01, 1.23876452e-01,\n",
       "       1.54296741e-01, 2.39732623e-01, 1.87925488e-01, 6.42475709e-02,\n",
       "       3.38844955e-02, 5.19156642e-02, 9.01336521e-02, 1.04999110e-01,\n",
       "       8.64118561e-02, 8.27235263e-03, 9.23405809e-04, 2.77919899e-04,\n",
       "       6.24317254e-05, 4.11060000e-06, 6.85563819e-08, 1.27572383e-10,\n",
       "       1.40431232e-12, 1.58863631e-10, 4.70056921e-06, 9.66465268e-06,\n",
       "       3.90174173e-05, 3.29591043e-04, 2.61091487e-03, 9.41278040e-03,\n",
       "       5.10284007e-02, 2.50108510e-01, 2.75771379e-01, 1.82464287e-01,\n",
       "       1.93905145e-01, 2.46794790e-01, 1.63461417e-01, 5.88755012e-02,\n",
       "       4.68960814e-02, 9.48214605e-02, 2.53980339e-01, 2.63292283e-01,\n",
       "       8.77256840e-02, 8.28069355e-03, 9.32356168e-04, 1.59528296e-04,\n",
       "       4.41206430e-05, 4.64182449e-06, 4.15200532e-07, 1.63439964e-08,\n",
       "       1.46682764e-12, 1.61543511e-12, 3.03750335e-06, 4.10949451e-06,\n",
       "       4.34107242e-05, 4.67712147e-04, 1.84158084e-03, 6.00395165e-03,\n",
       "       5.06748483e-02, 2.75121927e-01, 3.22741270e-01, 2.49098405e-01,\n",
       "       2.82834709e-01, 2.25846007e-01, 1.44084126e-01, 1.05245262e-01,\n",
       "       1.87239915e-01, 4.02451366e-01, 5.03154218e-01, 2.92998254e-01,\n",
       "       3.26228105e-02, 4.31125192e-03, 2.71705590e-04, 1.12501650e-04,\n",
       "       6.58826102e-05, 1.39463118e-05, 1.18721202e-08, 4.54539684e-10,\n",
       "       1.58230536e-12, 1.57020300e-10, 9.21953429e-08, 1.11530051e-06,\n",
       "       8.54702193e-06, 2.30034246e-04, 7.90831167e-04, 1.67426048e-03,\n",
       "       1.76796317e-02, 1.67034537e-01, 2.93572128e-01, 4.07412440e-01,\n",
       "       5.02603650e-01, 3.66767108e-01, 3.65886718e-01, 3.72927099e-01,\n",
       "       6.25692010e-01, 7.31462121e-01, 5.69344521e-01, 1.34936467e-01,\n",
       "       6.98008062e-03, 5.85488568e-04, 1.04238483e-04, 5.22058508e-05,\n",
       "       1.30339758e-05, 7.14105056e-07, 8.23835045e-09, 1.60018637e-10,\n",
       "       1.50902880e-12, 5.71687142e-11, 8.15653056e-09, 2.14477737e-07,\n",
       "       2.55212171e-06, 5.44179093e-05, 1.69157167e-04, 4.95232118e-04,\n",
       "       4.51106858e-03, 5.48328012e-02, 1.51178300e-01, 3.04414898e-01,\n",
       "       4.62157816e-01, 6.02015495e-01, 6.29902422e-01, 6.17080927e-01,\n",
       "       7.77444303e-01, 7.15960920e-01, 2.20430478e-01, 2.17318293e-02,\n",
       "       6.24397071e-04, 1.02508733e-04, 8.13484876e-05, 5.08068842e-06,\n",
       "       1.51633776e-06, 4.17878738e-07, 1.13288667e-08, 1.35818613e-12,\n",
       "       9.75339709e-13, 1.26712334e-12, 2.68581157e-09, 1.27729479e-07,\n",
       "       1.75868877e-06, 1.89891452e-05, 4.88139121e-05, 1.35548573e-04,\n",
       "       6.35064731e-04, 4.88921069e-03, 4.75633815e-02, 1.25526801e-01,\n",
       "       2.62493283e-01, 4.55937237e-01, 4.55427885e-01, 4.85353321e-01,\n",
       "       5.29386282e-01, 3.33978385e-01, 6.23793788e-02, 2.74927681e-03,\n",
       "       1.35274968e-04, 1.49097868e-05, 6.06629555e-06, 3.92566761e-07,\n",
       "       3.38527343e-07, 1.20572210e-07, 7.77361020e-09, 7.60104057e-13,\n",
       "       1.31788135e-12, 1.39732811e-12, 4.31331290e-11, 3.22239124e-08,\n",
       "       1.01401974e-06, 5.06776314e-06, 4.56391717e-05, 3.05668727e-05,\n",
       "       7.02106045e-05, 4.30539454e-04, 2.72229244e-03, 6.92381570e-03,\n",
       "       2.67942864e-02, 5.96443750e-02, 8.72204229e-02, 1.65861189e-01,\n",
       "       2.09470659e-01, 1.03675984e-01, 9.90394875e-03, 9.01251857e-04,\n",
       "       5.24666248e-05, 8.56367478e-06, 1.69144369e-06, 3.31617775e-06,\n",
       "       3.07638260e-07, 5.30890265e-09, 3.65674313e-09, 1.81311194e-12,\n",
       "       1.07869703e-12, 1.24103982e-12, 2.25612736e-12, 2.50651073e-08,\n",
       "       2.75411935e-07, 2.46094260e-06, 7.95300457e-06, 5.52184247e-06,\n",
       "       5.32364629e-06, 1.05781546e-05, 3.85905660e-05, 1.07212276e-04,\n",
       "       5.09669015e-04, 1.57594273e-03, 3.52024869e-03, 8.97491723e-03,\n",
       "       2.63153501e-02, 1.11326268e-02, 1.31368067e-03, 4.31946799e-04,\n",
       "       2.46260988e-05, 9.99275380e-06, 8.17088903e-07, 3.63801428e-06,\n",
       "       4.10505038e-07, 2.21769499e-12, 1.42987564e-12, 1.06198340e-12,\n",
       "       1.32674156e-12, 1.42177665e-12, 1.17703644e-12, 1.47144785e-09,\n",
       "       2.32092177e-08, 3.87962800e-08, 1.34484281e-07, 4.87331477e-07,\n",
       "       3.54534177e-06, 5.66515246e-06, 7.86429337e-06, 9.81746507e-06,\n",
       "       4.91649444e-05, 2.89614458e-04, 3.03895387e-04, 2.22775023e-04,\n",
       "       3.66783934e-04, 2.17141365e-04, 3.09881398e-05, 3.34912293e-05,\n",
       "       5.46210958e-06, 3.64608286e-06, 6.80323353e-07, 2.60737380e-07,\n",
       "       2.75192780e-09, 8.59920316e-13, 1.46325367e-12, 2.01279726e-12,\n",
       "       9.99303613e-13, 1.82339820e-12, 7.61245830e-13, 1.55354288e-12,\n",
       "       1.74340276e-09, 3.80331056e-09, 1.56400171e-09, 1.39314149e-09,\n",
       "       8.18269363e-09, 5.81974753e-08, 3.59988121e-07, 8.92042237e-07,\n",
       "       1.76681669e-06, 7.37668552e-06, 1.42145791e-05, 4.19903117e-05,\n",
       "       8.08726236e-06, 4.94750964e-07, 1.58933247e-07, 1.12592062e-07,\n",
       "       7.69550041e-08, 2.33670008e-07, 5.61265551e-07, 1.91619733e-08,\n",
       "       2.12097202e-12, 2.28645184e-12, 1.27736851e-12, 1.44662841e-12,\n",
       "       1.74844850e-12, 1.93853700e-12, 9.92548817e-13, 1.43292247e-12,\n",
       "       1.29640808e-12, 7.62771953e-13, 1.34446456e-11, 2.56158515e-11,\n",
       "       4.85954896e-12, 5.56916527e-11, 4.29015268e-10, 5.55953461e-09,\n",
       "       1.51206265e-08, 1.54122102e-08, 5.46009140e-08, 1.23602064e-07,\n",
       "       2.64171888e-07, 4.50453086e-07, 1.76906543e-08, 6.31198205e-10,\n",
       "       9.52874668e-10, 4.74243267e-09, 3.24070815e-09, 2.76444406e-12,\n",
       "       1.55548187e-12, 1.02496624e-12, 9.39762157e-13, 1.62761146e-12],\n",
       "      dtype=float32)"
      ]
     },
     "execution_count": 108,
     "metadata": {},
     "output_type": "execute_result"
    }
   ],
   "source": [
    "model.decoder(torch.randn(Z_DIM).to(device)).cpu().detach().numpy()"
   ]
  },
  {
   "cell_type": "code",
   "execution_count": 113,
   "metadata": {},
   "outputs": [
    {
     "data": {
      "text/plain": [
       "<matplotlib.image.AxesImage at 0x7f5de047a6c0>"
      ]
     },
     "execution_count": 113,
     "metadata": {},
     "output_type": "execute_result"
    },
    {
     "data": {
      "image/png": "[encoded data removed]",
      "text/plain": [
       "<Figure size 640x480 with 1 Axes>"
      ]
     },
     "metadata": {},
     "output_type": "display_data"
    }
   ],
   "source": [
    "plt.imshow(model.decoder(torch.randn(Z_DIM).to(device)).cpu().view(*IMG_SIZE).detach().numpy(), cmap='gray') "
   ]
  }
 ],
 "metadata": {
  "kernelspec": {
   "display_name": "3.12",
   "language": "python",
   "name": "python3"
  },
  "language_info": {
   "codemirror_mode": {
    "name": "ipython",
    "version": 3
   },
   "file_extension": ".py",
   "mimetype": "text/x-python",
   "name": "python",
   "nbconvert_exporter": "python",
   "pygments_lexer": "ipython3",
   "version": "3.12.8"
  }
 },
 "nbformat": 4,
 "nbformat_minor": 2
}
