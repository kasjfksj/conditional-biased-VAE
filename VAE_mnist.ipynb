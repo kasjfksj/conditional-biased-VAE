{
 "cells": [
  {
   "cell_type": "code",
   "execution_count": 1,
   "metadata": {},
   "outputs": [
    {
     "data": {
      "text/plain": [
       "device(type='cuda')"
      ]
     },
     "execution_count": 1,
     "metadata": {},
     "output_type": "execute_result"
    }
   ],
   "source": [
    "import torch\n",
    "import torch.nn as nn\n",
    "import torch.nn.functional as F\n",
    "import torchvision\n",
    "from torchvision import transforms\n",
    "from torchvision.utils import save_image\n",
    "from tqdm import tqdm\n",
    "\n",
    "from torchsummary import summary\n",
    "from matplotlib import pyplot as plt\n",
    "import numpy as np\n",
    "\n",
    "device = torch.device('cuda' if torch.cuda.is_available() else 'cpu')\n",
    "device"
   ]
  },
  {
   "cell_type": "code",
   "execution_count": 2,
   "metadata": {},
   "outputs": [],
   "source": [
    "transform = transforms.Compose([\n",
    "    transforms.ToTensor(),\n",
    "    transforms.Normalize((0.5, 0.5, 0.5), (0.5, 0.5, 0.5))\n",
    "])"
   ]
  },
  {
   "cell_type": "code",
   "execution_count": 3,
   "metadata": {},
   "outputs": [],
   "source": [
    "bs = 100\n",
    "# MNIST Dataset\n",
    "train_dataset = torchvision.datasets.MNIST(root='./mnist_data/', train=True, transform=transforms.ToTensor(), download=True)\n",
    "test_dataset = torchvision.datasets.MNIST(root='./mnist_data/', train=False, transform=transforms.ToTensor(), download=False)\n"
   ]
  },
  {
   "cell_type": "code",
   "execution_count": 4,
   "metadata": {},
   "outputs": [],
   "source": [
    "# Data Loader (Input Pipeline)\n",
    "train_loader = torch.utils.data.DataLoader(dataset=train_dataset, batch_size=bs, shuffle=True)\n",
    "test_loader = torch.utils.data.DataLoader(dataset=test_dataset, batch_size=bs, shuffle=False)"
   ]
  },
  {
   "cell_type": "code",
   "execution_count": 5,
   "metadata": {},
   "outputs": [],
   "source": [
    "class UnFlatten(nn.Module):\n",
    "    def forward(self, input, size=576):\n",
    "        return input.view(input.size(0), size, 1, 1)\n",
    "    \n",
    "# class VariationalAutoEncoderCNN(nn.Module):\n",
    "#     def __init__(self, z_dim, h_dim=576):\n",
    "#         super().__init__()\n",
    "#         # encoder\n",
    "#         self.encoder = nn.Sequential(\n",
    "#             nn.Conv2d(3, 64, kernel_size=3),\n",
    "#             nn.MaxPool2d(kernel_size=2),\n",
    "#             nn.Conv2d(64, 16, kernel_size=3),\n",
    "#             nn.MaxPool2d(kernel_size=2),\n",
    "#             nn.Flatten()\n",
    "#         )\n",
    "        \n",
    "#         self.fc1 = nn.Linear(h_dim, 256)\n",
    "#         self.fc2 = nn.Linear(256,z_dim)\n",
    "#         self.fc3 = nn.Linear(256, z_dim)\n",
    "#         self.fc4 = nn.Linear(z_dim, 256)\n",
    "#         self.fc5 = nn.Linear(256,h_dim)\n",
    "        \n",
    "#         self.decoder = nn.Sequential(\n",
    "#             UnFlatten(),\n",
    "#             nn.ConvTranspose2d(h_dim, 16, kernel_size=3, stride=2),\n",
    "#             nn.ReLU(),\n",
    "#             nn.ConvTranspose2d(16, 32, kernel_size=3, stride=2),\n",
    "#             nn.ReLU(),\n",
    "#             nn.ConvTranspose2d(32, 64, kernel_size=3, stride=2),\n",
    "#             nn.ReLU(),\n",
    "#             nn.ConvTranspose2d(64, 3, kernel_size=4, stride=2),\n",
    "#         )\n",
    "\n",
    "#     def encode(self, x):\n",
    "#         h = self.encoder(x)\n",
    "#         h=self.fc1(h)\n",
    "#         mu, sigma = self.fc2(h), self.fc3(h)\n",
    "#         return mu, sigma\n",
    "\n",
    "#     def decode(self, z):\n",
    "#         z = self.fc4(z)\n",
    "\n",
    "#         z = self.fc5(z)\n",
    "#         z = self.decoder(z)\n",
    "#         return z\n",
    "\n",
    "#     def forward(self, x):\n",
    "#         mu, sigma = self.encode(x)\n",
    "\n",
    "#         # Sample from latent distribution from encoder\n",
    "#         epsilon = torch.randn_like(sigma)\n",
    "#         z_reparametrized = mu + sigma*epsilon\n",
    "\n",
    "#         x = self.decode(z_reparametrized)\n",
    "#         return x, mu, sigma"
   ]
  },
  {
   "cell_type": "code",
   "execution_count": 6,
   "metadata": {},
   "outputs": [],
   "source": [
    "class VariationalAutoEncoderMLP(nn.Module):\n",
    "    def __init__(self,z_dim):\n",
    "        super().__init__()\n",
    "        self.fc1 = nn.Linear(784, 256)\n",
    "        self.fc2 = nn.Linear(256,z_dim)\n",
    "        self.fc3 = nn.Linear(256, z_dim)\n",
    "        self.fc4 = nn.Linear(z_dim, 256)\n",
    "        self.fc5 = nn.Linear(256,784)\n",
    "        \n",
    "        \n",
    "    def encode(self,x):\n",
    "        x=self.fc1(x)\n",
    "        return self.fc2(x),self.fc3(x)\n",
    "    def decode(self,x):\n",
    "        x = self.fc4(x)\n",
    "        x = self.fc5(x)\n",
    "        return F.sigmoid(x)\n",
    "    def forward(self, x):\n",
    "        mu, log_sigma = self.encode(x)\n",
    "        sigma = torch.exp(log_sigma*0.5)\n",
    "        epsilon = torch.randn_like(sigma)\n",
    "        z_reparametrized = mu + sigma*epsilon\n",
    "\n",
    "        x = self.decode(z_reparametrized)\n",
    "        return x, mu, sigma"
   ]
  },
  {
   "cell_type": "code",
   "execution_count": 7,
   "metadata": {},
   "outputs": [],
   "source": [
    "# Configuration\n",
    "INPUT_DIM = 784\n",
    "NUM_EPOCHS = 50\n",
    "BATCH_SIZE = 64\n",
    "LR_RATE = 4e-4\n",
    "\n",
    "def imshow(img):\n",
    "    img = img / 2 + 0.5     # unnormalize\n",
    "    npimg = img.detach().numpy()\n",
    "    t = np.transpose(npimg, (1, 2, 0))\n",
    "    plt.imshow(t)\n",
    "    plt.show()"
   ]
  },
  {
   "cell_type": "code",
   "execution_count": 10,
   "metadata": {},
   "outputs": [
    {
     "name": "stdout",
     "output_type": "stream",
     "text": [
      "12596.353515625\n",
      "10272.1337890625\n",
      "9770.2138671875\n",
      "10231.0283203125\n",
      "10397.974609375\n",
      "10244.765625\n",
      "9362.0966796875\n",
      "9908.1357421875\n",
      "10182.73046875\n",
      "10014.92578125\n",
      "9846.6884765625\n",
      "10458.9921875\n",
      "9696.26953125\n"
     ]
    }
   ],
   "source": [
    "def train(num_epochs, model, optimizer):\n",
    "    # Start training\n",
    "    for epoch in range(num_epochs):\n",
    "        for batch_idx, (x, _) in enumerate(train_loader):\n",
    "        \n",
    "            # Forward pass\n",
    "            # print(x[0][0])\n",
    "            # imshow(torchvision.utils.make_grid(x[1]))\n",
    "            x=x[:,0,:,:].view(-1,784).to(device)\n",
    "            x_reconst, mu, log_sigma = model(x)\n",
    "            sigma = torch.exp(log_sigma)\n",
    "            # loss, formulas from https://www.youtube.com/watch?v=igP03FXZqgo&t=2182s\n",
    "            reconst_loss = F.binary_cross_entropy(x_reconst, x.view(-1, 784), reduction='sum')    #First part of ELBO, reconstruction loss, measures how good is reconstructed image\n",
    "            kl_div = - torch.sum(1 + torch.log(sigma.pow(2)) - mu.pow(2) - sigma.pow(2)) #Second part of ELBO, measure difference between distribution of latent space and normal distribution\n",
    "\n",
    "            # Backprop and optimize\n",
    "            loss = reconst_loss + kl_div\n",
    "            optimizer.zero_grad()\n",
    "            loss.backward()\n",
    "            optimizer.step()\n",
    "        if epoch%4==0:\n",
    "            print(loss.item())\n",
    "# summary(model,(3,32,32))\n",
    "# Run training\n",
    "model=VariationalAutoEncoderMLP(z_dim=16).to(device)\n",
    "train(\n",
    "    NUM_EPOCHS,\n",
    "    model,\n",
    "    torch.optim.Adam(model.parameters(), lr=LR_RATE)\n",
    ")"
   ]
  },
  {
   "cell_type": "code",
   "execution_count": null,
   "metadata": {},
   "outputs": [
    {
     "name": "stderr",
     "output_type": "stream",
     "text": [
      "0it [00:00, ?it/s]"
     ]
    },
    {
     "data": {
      "image/png": "[encoded data removed]",
      "text/plain": [
       "<Figure size 640x480 with 1 Axes>"
      ]
     },
     "metadata": {},
     "output_type": "display_data"
    },
    {
     "ename": "RuntimeError",
     "evalue": "Expected all tensors to be on the same device, but found at least two devices, cuda:0 and cpu! (when checking argument for argument mat1 in method wrapper_CUDA_addmm)",
     "output_type": "error",
     "traceback": [
      "\u001b[0;31m---------------------------------------------------------------------------\u001b[0m",
      "\u001b[0;31mRuntimeError\u001b[0m                              Traceback (most recent call last)",
      "Cell \u001b[0;32mIn[11], line 46\u001b[0m\n\u001b[1;32m     43\u001b[0m     x_reconst \u001b[38;5;241m=\u001b[39m x_reconst\u001b[38;5;241m.\u001b[39mview(\u001b[38;5;241m-\u001b[39m\u001b[38;5;241m1\u001b[39m,\u001b[38;5;241m28\u001b[39m,\u001b[38;5;241m28\u001b[39m)\n\u001b[1;32m     44\u001b[0m     imshow(torchvision\u001b[38;5;241m.\u001b[39mutils\u001b[38;5;241m.\u001b[39mmake_grid(x_reconst))\n\u001b[0;32m---> 46\u001b[0m \u001b[43minference\u001b[49m\u001b[43m(\u001b[49m\u001b[38;5;241;43m4\u001b[39;49m\u001b[43m,\u001b[49m\u001b[43mnum_examples\u001b[49m\u001b[43m \u001b[49m\u001b[38;5;241;43m=\u001b[39;49m\u001b[43m \u001b[49m\u001b[38;5;241;43m5\u001b[39;49m\u001b[43m)\u001b[49m\n",
      "Cell \u001b[0;32mIn[11], line 25\u001b[0m, in \u001b[0;36minference\u001b[0;34m(digit, num_examples)\u001b[0m\n\u001b[1;32m     23\u001b[0m imshow(torchvision\u001b[38;5;241m.\u001b[39mutils\u001b[38;5;241m.\u001b[39mmake_grid(d[\u001b[38;5;241m1\u001b[39m]))\n\u001b[1;32m     24\u001b[0m \u001b[38;5;66;03m# mu, sigma = model.encode(images[d].view(-1,3,32,32))\u001b[39;00m\n\u001b[0;32m---> 25\u001b[0m mu, log_sigma \u001b[38;5;241m=\u001b[39m \u001b[43mmodel\u001b[49m\u001b[38;5;241;43m.\u001b[39;49m\u001b[43mencode\u001b[49m\u001b[43m(\u001b[49m\u001b[43md\u001b[49m\u001b[43m[\u001b[49m\u001b[38;5;241;43m1\u001b[39;49m\u001b[43m]\u001b[49m\u001b[38;5;241;43m.\u001b[39;49m\u001b[43mview\u001b[49m\u001b[43m(\u001b[49m\u001b[38;5;241;43m-\u001b[39;49m\u001b[38;5;241;43m1\u001b[39;49m\u001b[43m,\u001b[49m\u001b[38;5;241;43m784\u001b[39;49m\u001b[43m)\u001b[49m\u001b[43m)\u001b[49m\n\u001b[1;32m     26\u001b[0m \u001b[38;5;28mprint\u001b[39m(mu)\n\u001b[1;32m     27\u001b[0m sigma \u001b[38;5;241m=\u001b[39m torch\u001b[38;5;241m.\u001b[39mexp(log_sigma)\n",
      "Cell \u001b[0;32mIn[6], line 12\u001b[0m, in \u001b[0;36mVariationalAutoEncoderMLP.encode\u001b[0;34m(self, x)\u001b[0m\n\u001b[1;32m     11\u001b[0m \u001b[38;5;28;01mdef\u001b[39;00m \u001b[38;5;21mencode\u001b[39m(\u001b[38;5;28mself\u001b[39m,x):\n\u001b[0;32m---> 12\u001b[0m     x\u001b[38;5;241m=\u001b[39m\u001b[38;5;28;43mself\u001b[39;49m\u001b[38;5;241;43m.\u001b[39;49m\u001b[43mfc1\u001b[49m\u001b[43m(\u001b[49m\u001b[43mx\u001b[49m\u001b[43m)\u001b[49m\n\u001b[1;32m     13\u001b[0m     \u001b[38;5;28;01mreturn\u001b[39;00m \u001b[38;5;28mself\u001b[39m\u001b[38;5;241m.\u001b[39mfc2(x),\u001b[38;5;28mself\u001b[39m\u001b[38;5;241m.\u001b[39mfc3(x)\n",
      "File \u001b[0;32m~/miniconda3/envs/3.12/lib/python3.12/site-packages/torch/nn/modules/module.py:1736\u001b[0m, in \u001b[0;36mModule._wrapped_call_impl\u001b[0;34m(self, *args, **kwargs)\u001b[0m\n\u001b[1;32m   1734\u001b[0m     \u001b[38;5;28;01mreturn\u001b[39;00m \u001b[38;5;28mself\u001b[39m\u001b[38;5;241m.\u001b[39m_compiled_call_impl(\u001b[38;5;241m*\u001b[39margs, \u001b[38;5;241m*\u001b[39m\u001b[38;5;241m*\u001b[39mkwargs)  \u001b[38;5;66;03m# type: ignore[misc]\u001b[39;00m\n\u001b[1;32m   1735\u001b[0m \u001b[38;5;28;01melse\u001b[39;00m:\n\u001b[0;32m-> 1736\u001b[0m     \u001b[38;5;28;01mreturn\u001b[39;00m \u001b[38;5;28;43mself\u001b[39;49m\u001b[38;5;241;43m.\u001b[39;49m\u001b[43m_call_impl\u001b[49m\u001b[43m(\u001b[49m\u001b[38;5;241;43m*\u001b[39;49m\u001b[43margs\u001b[49m\u001b[43m,\u001b[49m\u001b[43m \u001b[49m\u001b[38;5;241;43m*\u001b[39;49m\u001b[38;5;241;43m*\u001b[39;49m\u001b[43mkwargs\u001b[49m\u001b[43m)\u001b[49m\n",
      "File \u001b[0;32m~/miniconda3/envs/3.12/lib/python3.12/site-packages/torch/nn/modules/module.py:1747\u001b[0m, in \u001b[0;36mModule._call_impl\u001b[0;34m(self, *args, **kwargs)\u001b[0m\n\u001b[1;32m   1742\u001b[0m \u001b[38;5;66;03m# If we don't have any hooks, we want to skip the rest of the logic in\u001b[39;00m\n\u001b[1;32m   1743\u001b[0m \u001b[38;5;66;03m# this function, and just call forward.\u001b[39;00m\n\u001b[1;32m   1744\u001b[0m \u001b[38;5;28;01mif\u001b[39;00m \u001b[38;5;129;01mnot\u001b[39;00m (\u001b[38;5;28mself\u001b[39m\u001b[38;5;241m.\u001b[39m_backward_hooks \u001b[38;5;129;01mor\u001b[39;00m \u001b[38;5;28mself\u001b[39m\u001b[38;5;241m.\u001b[39m_backward_pre_hooks \u001b[38;5;129;01mor\u001b[39;00m \u001b[38;5;28mself\u001b[39m\u001b[38;5;241m.\u001b[39m_forward_hooks \u001b[38;5;129;01mor\u001b[39;00m \u001b[38;5;28mself\u001b[39m\u001b[38;5;241m.\u001b[39m_forward_pre_hooks\n\u001b[1;32m   1745\u001b[0m         \u001b[38;5;129;01mor\u001b[39;00m _global_backward_pre_hooks \u001b[38;5;129;01mor\u001b[39;00m _global_backward_hooks\n\u001b[1;32m   1746\u001b[0m         \u001b[38;5;129;01mor\u001b[39;00m _global_forward_hooks \u001b[38;5;129;01mor\u001b[39;00m _global_forward_pre_hooks):\n\u001b[0;32m-> 1747\u001b[0m     \u001b[38;5;28;01mreturn\u001b[39;00m \u001b[43mforward_call\u001b[49m\u001b[43m(\u001b[49m\u001b[38;5;241;43m*\u001b[39;49m\u001b[43margs\u001b[49m\u001b[43m,\u001b[49m\u001b[43m \u001b[49m\u001b[38;5;241;43m*\u001b[39;49m\u001b[38;5;241;43m*\u001b[39;49m\u001b[43mkwargs\u001b[49m\u001b[43m)\u001b[49m\n\u001b[1;32m   1749\u001b[0m result \u001b[38;5;241m=\u001b[39m \u001b[38;5;28;01mNone\u001b[39;00m\n\u001b[1;32m   1750\u001b[0m called_always_called_hooks \u001b[38;5;241m=\u001b[39m \u001b[38;5;28mset\u001b[39m()\n",
      "File \u001b[0;32m~/miniconda3/envs/3.12/lib/python3.12/site-packages/torch/nn/modules/linear.py:125\u001b[0m, in \u001b[0;36mLinear.forward\u001b[0;34m(self, input)\u001b[0m\n\u001b[1;32m    124\u001b[0m \u001b[38;5;28;01mdef\u001b[39;00m \u001b[38;5;21mforward\u001b[39m(\u001b[38;5;28mself\u001b[39m, \u001b[38;5;28minput\u001b[39m: Tensor) \u001b[38;5;241m-\u001b[39m\u001b[38;5;241m>\u001b[39m Tensor:\n\u001b[0;32m--> 125\u001b[0m     \u001b[38;5;28;01mreturn\u001b[39;00m \u001b[43mF\u001b[49m\u001b[38;5;241;43m.\u001b[39;49m\u001b[43mlinear\u001b[49m\u001b[43m(\u001b[49m\u001b[38;5;28;43minput\u001b[39;49m\u001b[43m,\u001b[49m\u001b[43m \u001b[49m\u001b[38;5;28;43mself\u001b[39;49m\u001b[38;5;241;43m.\u001b[39;49m\u001b[43mweight\u001b[49m\u001b[43m,\u001b[49m\u001b[43m \u001b[49m\u001b[38;5;28;43mself\u001b[39;49m\u001b[38;5;241;43m.\u001b[39;49m\u001b[43mbias\u001b[49m\u001b[43m)\u001b[49m\n",
      "\u001b[0;31mRuntimeError\u001b[0m: Expected all tensors to be on the same device, but found at least two devices, cuda:0 and cpu! (when checking argument for argument mat1 in method wrapper_CUDA_addmm)"
     ]
    }
   ],
   "source": [
    "loop = tqdm(enumerate(train_loader))\n",
    "def inference(digit, num_examples=1):\n",
    "    \"\"\"\n",
    "    Generates (num_examples) of a particular digit.\n",
    "    Specifically we extract an example of each digit,\n",
    "    then after we have the mu, sigma representation for\n",
    "    each digit we can sample from that.\n",
    "\n",
    "    After we sample we can run the decoder part of the VAE\n",
    "    and generate examples.\n",
    "    \"\"\"\n",
    "    from_original = []\n",
    "    images =[]\n",
    "    idx = 0\n",
    "    for x, y in train_loader:\n",
    "        idx+=1\n",
    "        images.append(x)\n",
    "        if idx==3:\n",
    "            break\n",
    "    encodings_digit = []\n",
    "    for d in images:\n",
    "        with torch.no_grad():\n",
    "            imshow(torchvision.utils.make_grid(d[1]))\n",
    "            # mu, sigma = model.encode(images[d].view(-1,3,32,32))\n",
    "            mu, log_sigma = model.encode(d[1].view(-1,784))\n",
    "            sigma = torch.exp(log_sigma)\n",
    "            epsilon = torch.randn_like(torch.exp(sigma))\n",
    "            z_reparametrized = mu + sigma*epsilon\n",
    "            x_reconst = model.decode(z_reparametrized)\n",
    "            x_reconst = x_reconst.view(-1,28,28)\n",
    "            from_original.append(x_reconst)\n",
    "            imshow(torchvision.utils.make_grid(x_reconst))\n",
    "        encodings_digit.append((mu, sigma))\n",
    "        # save_image(out, f\"generated_{digit}_ex{example}.png\")\n",
    "    \n",
    "    sigma = torch.rand(16)*2-1\n",
    "    sigma = sigma.view(-1,16)\n",
    "    mu = torch.normal(0,1,size=(1,16))\n",
    "    epsilon = torch.randn_like(sigma)\n",
    "    z_reparametrized = mu\n",
    "    x_reconst = model.decode(z_reparametrized)\n",
    "    x_reconst = x_reconst.view(-1,28,28)\n",
    "    imshow(torchvision.utils.make_grid(x_reconst))\n",
    "\n",
    "inference(4,num_examples = 5)\n",
    "\n"
   ]
  },
  {
   "cell_type": "code",
   "execution_count": null,
   "metadata": {},
   "outputs": [],
   "source": []
  }
 ],
 "metadata": {
  "kernelspec": {
   "display_name": "3.12",
   "language": "python",
   "name": "python3"
  },
  "language_info": {
   "codemirror_mode": {
    "name": "ipython",
    "version": 3
   },
   "file_extension": ".py",
   "mimetype": "text/x-python",
   "name": "python",
   "nbconvert_exporter": "python",
   "pygments_lexer": "ipython3",
   "version": "3.12.8"
  }
 },
 "nbformat": 4,
 "nbformat_minor": 2
}
