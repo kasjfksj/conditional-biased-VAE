{
 "cells": [
  {
   "cell_type": "code",
   "execution_count": 22,
   "metadata": {},
   "outputs": [],
   "source": [
    "def mul(*v):\n",
    "    ret=1\n",
    "    for x in v:\n",
    "        ret*=x\n",
    "    return ret"
   ]
  },
  {
   "cell_type": "code",
   "execution_count": 23,
   "metadata": {},
   "outputs": [
    {
     "data": {
      "text/plain": [
       "device(type='cuda')"
      ]
     },
     "execution_count": 23,
     "metadata": {},
     "output_type": "execute_result"
    }
   ],
   "source": [
    "import torch\n",
    "import torch.nn as nn\n",
    "import torch.nn.functional as F\n",
    "import torchvision\n",
    "from torchvision import transforms\n",
    "#from torchvision.utils import save_image\n",
    "#from tqdm import tqdm\n",
    "\n",
    "#from torchsummary import summary\n",
    "from matplotlib import pyplot as plt\n",
    "import numpy as np\n",
    "#import cv2\n",
    "\n",
    "device = torch.device('cuda' if torch.cuda.is_available() else 'cpu')\n",
    "device"
   ]
  },
  {
   "cell_type": "code",
   "execution_count": 24,
   "metadata": {},
   "outputs": [],
   "source": [
    "SEED=42"
   ]
  },
  {
   "cell_type": "code",
   "execution_count": 25,
   "metadata": {},
   "outputs": [],
   "source": [
    "l = torchvision.datasets.MNIST(root='./mnist_data/', train = True, download = True, transform = transforms.ToTensor())\n",
    "t = torchvision.datasets.MNIST(root='./mnist_data/', train = False, download = True, transform = transforms.ToTensor())"
   ]
  },
  {
   "cell_type": "code",
   "execution_count": 26,
   "metadata": {},
   "outputs": [
    {
     "data": {
      "text/plain": [
       "(torch.Size([60000, 28, 28]), torch.Size([60000]))"
      ]
     },
     "execution_count": 26,
     "metadata": {},
     "output_type": "execute_result"
    }
   ],
   "source": [
    "l.data.shape,l.targets.shape"
   ]
  },
  {
   "cell_type": "code",
   "execution_count": 27,
   "metadata": {},
   "outputs": [
    {
     "data": {
      "text/plain": [
       "(torch.Size([28, 28]), tensor(5))"
      ]
     },
     "execution_count": 27,
     "metadata": {},
     "output_type": "execute_result"
    }
   ],
   "source": [
    "l.data[0].shape,l.targets[0]"
   ]
  },
  {
   "cell_type": "code",
   "execution_count": 28,
   "metadata": {},
   "outputs": [
    {
     "data": {
      "text/plain": [
       "((28, 28), 784)"
      ]
     },
     "execution_count": 28,
     "metadata": {},
     "output_type": "execute_result"
    }
   ],
   "source": [
    "img_shape=tuple(l.data[0].shape)\n",
    "img_dim=mul(*img_shape)\n",
    "img_shape,img_dim"
   ]
  },
  {
   "cell_type": "code",
   "execution_count": 29,
   "metadata": {},
   "outputs": [],
   "source": [
    "x_l=l.data.numpy()\n",
    "y_l=l.targets.numpy()\n",
    "x_t=t.data.numpy()\n",
    "y_t=t.targets.numpy()"
   ]
  },
  {
   "cell_type": "code",
   "execution_count": 30,
   "metadata": {},
   "outputs": [],
   "source": [
    "IMG_DTYPE=np.float32\n",
    "\n",
    "#training set\n",
    "yl=y_l #get selected imgs\n",
    "xl=x_l.astype(IMG_DTYPE)/255 #color 0~255\n",
    "\n",
    "#testing set\n",
    "T_SIZE=1000\n",
    "yt=y_t[:T_SIZE]\n",
    "xt=x_t[:T_SIZE].astype(IMG_DTYPE)/255"
   ]
  },
  {
   "cell_type": "code",
   "execution_count": 31,
   "metadata": {},
   "outputs": [
    {
     "data": {
      "text/plain": [
       "<matplotlib.image.AxesImage at 0x7f229c5c1eb0>"
      ]
     },
     "execution_count": 31,
     "metadata": {},
     "output_type": "execute_result"
    },
    {
     "data": {
      "image/png": "[encoded data removed]",
      "text/plain": [
       "<Figure size 640x480 with 1 Axes>"
      ]
     },
     "metadata": {},
     "output_type": "display_data"
    }
   ],
   "source": [
    "plt.imshow(xl[0], cmap='gray') "
   ]
  },
  {
   "cell_type": "code",
   "execution_count": 32,
   "metadata": {},
   "outputs": [],
   "source": [
    "L_BATCH_SIZE=64\n",
    "T_BATCH_SIZE=100\n",
    "\n",
    "\n",
    "#create dataloaders\n",
    "ld=torch.utils.data.DataLoader(\n",
    "    list(zip(xl,yl)),shuffle=True,batch_size=L_BATCH_SIZE\n",
    ")\n",
    "td=torch.utils.data.DataLoader(\n",
    "    list(zip(xt,yt)),shuffle=True,batch_size=T_BATCH_SIZE\n",
    ")"
   ]
  },
  {
   "cell_type": "code",
   "execution_count": 33,
   "metadata": {},
   "outputs": [],
   "source": [
    "Z_DIM=16\n",
    "MID_DIM=256\n",
    "num_tags=len(set(yl))\n",
    "\n",
    "class VAE(nn.Module):\n",
    "    def __init__(self,z_dim=Z_DIM,mid_dim=MID_DIM,num_tags=num_tags):\n",
    "        super().__init__()\n",
    "        self.fc1 = nn.Linear(img_dim, mid_dim)\n",
    "        \n",
    "        self.fc21 = nn.Linear(mid_dim,z_dim) #mu (mean)\n",
    "        self.fc22 = nn.Linear(mid_dim, z_dim) #sigma (std)\n",
    "\n",
    "\n",
    "        self.fc3 = nn.Linear(z_dim, mid_dim)\n",
    "        self.fc4 = nn.Linear(mid_dim,img_dim)\n",
    "\n",
    "        self.mu_shift = nn.Embedding(num_tags, z_dim)\n",
    "        self.std_shift = nn.Embedding(num_tags, z_dim)\n",
    "        \n",
    "    def encode(self,x):\n",
    "        x=torch.relu(self.fc1(x))\n",
    "        return self.fc21(x),self.fc22(x)\n",
    "\n",
    "    def decode(self,z):\n",
    "        return F.sigmoid(\n",
    "            self.fc4(\n",
    "                torch.relu(\n",
    "                    self.fc3(\n",
    "                        z\n",
    "                    )\n",
    "                )\n",
    "            )\n",
    "        )\n",
    "    \n",
    "    def gen(self,tag,e=0):\n",
    "        return self.decode(\n",
    "            self.mu_shift(tag)+e*(torch.abs(self.std_shift(tag))+1)\n",
    "        )\n",
    "\n",
    "\n",
    "\n",
    "    def forward(self, x, tag):\n",
    "        mu, log_std = self.encode(\n",
    "            x.view(-1, img_dim)\n",
    "        )\n",
    "        std=torch.exp(log_std*0.5)\n",
    "        z=self.mu_shift(tag)+mu+(torch.abs(self.std_shift(tag))+std)*torch.randn_like(std)\n",
    "        return self.decode(z),mu,std,log_std"
   ]
  },
  {
   "cell_type": "code",
   "execution_count": 34,
   "metadata": {},
   "outputs": [],
   "source": [
    "def loss_fn(x, y, mu, std, log_std): \n",
    "    '''BCE + KLD'''\n",
    "    return F.binary_cross_entropy(y, x.view(-1, img_dim), reduction='sum') + \\\n",
    "        torch.sum(1 + log_std - mu**2 - std**2)* -0.5*2"
   ]
  },
  {
   "cell_type": "code",
   "execution_count": 35,
   "metadata": {},
   "outputs": [],
   "source": [
    "torch.manual_seed(SEED)\n",
    "model=VAE().to(device)\n",
    "op=torch.optim.Adam(\n",
    "    model.parameters(),\n",
    "    lr=0.002\n",
    ")"
   ]
  },
  {
   "cell_type": "code",
   "execution_count": 36,
   "metadata": {},
   "outputs": [],
   "source": [
    "I=torch.eye(Z_DIM).to(device)*99"
   ]
  },
  {
   "cell_type": "code",
   "execution_count": 37,
   "metadata": {},
   "outputs": [],
   "source": [
    "def l_step(\n",
    "    model: torch.nn.Module,\n",
    "    dl: torch.utils.data.DataLoader,\n",
    "    loss_fn: torch.nn.Module,\n",
    "    op: torch.optim.Optimizer,\n",
    "    epochs:int=50\n",
    "):\n",
    "    # Put model in train mode\n",
    "    model.train()\n",
    "\n",
    "    for epoch in range(epochs):\n",
    "        epoch_loss = 0\n",
    "        for batch_idx,(x,tag) in enumerate(dl):\n",
    "            \n",
    "            x,tag=x.to(device),tag.to(device)\n",
    "            #print(type(tag))\n",
    "\n",
    "            # 1. Forward pass\n",
    "            y,mu,std,log_std = model(x,tag)\n",
    "\n",
    "            # 2. Caculate the loss\n",
    "            loss=loss_fn(x,y,mu,std,log_std)\n",
    "\n",
    "            # 3. Optimizer zero grad\n",
    "            op.zero_grad()\n",
    "\n",
    "            # 4. Loss backward\n",
    "            loss.backward()\n",
    "\n",
    "            # 5. Optimizer step\n",
    "            op.step()\n",
    "\n",
    "            epoch_loss+=loss.item()\n",
    "        \n",
    "        if epoch%10==0:\n",
    "            print(epoch_loss)\n",
    "            \n",
    "    model.eval()\n"
   ]
  },
  {
   "cell_type": "code",
   "execution_count": 38,
   "metadata": {},
   "outputs": [
    {
     "name": "stdout",
     "output_type": "stream",
     "text": [
      "9768958.096191406\n",
      "7390391.971191406\n",
      "7265125.813232422\n",
      "7208372.702636719\n",
      "7175844.1767578125\n"
     ]
    }
   ],
   "source": [
    "torch.manual_seed(SEED)\n",
    "l_step(\n",
    "    model,\n",
    "    ld,\n",
    "    loss_fn,\n",
    "    op,\n",
    "    50\n",
    ")"
   ]
  },
  {
   "cell_type": "code",
   "execution_count": 39,
   "metadata": {},
   "outputs": [
    {
     "data": {
      "image/png": "[encoded data removed]",
      "text/plain": [
       "<Figure size 800x800 with 16 Axes>"
      ]
     },
     "metadata": {},
     "output_type": "display_data"
    }
   ],
   "source": [
    "\"\"\"\n",
    "sample at mu (stuff after 9 should not carry any meaning)\n",
    "\"\"\"\n",
    "# Create a 3x3 grid of subplots\n",
    "fig, axes = plt.subplots(4, 4, figsize=(8, 8))\n",
    "\n",
    "# Loop through the axes and images\n",
    "for i,ax in zip(range(num_tags),axes.ravel()):\n",
    "    ax.imshow(model.gen(torch.Tensor([i]).long().to(device)).cpu().view(*img_shape).detach().numpy(), cmap='gray')  # Display each image\n",
    "    ax.axis('off')  # Hide axes for better visualization\n",
    "\n",
    "plt.tight_layout()\n",
    "plt.show()"
   ]
  },
  {
   "cell_type": "code",
   "execution_count": 40,
   "metadata": {},
   "outputs": [
    {
     "name": "stdout",
     "output_type": "stream",
     "text": [
      "tensor(0.)\n",
      "tensor(207.9590)\n",
      "tensor(67.5395)\n",
      "tensor(193.5771)\n",
      "tensor(284.3092)\n",
      "tensor(166.0616)\n",
      "tensor(106.3890)\n",
      "tensor(117.8682)\n",
      "tensor(104.1679)\n",
      "tensor(172.5707)\n",
      "tensor(207.9590)\n",
      "tensor(0.)\n",
      "tensor(267.1421)\n",
      "tensor(224.4188)\n",
      "tensor(206.6625)\n",
      "tensor(197.8783)\n",
      "tensor(147.1810)\n",
      "tensor(237.5551)\n",
      "tensor(186.5108)\n",
      "tensor(129.9837)\n",
      "tensor(67.5395)\n",
      "tensor(267.1421)\n",
      "tensor(0.)\n",
      "tensor(113.7846)\n",
      "tensor(364.8806)\n",
      "tensor(208.8241)\n",
      "tensor(224.7654)\n",
      "tensor(162.3877)\n",
      "tensor(140.7972)\n",
      "tensor(220.4256)\n",
      "tensor(193.5771)\n",
      "tensor(224.4188)\n",
      "tensor(113.7846)\n",
      "tensor(0.)\n",
      "tensor(281.8822)\n",
      "tensor(103.1245)\n",
      "tensor(191.0389)\n",
      "tensor(249.8073)\n",
      "tensor(175.2771)\n",
      "tensor(163.5869)\n",
      "tensor(284.3092)\n",
      "tensor(206.6625)\n",
      "tensor(364.8806)\n",
      "tensor(281.8822)\n",
      "tensor(0.)\n",
      "tensor(265.2490)\n",
      "tensor(152.5404)\n",
      "tensor(160.5958)\n",
      "tensor(255.3610)\n",
      "tensor(65.9000)\n",
      "tensor(166.0616)\n",
      "tensor(197.8783)\n",
      "tensor(208.8241)\n",
      "tensor(103.1245)\n",
      "tensor(265.2490)\n",
      "tensor(0.)\n",
      "tensor(108.5557)\n",
      "tensor(257.7264)\n",
      "tensor(182.2856)\n",
      "tensor(151.5892)\n",
      "tensor(106.3890)\n",
      "tensor(147.1810)\n",
      "tensor(224.7654)\n",
      "tensor(191.0389)\n",
      "tensor(152.5404)\n",
      "tensor(108.5557)\n",
      "tensor(0.)\n",
      "tensor(137.4091)\n",
      "tensor(206.0577)\n",
      "tensor(134.8087)\n",
      "tensor(117.8682)\n",
      "tensor(237.5551)\n",
      "tensor(162.3877)\n",
      "tensor(249.8073)\n",
      "tensor(160.5958)\n",
      "tensor(257.7264)\n",
      "tensor(137.4091)\n",
      "tensor(0.)\n",
      "tensor(267.0967)\n",
      "tensor(136.8873)\n",
      "tensor(104.1679)\n",
      "tensor(186.5108)\n",
      "tensor(140.7972)\n",
      "tensor(175.2771)\n",
      "tensor(255.3610)\n",
      "tensor(182.2856)\n",
      "tensor(206.0577)\n",
      "tensor(267.0967)\n",
      "tensor(0.)\n",
      "tensor(124.8153)\n",
      "tensor(172.5707)\n",
      "tensor(129.9837)\n",
      "tensor(220.4256)\n",
      "tensor(163.5869)\n",
      "tensor(65.9000)\n",
      "tensor(151.5892)\n",
      "tensor(134.8087)\n",
      "tensor(136.8873)\n",
      "tensor(124.8153)\n",
      "tensor(0.)\n"
     ]
    }
   ],
   "source": [
    "for i in range(num_tags):\n",
    "    for j in range(num_tags):\n",
    "        print(\n",
    "            torch.sum(\n",
    "                (\n",
    "                    model.mu_shift(torch.Tensor([i]).long().to(device)).cpu().detach() - \\\n",
    "                    model.mu_shift(torch.Tensor([j]).long().to(device)).cpu().detach()\n",
    "                )**2\n",
    "            )\n",
    "    )"
   ]
  },
  {
   "cell_type": "code",
   "execution_count": 41,
   "metadata": {},
   "outputs": [
    {
     "name": "stdout",
     "output_type": "stream",
     "text": [
      "tensor(0.)\n",
      "tensor(5.5804e-05)\n",
      "tensor(2.5493e-05)\n",
      "tensor(2.5856e-05)\n",
      "tensor(2.8954e-05)\n",
      "tensor(3.0531e-05)\n",
      "tensor(0.0001)\n",
      "tensor(4.8770e-05)\n",
      "tensor(4.7483e-05)\n",
      "tensor(2.6867e-05)\n",
      "tensor(5.5804e-05)\n",
      "tensor(0.)\n",
      "tensor(4.4214e-05)\n",
      "tensor(8.0216e-05)\n",
      "tensor(9.4368e-05)\n",
      "tensor(0.0001)\n",
      "tensor(0.0002)\n",
      "tensor(0.0001)\n",
      "tensor(0.0001)\n",
      "tensor(8.9060e-05)\n",
      "tensor(2.5493e-05)\n",
      "tensor(4.4214e-05)\n",
      "tensor(0.)\n",
      "tensor(2.1152e-05)\n",
      "tensor(2.5503e-05)\n",
      "tensor(3.6519e-05)\n",
      "tensor(7.2084e-05)\n",
      "tensor(3.0076e-05)\n",
      "tensor(3.7101e-05)\n",
      "tensor(4.3030e-05)\n",
      "tensor(2.5856e-05)\n",
      "tensor(8.0216e-05)\n",
      "tensor(2.1152e-05)\n",
      "tensor(0.)\n",
      "tensor(3.0291e-05)\n",
      "tensor(2.7692e-05)\n",
      "tensor(8.7444e-05)\n",
      "tensor(3.4494e-05)\n",
      "tensor(5.8184e-05)\n",
      "tensor(4.5052e-05)\n",
      "tensor(2.8954e-05)\n",
      "tensor(9.4368e-05)\n",
      "tensor(2.5503e-05)\n",
      "tensor(3.0291e-05)\n",
      "tensor(0.)\n",
      "tensor(3.2087e-05)\n",
      "tensor(7.7823e-05)\n",
      "tensor(1.7027e-05)\n",
      "tensor(3.9639e-05)\n",
      "tensor(3.2913e-05)\n",
      "tensor(3.0531e-05)\n",
      "tensor(0.0001)\n",
      "tensor(3.6519e-05)\n",
      "tensor(2.7692e-05)\n",
      "tensor(3.2087e-05)\n",
      "tensor(0.)\n",
      "tensor(9.6944e-05)\n",
      "tensor(4.2441e-05)\n",
      "tensor(2.7869e-05)\n",
      "tensor(2.2288e-05)\n",
      "tensor(0.0001)\n",
      "tensor(0.0002)\n",
      "tensor(7.2084e-05)\n",
      "tensor(8.7444e-05)\n",
      "tensor(7.7823e-05)\n",
      "tensor(9.6944e-05)\n",
      "tensor(0.)\n",
      "tensor(3.8880e-05)\n",
      "tensor(8.0187e-05)\n",
      "tensor(0.0001)\n",
      "tensor(4.8770e-05)\n",
      "tensor(0.0001)\n",
      "tensor(3.0076e-05)\n",
      "tensor(3.4494e-05)\n",
      "tensor(1.7027e-05)\n",
      "tensor(4.2441e-05)\n",
      "tensor(3.8880e-05)\n",
      "tensor(0.)\n",
      "tensor(4.9208e-05)\n",
      "tensor(4.0024e-05)\n",
      "tensor(4.7483e-05)\n",
      "tensor(0.0001)\n",
      "tensor(3.7101e-05)\n",
      "tensor(5.8184e-05)\n",
      "tensor(3.9639e-05)\n",
      "tensor(2.7869e-05)\n",
      "tensor(8.0187e-05)\n",
      "tensor(4.9208e-05)\n",
      "tensor(0.)\n",
      "tensor(4.7133e-05)\n",
      "tensor(2.6867e-05)\n",
      "tensor(8.9060e-05)\n",
      "tensor(4.3030e-05)\n",
      "tensor(4.5052e-05)\n",
      "tensor(3.2913e-05)\n",
      "tensor(2.2288e-05)\n",
      "tensor(0.0001)\n",
      "tensor(4.0024e-05)\n",
      "tensor(4.7133e-05)\n",
      "tensor(0.)\n"
     ]
    }
   ],
   "source": [
    "for i in range(num_tags):\n",
    "    for j in range(num_tags):\n",
    "        print(\n",
    "            torch.sum(\n",
    "                (\n",
    "                    model.std_shift(torch.Tensor([i]).long().to(device)).cpu().detach() - \\\n",
    "                    model.std_shift(torch.Tensor([j]).long().to(device)).cpu().detach()\n",
    "                )**2\n",
    "            )\n",
    "    )"
   ]
  },
  {
   "cell_type": "code",
   "execution_count": 46,
   "metadata": {},
   "outputs": [
    {
     "data": {
      "text/plain": [
       "<matplotlib.image.AxesImage at 0x7f22c037bd70>"
      ]
     },
     "execution_count": 46,
     "metadata": {},
     "output_type": "execute_result"
    },
    {
     "data": {
      "image/png": "[encoded data removed]",
      "text/plain": [
       "<Figure size 640x480 with 1 Axes>"
      ]
     },
     "metadata": {},
     "output_type": "display_data"
    }
   ],
   "source": [
    "plt.imshow(model.gen(\n",
    "    torch.Tensor([2]).long().to(device),torch.normal(0,1,size=(1,Z_DIM)).to(device)\n",
    ").cpu().view(*img_shape).detach().numpy(), cmap='gray') "
   ]
  }
 ],
 "metadata": {
  "kernelspec": {
   "display_name": "3.12",
   "language": "python",
   "name": "python3"
  },
  "language_info": {
   "codemirror_mode": {
    "name": "ipython",
    "version": 3
   },
   "file_extension": ".py",
   "mimetype": "text/x-python",
   "name": "python",
   "nbconvert_exporter": "python",
   "pygments_lexer": "ipython3",
   "version": "3.12.8"
  }
 },
 "nbformat": 4,
 "nbformat_minor": 2
}
