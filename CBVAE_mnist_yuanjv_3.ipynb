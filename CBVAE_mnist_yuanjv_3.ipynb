{
 "cells": [
  {
   "cell_type": "code",
   "execution_count": 1,
   "metadata": {},
   "outputs": [],
   "source": [
    "def mul(*v):\n",
    "    ret=1\n",
    "    for x in v:\n",
    "        ret*=x\n",
    "    return ret"
   ]
  },
  {
   "cell_type": "code",
   "execution_count": 2,
   "metadata": {},
   "outputs": [
    {
     "data": {
      "text/plain": [
       "device(type='cuda')"
      ]
     },
     "execution_count": 2,
     "metadata": {},
     "output_type": "execute_result"
    }
   ],
   "source": [
    "import torch\n",
    "import torch.nn as nn\n",
    "import torch.nn.functional as F\n",
    "import torchvision\n",
    "from torchvision import transforms\n",
    "#from torchvision.utils import save_image\n",
    "#from tqdm import tqdm\n",
    "\n",
    "#from torchsummary import summary\n",
    "from matplotlib import pyplot as plt\n",
    "import numpy as np\n",
    "#import cv2\n",
    "\n",
    "device = torch.device('cuda' if torch.cuda.is_available() else 'cpu')\n",
    "device"
   ]
  },
  {
   "cell_type": "code",
   "execution_count": 3,
   "metadata": {},
   "outputs": [],
   "source": [
    "SEED=42"
   ]
  },
  {
   "cell_type": "code",
   "execution_count": 4,
   "metadata": {},
   "outputs": [],
   "source": [
    "l = torchvision.datasets.MNIST(root='./mnist_data/', train = True, download = True, transform = transforms.ToTensor())\n",
    "t = torchvision.datasets.MNIST(root='./mnist_data/', train = False, download = True, transform = transforms.ToTensor())"
   ]
  },
  {
   "cell_type": "code",
   "execution_count": 5,
   "metadata": {},
   "outputs": [
    {
     "data": {
      "text/plain": [
       "(torch.Size([60000, 28, 28]), torch.Size([60000]))"
      ]
     },
     "execution_count": 5,
     "metadata": {},
     "output_type": "execute_result"
    }
   ],
   "source": [
    "l.data.shape,l.targets.shape"
   ]
  },
  {
   "cell_type": "code",
   "execution_count": 6,
   "metadata": {},
   "outputs": [
    {
     "data": {
      "text/plain": [
       "(torch.Size([28, 28]), tensor(5))"
      ]
     },
     "execution_count": 6,
     "metadata": {},
     "output_type": "execute_result"
    }
   ],
   "source": [
    "l.data[0].shape,l.targets[0]"
   ]
  },
  {
   "cell_type": "code",
   "execution_count": 7,
   "metadata": {},
   "outputs": [
    {
     "data": {
      "text/plain": [
       "((28, 28), 784)"
      ]
     },
     "execution_count": 7,
     "metadata": {},
     "output_type": "execute_result"
    }
   ],
   "source": [
    "img_shape=tuple(l.data[0].shape)\n",
    "img_dim=mul(*img_shape)\n",
    "img_shape,img_dim"
   ]
  },
  {
   "cell_type": "code",
   "execution_count": 8,
   "metadata": {},
   "outputs": [],
   "source": [
    "x_l=l.data.numpy()\n",
    "y_l=l.targets.numpy()\n",
    "x_t=t.data.numpy()\n",
    "y_t=t.targets.numpy()"
   ]
  },
  {
   "cell_type": "code",
   "execution_count": 9,
   "metadata": {},
   "outputs": [],
   "source": [
    "IMG_DTYPE=np.float32\n",
    "\n",
    "#training set\n",
    "yl=y_l #get selected imgs\n",
    "xl=x_l.astype(IMG_DTYPE)/255 #color 0~255\n",
    "\n",
    "#testing set\n",
    "T_SIZE=1000\n",
    "yt=y_t[:T_SIZE]\n",
    "xt=x_t[:T_SIZE].astype(IMG_DTYPE)/255"
   ]
  },
  {
   "cell_type": "code",
   "execution_count": 10,
   "metadata": {},
   "outputs": [
    {
     "data": {
      "text/plain": [
       "<matplotlib.image.AxesImage at 0x7f5c602a6540>"
      ]
     },
     "execution_count": 10,
     "metadata": {},
     "output_type": "execute_result"
    },
    {
     "data": {
      "image/png": "[encoded data removed]",
      "text/plain": [
       "<Figure size 640x480 with 1 Axes>"
      ]
     },
     "metadata": {},
     "output_type": "display_data"
    }
   ],
   "source": [
    "plt.imshow(xl[0], cmap='gray') "
   ]
  },
  {
   "cell_type": "code",
   "execution_count": 11,
   "metadata": {},
   "outputs": [],
   "source": [
    "L_BATCH_SIZE=64\n",
    "T_BATCH_SIZE=100\n",
    "\n",
    "\n",
    "#create dataloaders\n",
    "ld=torch.utils.data.DataLoader(\n",
    "    list(zip(xl,yl)),shuffle=True,batch_size=L_BATCH_SIZE\n",
    ")\n",
    "td=torch.utils.data.DataLoader(\n",
    "    list(zip(xt,yt)),shuffle=True,batch_size=T_BATCH_SIZE\n",
    ")"
   ]
  },
  {
   "cell_type": "code",
   "execution_count": 12,
   "metadata": {},
   "outputs": [],
   "source": [
    "Z_DIM=16\n",
    "MID_DIM=256\n",
    "num_tags=len(set(yl))\n",
    "\n",
    "class VAE(nn.Module):\n",
    "    def __init__(self,z_dim=Z_DIM,mid_dim=MID_DIM,num_tags=num_tags):\n",
    "        super().__init__()\n",
    "        self.fc1 = nn.Linear(img_dim, mid_dim)\n",
    "        \n",
    "        self.fc21 = nn.Linear(mid_dim,z_dim) #mu (mean)\n",
    "        self.fc22 = nn.Linear(mid_dim, z_dim) #sigma (std)\n",
    "\n",
    "\n",
    "        self.fc3 = nn.Linear(z_dim, mid_dim)\n",
    "        self.fc4 = nn.Linear(mid_dim,img_dim)\n",
    "\n",
    "        self.mu_shift = nn.Embedding(num_tags, z_dim)\n",
    "        self.std_shift = nn.Embedding(num_tags, z_dim)\n",
    "        \n",
    "    def encode(self,x):\n",
    "        x=torch.relu(self.fc1(x))\n",
    "        return self.fc21(x),self.fc22(x)\n",
    "\n",
    "    def decode(self,z):\n",
    "        return F.sigmoid(\n",
    "            self.fc4(\n",
    "                torch.relu(\n",
    "                    self.fc3(\n",
    "                        z\n",
    "                    )\n",
    "                )\n",
    "            )\n",
    "        )\n",
    "    \n",
    "    def gen(self,tag,e=0):\n",
    "        return self.decode(\n",
    "            self.mu_shift(tag)+e*self.std_shift(tag)\n",
    "        )\n",
    "\n",
    "\n",
    "\n",
    "    def forward(self, x, tag):\n",
    "        mu, log_std = self.encode(\n",
    "            x.view(-1, img_dim)\n",
    "        )\n",
    "        std=torch.exp(log_std*0.5)\n",
    "        z=self.mu_shift(tag)+mu+self.std_shift(tag)*std*torch.randn_like(std)\n",
    "        return self.decode(z),mu,std,log_std"
   ]
  },
  {
   "cell_type": "code",
   "execution_count": 13,
   "metadata": {},
   "outputs": [],
   "source": [
    "def loss_fn(x, y, mu, std, log_std): \n",
    "    '''BCE + KLD'''\n",
    "    return F.binary_cross_entropy(y, x.view(-1, img_dim), reduction='sum') + \\\n",
    "        torch.sum(1 + log_std - mu**2 - std**2)* -0.5 *2"
   ]
  },
  {
   "cell_type": "code",
   "execution_count": 14,
   "metadata": {},
   "outputs": [],
   "source": [
    "torch.manual_seed(SEED)\n",
    "model=VAE().to(device)\n",
    "op=torch.optim.Adam(\n",
    "    model.parameters(),\n",
    "    lr=0.002\n",
    ")"
   ]
  },
  {
   "cell_type": "code",
   "execution_count": 15,
   "metadata": {},
   "outputs": [],
   "source": [
    "I=torch.eye(Z_DIM).to(device)*99"
   ]
  },
  {
   "cell_type": "code",
   "execution_count": 16,
   "metadata": {},
   "outputs": [],
   "source": [
    "def l_step(\n",
    "    model: torch.nn.Module,\n",
    "    dl: torch.utils.data.DataLoader,\n",
    "    loss_fn: torch.nn.Module,\n",
    "    op: torch.optim.Optimizer,\n",
    "    epochs:int=50\n",
    "):\n",
    "    # Put model in train mode\n",
    "    model.train()\n",
    "\n",
    "    for epoch in range(epochs):\n",
    "        epoch_loss = 0\n",
    "        for batch_idx,(x,tag) in enumerate(dl):\n",
    "            \n",
    "            x,tag=x.to(device),tag.to(device)\n",
    "            #print(type(tag))\n",
    "\n",
    "            # 1. Forward pass\n",
    "            y,mu,std,log_std = model(x,tag)\n",
    "\n",
    "            # 2. Caculate the loss\n",
    "            loss=loss_fn(x,y,mu,std,log_std)\n",
    "\n",
    "            # 3. Optimizer zero grad\n",
    "            op.zero_grad()\n",
    "\n",
    "            # 4. Loss backward\n",
    "            loss.backward()\n",
    "\n",
    "            # 5. Optimizer step\n",
    "            op.step()\n",
    "\n",
    "            epoch_loss+=loss.item()\n",
    "        \n",
    "        if epoch%10==0:\n",
    "            print(epoch_loss)\n",
    "            \n",
    "    model.eval()\n"
   ]
  },
  {
   "cell_type": "code",
   "execution_count": 17,
   "metadata": {},
   "outputs": [
    {
     "name": "stdout",
     "output_type": "stream",
     "text": [
      "8049455.354980469\n",
      "4746238.187011719\n",
      "4592154.16015625\n",
      "4512523.099121094\n",
      "4468524.0732421875\n"
     ]
    }
   ],
   "source": [
    "torch.manual_seed(SEED)\n",
    "l_step(\n",
    "    model,\n",
    "    ld,\n",
    "    loss_fn,\n",
    "    op,\n",
    "    100\n",
    ")"
   ]
  },
  {
   "cell_type": "code",
   "execution_count": 18,
   "metadata": {},
   "outputs": [
    {
     "data": {
      "image/png": "[encoded data removed]",
      "text/plain": [
       "<Figure size 800x800 with 16 Axes>"
      ]
     },
     "metadata": {},
     "output_type": "display_data"
    }
   ],
   "source": [
    "\"\"\"\n",
    "sample at mu (stuff after 9 should not carry any meaning)\n",
    "\"\"\"\n",
    "# Create a 3x3 grid of subplots\n",
    "fig, axes = plt.subplots(4, 4, figsize=(8, 8))\n",
    "\n",
    "# Loop through the axes and images\n",
    "for i,ax in zip(range(num_tags),axes.ravel()):\n",
    "    ax.imshow(model.gen(torch.Tensor([i]).long().to(device)).cpu().view(*img_shape).detach().numpy(), cmap='gray')  # Display each image\n",
    "    ax.axis('off')  # Hide axes for better visualization\n",
    "\n",
    "plt.tight_layout()\n",
    "plt.show()"
   ]
  },
  {
   "cell_type": "code",
   "execution_count": 19,
   "metadata": {},
   "outputs": [
    {
     "data": {
      "text/plain": [
       "<matplotlib.image.AxesImage at 0x7f5b14e87110>"
      ]
     },
     "execution_count": 19,
     "metadata": {},
     "output_type": "execute_result"
    },
    {
     "data": {
      "image/png": "[encoded data removed]",
      "text/plain": [
       "<Figure size 640x480 with 1 Axes>"
      ]
     },
     "metadata": {},
     "output_type": "display_data"
    }
   ],
   "source": [
    "plt.imshow(model.gen(\n",
    "    torch.Tensor([6]).long().to(device),torch.normal(0,1,size=(1,Z_DIM)).to(device)\n",
    ").cpu().view(*img_shape).detach().numpy(), cmap='gray') "
   ]
  },
  {
   "cell_type": "code",
   "execution_count": 20,
   "metadata": {},
   "outputs": [
    {
     "name": "stdout",
     "output_type": "stream",
     "text": [
      "tensor(0.)\n",
      "tensor(0.0640)\n",
      "tensor(0.0425)\n",
      "tensor(4.1311)\n",
      "tensor(4.2456)\n",
      "tensor(5.9337)\n",
      "tensor(0.0766)\n",
      "tensor(5.6943)\n",
      "tensor(0.0670)\n",
      "tensor(2.6138)\n",
      "tensor(0.0640)\n",
      "tensor(0.)\n",
      "tensor(0.0617)\n",
      "tensor(3.9946)\n",
      "tensor(3.7718)\n",
      "tensor(5.5100)\n",
      "tensor(0.1030)\n",
      "tensor(5.1225)\n",
      "tensor(0.1012)\n",
      "tensor(2.3112)\n",
      "tensor(0.0425)\n",
      "tensor(0.0617)\n",
      "tensor(0.)\n",
      "tensor(4.0914)\n",
      "tensor(4.0461)\n",
      "tensor(5.6753)\n",
      "tensor(0.1504)\n",
      "tensor(5.6072)\n",
      "tensor(0.0409)\n",
      "tensor(2.3555)\n",
      "tensor(4.1311)\n",
      "tensor(3.9946)\n",
      "tensor(4.0914)\n",
      "tensor(0.)\n",
      "tensor(5.0245)\n",
      "tensor(7.0603)\n",
      "tensor(4.1128)\n",
      "tensor(3.2229)\n",
      "tensor(3.9984)\n",
      "tensor(4.0678)\n",
      "tensor(4.2456)\n",
      "tensor(3.7718)\n",
      "tensor(4.0461)\n",
      "tensor(5.0245)\n",
      "tensor(0.)\n",
      "tensor(4.3651)\n",
      "tensor(4.0676)\n",
      "tensor(5.2103)\n",
      "tensor(3.9882)\n",
      "tensor(1.7344)\n",
      "tensor(5.9337)\n",
      "tensor(5.5100)\n",
      "tensor(5.6753)\n",
      "tensor(7.0603)\n",
      "tensor(4.3651)\n",
      "tensor(0.)\n",
      "tensor(5.8330)\n",
      "tensor(7.6629)\n",
      "tensor(5.5139)\n",
      "tensor(2.4671)\n",
      "tensor(0.0766)\n",
      "tensor(0.1030)\n",
      "tensor(0.1504)\n",
      "tensor(4.1128)\n",
      "tensor(4.0676)\n",
      "tensor(5.8330)\n",
      "tensor(0.)\n",
      "tensor(5.9849)\n",
      "tensor(0.1415)\n",
      "tensor(2.7588)\n",
      "tensor(5.6943)\n",
      "tensor(5.1225)\n",
      "tensor(5.6072)\n",
      "tensor(3.2229)\n",
      "tensor(5.2103)\n",
      "tensor(7.6629)\n",
      "tensor(5.9849)\n",
      "tensor(0.)\n",
      "tensor(5.8625)\n",
      "tensor(5.0488)\n",
      "tensor(0.0670)\n",
      "tensor(0.1012)\n",
      "tensor(0.0409)\n",
      "tensor(3.9984)\n",
      "tensor(3.9882)\n",
      "tensor(5.5139)\n",
      "tensor(0.1415)\n",
      "tensor(5.8625)\n",
      "tensor(0.)\n",
      "tensor(2.2988)\n",
      "tensor(2.6138)\n",
      "tensor(2.3112)\n",
      "tensor(2.3555)\n",
      "tensor(4.0678)\n",
      "tensor(1.7344)\n",
      "tensor(2.4671)\n",
      "tensor(2.7588)\n",
      "tensor(5.0488)\n",
      "tensor(2.2988)\n",
      "tensor(0.)\n"
     ]
    }
   ],
   "source": [
    "for i in range(num_tags):\n",
    "    for j in range(num_tags):\n",
    "        print(\n",
    "            torch.sum(\n",
    "                (\n",
    "                    model.mu_shift(torch.Tensor([i]).long().to(device)).cpu().detach() - \\\n",
    "                    model.mu_shift(torch.Tensor([j]).long().to(device)).cpu().detach()\n",
    "                )**2\n",
    "            )\n",
    "    )"
   ]
  },
  {
   "cell_type": "code",
   "execution_count": 21,
   "metadata": {},
   "outputs": [
    {
     "name": "stdout",
     "output_type": "stream",
     "text": [
      "tensor(0.)\n",
      "tensor(0.0005)\n",
      "tensor(0.0005)\n",
      "tensor(0.0003)\n",
      "tensor(0.0005)\n",
      "tensor(0.0005)\n",
      "tensor(0.0002)\n",
      "tensor(0.0005)\n",
      "tensor(0.0005)\n",
      "tensor(0.0005)\n",
      "tensor(0.0005)\n",
      "tensor(0.)\n",
      "tensor(0.0003)\n",
      "tensor(0.0005)\n",
      "tensor(0.0006)\n",
      "tensor(0.0007)\n",
      "tensor(0.0006)\n",
      "tensor(0.0007)\n",
      "tensor(0.0010)\n",
      "tensor(0.0005)\n",
      "tensor(0.0005)\n",
      "tensor(0.0003)\n",
      "tensor(0.)\n",
      "tensor(0.0005)\n",
      "tensor(0.0007)\n",
      "tensor(0.0005)\n",
      "tensor(0.0005)\n",
      "tensor(0.0004)\n",
      "tensor(0.0010)\n",
      "tensor(0.0004)\n",
      "tensor(0.0003)\n",
      "tensor(0.0005)\n",
      "tensor(0.0005)\n",
      "tensor(0.)\n",
      "tensor(0.0006)\n",
      "tensor(0.0006)\n",
      "tensor(0.0004)\n",
      "tensor(0.0005)\n",
      "tensor(0.0010)\n",
      "tensor(0.0004)\n",
      "tensor(0.0005)\n",
      "tensor(0.0006)\n",
      "tensor(0.0007)\n",
      "tensor(0.0006)\n",
      "tensor(0.)\n",
      "tensor(0.0009)\n",
      "tensor(0.0008)\n",
      "tensor(0.0007)\n",
      "tensor(0.0007)\n",
      "tensor(0.0003)\n",
      "tensor(0.0005)\n",
      "tensor(0.0007)\n",
      "tensor(0.0005)\n",
      "tensor(0.0006)\n",
      "tensor(0.0009)\n",
      "tensor(0.)\n",
      "tensor(0.0006)\n",
      "tensor(0.0006)\n",
      "tensor(0.0007)\n",
      "tensor(0.0005)\n",
      "tensor(0.0002)\n",
      "tensor(0.0006)\n",
      "tensor(0.0005)\n",
      "tensor(0.0004)\n",
      "tensor(0.0008)\n",
      "tensor(0.0006)\n",
      "tensor(0.)\n",
      "tensor(0.0005)\n",
      "tensor(0.0008)\n",
      "tensor(0.0005)\n",
      "tensor(0.0005)\n",
      "tensor(0.0007)\n",
      "tensor(0.0004)\n",
      "tensor(0.0005)\n",
      "tensor(0.0007)\n",
      "tensor(0.0006)\n",
      "tensor(0.0005)\n",
      "tensor(0.)\n",
      "tensor(0.0008)\n",
      "tensor(0.0003)\n",
      "tensor(0.0005)\n",
      "tensor(0.0010)\n",
      "tensor(0.0010)\n",
      "tensor(0.0010)\n",
      "tensor(0.0007)\n",
      "tensor(0.0007)\n",
      "tensor(0.0008)\n",
      "tensor(0.0008)\n",
      "tensor(0.)\n",
      "tensor(0.0006)\n",
      "tensor(0.0005)\n",
      "tensor(0.0005)\n",
      "tensor(0.0004)\n",
      "tensor(0.0004)\n",
      "tensor(0.0003)\n",
      "tensor(0.0005)\n",
      "tensor(0.0005)\n",
      "tensor(0.0003)\n",
      "tensor(0.0006)\n",
      "tensor(0.)\n"
     ]
    }
   ],
   "source": [
    "for i in range(num_tags):\n",
    "    for j in range(num_tags):\n",
    "        print(\n",
    "            torch.sum(\n",
    "                (\n",
    "                    model.std_shift(torch.Tensor([i]).long().to(device)).cpu().detach() - \\\n",
    "                    model.std_shift(torch.Tensor([j]).long().to(device)).cpu().detach()\n",
    "                )**2\n",
    "            )\n",
    "    )"
   ]
  }
 ],
 "metadata": {
  "kernelspec": {
   "display_name": "3.12",
   "language": "python",
   "name": "python3"
  },
  "language_info": {
   "codemirror_mode": {
    "name": "ipython",
    "version": 3
   },
   "file_extension": ".py",
   "mimetype": "text/x-python",
   "name": "python",
   "nbconvert_exporter": "python",
   "pygments_lexer": "ipython3",
   "version": "3.12.8"
  }
 },
 "nbformat": 4,
 "nbformat_minor": 2
}
